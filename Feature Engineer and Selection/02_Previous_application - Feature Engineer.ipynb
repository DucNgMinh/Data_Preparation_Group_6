{
 "cells": [
  {
   "cell_type": "code",
   "execution_count": 29,
   "metadata": {
    "collapsed": true
   },
   "outputs": [],
   "source": [
    "import numpy as np\n",
    "import pandas as pd\n",
    "import matplotlib.pyplot as plt\n",
    "import seaborn as sns\n",
    "import re\n",
    "sns.set_theme()\n",
    "import warnings\n",
    "warnings.filterwarnings('ignore')"
   ]
  },
  {
   "cell_type": "code",
   "execution_count": 30,
   "outputs": [
    {
     "data": {
      "text/plain": "         SK_ID_PREV  SK_ID_CURR NAME_CONTRACT_TYPE  AMT_ANNUITY  \\\n0           2030495      271877     Consumer loans     1730.430   \n1           2802425      108129         Cash loans    25188.615   \n2           2523466      122040         Cash loans    15060.735   \n3           2819243      176158         Cash loans    47041.335   \n4           1784265      202054         Cash loans    31924.395   \n...             ...         ...                ...          ...   \n1670209     2300464      352015     Consumer loans    14704.290   \n1670210     2357031      334635     Consumer loans     6622.020   \n1670211     2659632      249544     Consumer loans    11520.855   \n1670212     2785582      400317         Cash loans    18821.520   \n1670213     2418762      261212         Cash loans    16431.300   \n\n         AMT_APPLICATION  AMT_CREDIT  AMT_DOWN_PAYMENT  AMT_GOODS_PRICE  \\\n0                17145.0     17145.0               0.0          17145.0   \n1               607500.0    679671.0               NaN         607500.0   \n2               112500.0    136444.5               NaN         112500.0   \n3               450000.0    470790.0               NaN         450000.0   \n4               337500.0    404055.0               NaN         337500.0   \n...                  ...         ...               ...              ...   \n1670209         267295.5    311400.0               0.0         267295.5   \n1670210          87750.0     64291.5           29250.0          87750.0   \n1670211         105237.0    102523.5           10525.5         105237.0   \n1670212         180000.0    191880.0               NaN         180000.0   \n1670213         360000.0    360000.0               NaN         360000.0   \n\n        WEEKDAY_APPR_PROCESS_START  HOUR_APPR_PROCESS_START  ...  \\\n0                         SATURDAY                       15  ...   \n1                         THURSDAY                       11  ...   \n2                          TUESDAY                       11  ...   \n3                           MONDAY                        7  ...   \n4                         THURSDAY                        9  ...   \n...                            ...                      ...  ...   \n1670209                  WEDNESDAY                       12  ...   \n1670210                    TUESDAY                       15  ...   \n1670211                     MONDAY                       12  ...   \n1670212                  WEDNESDAY                        9  ...   \n1670213                     SUNDAY                       10  ...   \n\n         NAME_SELLER_INDUSTRY  CNT_PAYMENT  NAME_YIELD_GROUP  \\\n0                Connectivity         12.0            middle   \n1                         XNA         36.0        low_action   \n2                         XNA         12.0              high   \n3                         XNA         12.0            middle   \n4                         XNA         24.0              high   \n...                       ...          ...               ...   \n1670209             Furniture         30.0        low_normal   \n1670210             Furniture         12.0            middle   \n1670211  Consumer electronics         10.0        low_normal   \n1670212                   XNA         12.0        low_normal   \n1670213                   XNA         48.0            middle   \n\n                 PRODUCT_COMBINATION  DAYS_FIRST_DRAWING DAYS_FIRST_DUE  \\\n0           POS mobile with interest            365243.0          -42.0   \n1                   Cash X-Sell: low            365243.0         -134.0   \n2                  Cash X-Sell: high            365243.0         -271.0   \n3                Cash X-Sell: middle            365243.0         -482.0   \n4                  Cash Street: high                 NaN            NaN   \n...                              ...                 ...            ...   \n1670209   POS industry with interest            365243.0         -508.0   \n1670210   POS industry with interest            365243.0        -1604.0   \n1670211  POS household with interest            365243.0        -1457.0   \n1670212             Cash X-Sell: low            365243.0        -1155.0   \n1670213          Cash X-Sell: middle            365243.0        -1163.0   \n\n        DAYS_LAST_DUE_1ST_VERSION  DAYS_LAST_DUE DAYS_TERMINATION  \\\n0                           300.0          -42.0            -37.0   \n1                           916.0       365243.0         365243.0   \n2                            59.0       365243.0         365243.0   \n3                          -152.0         -182.0           -177.0   \n4                             NaN            NaN              NaN   \n...                           ...            ...              ...   \n1670209                     362.0         -358.0           -351.0   \n1670210                   -1274.0        -1304.0          -1297.0   \n1670211                   -1187.0        -1187.0          -1181.0   \n1670212                    -825.0         -825.0           -817.0   \n1670213                     247.0         -443.0           -423.0   \n\n        NFLAG_INSURED_ON_APPROVAL  \n0                             0.0  \n1                             1.0  \n2                             1.0  \n3                             1.0  \n4                             NaN  \n...                           ...  \n1670209                       0.0  \n1670210                       0.0  \n1670211                       0.0  \n1670212                       1.0  \n1670213                       0.0  \n\n[1670214 rows x 37 columns]",
      "text/html": "<div>\n<style scoped>\n    .dataframe tbody tr th:only-of-type {\n        vertical-align: middle;\n    }\n\n    .dataframe tbody tr th {\n        vertical-align: top;\n    }\n\n    .dataframe thead th {\n        text-align: right;\n    }\n</style>\n<table border=\"1\" class=\"dataframe\">\n  <thead>\n    <tr style=\"text-align: right;\">\n      <th></th>\n      <th>SK_ID_PREV</th>\n      <th>SK_ID_CURR</th>\n      <th>NAME_CONTRACT_TYPE</th>\n      <th>AMT_ANNUITY</th>\n      <th>AMT_APPLICATION</th>\n      <th>AMT_CREDIT</th>\n      <th>AMT_DOWN_PAYMENT</th>\n      <th>AMT_GOODS_PRICE</th>\n      <th>WEEKDAY_APPR_PROCESS_START</th>\n      <th>HOUR_APPR_PROCESS_START</th>\n      <th>...</th>\n      <th>NAME_SELLER_INDUSTRY</th>\n      <th>CNT_PAYMENT</th>\n      <th>NAME_YIELD_GROUP</th>\n      <th>PRODUCT_COMBINATION</th>\n      <th>DAYS_FIRST_DRAWING</th>\n      <th>DAYS_FIRST_DUE</th>\n      <th>DAYS_LAST_DUE_1ST_VERSION</th>\n      <th>DAYS_LAST_DUE</th>\n      <th>DAYS_TERMINATION</th>\n      <th>NFLAG_INSURED_ON_APPROVAL</th>\n    </tr>\n  </thead>\n  <tbody>\n    <tr>\n      <th>0</th>\n      <td>2030495</td>\n      <td>271877</td>\n      <td>Consumer loans</td>\n      <td>1730.430</td>\n      <td>17145.0</td>\n      <td>17145.0</td>\n      <td>0.0</td>\n      <td>17145.0</td>\n      <td>SATURDAY</td>\n      <td>15</td>\n      <td>...</td>\n      <td>Connectivity</td>\n      <td>12.0</td>\n      <td>middle</td>\n      <td>POS mobile with interest</td>\n      <td>365243.0</td>\n      <td>-42.0</td>\n      <td>300.0</td>\n      <td>-42.0</td>\n      <td>-37.0</td>\n      <td>0.0</td>\n    </tr>\n    <tr>\n      <th>1</th>\n      <td>2802425</td>\n      <td>108129</td>\n      <td>Cash loans</td>\n      <td>25188.615</td>\n      <td>607500.0</td>\n      <td>679671.0</td>\n      <td>NaN</td>\n      <td>607500.0</td>\n      <td>THURSDAY</td>\n      <td>11</td>\n      <td>...</td>\n      <td>XNA</td>\n      <td>36.0</td>\n      <td>low_action</td>\n      <td>Cash X-Sell: low</td>\n      <td>365243.0</td>\n      <td>-134.0</td>\n      <td>916.0</td>\n      <td>365243.0</td>\n      <td>365243.0</td>\n      <td>1.0</td>\n    </tr>\n    <tr>\n      <th>2</th>\n      <td>2523466</td>\n      <td>122040</td>\n      <td>Cash loans</td>\n      <td>15060.735</td>\n      <td>112500.0</td>\n      <td>136444.5</td>\n      <td>NaN</td>\n      <td>112500.0</td>\n      <td>TUESDAY</td>\n      <td>11</td>\n      <td>...</td>\n      <td>XNA</td>\n      <td>12.0</td>\n      <td>high</td>\n      <td>Cash X-Sell: high</td>\n      <td>365243.0</td>\n      <td>-271.0</td>\n      <td>59.0</td>\n      <td>365243.0</td>\n      <td>365243.0</td>\n      <td>1.0</td>\n    </tr>\n    <tr>\n      <th>3</th>\n      <td>2819243</td>\n      <td>176158</td>\n      <td>Cash loans</td>\n      <td>47041.335</td>\n      <td>450000.0</td>\n      <td>470790.0</td>\n      <td>NaN</td>\n      <td>450000.0</td>\n      <td>MONDAY</td>\n      <td>7</td>\n      <td>...</td>\n      <td>XNA</td>\n      <td>12.0</td>\n      <td>middle</td>\n      <td>Cash X-Sell: middle</td>\n      <td>365243.0</td>\n      <td>-482.0</td>\n      <td>-152.0</td>\n      <td>-182.0</td>\n      <td>-177.0</td>\n      <td>1.0</td>\n    </tr>\n    <tr>\n      <th>4</th>\n      <td>1784265</td>\n      <td>202054</td>\n      <td>Cash loans</td>\n      <td>31924.395</td>\n      <td>337500.0</td>\n      <td>404055.0</td>\n      <td>NaN</td>\n      <td>337500.0</td>\n      <td>THURSDAY</td>\n      <td>9</td>\n      <td>...</td>\n      <td>XNA</td>\n      <td>24.0</td>\n      <td>high</td>\n      <td>Cash Street: high</td>\n      <td>NaN</td>\n      <td>NaN</td>\n      <td>NaN</td>\n      <td>NaN</td>\n      <td>NaN</td>\n      <td>NaN</td>\n    </tr>\n    <tr>\n      <th>...</th>\n      <td>...</td>\n      <td>...</td>\n      <td>...</td>\n      <td>...</td>\n      <td>...</td>\n      <td>...</td>\n      <td>...</td>\n      <td>...</td>\n      <td>...</td>\n      <td>...</td>\n      <td>...</td>\n      <td>...</td>\n      <td>...</td>\n      <td>...</td>\n      <td>...</td>\n      <td>...</td>\n      <td>...</td>\n      <td>...</td>\n      <td>...</td>\n      <td>...</td>\n      <td>...</td>\n    </tr>\n    <tr>\n      <th>1670209</th>\n      <td>2300464</td>\n      <td>352015</td>\n      <td>Consumer loans</td>\n      <td>14704.290</td>\n      <td>267295.5</td>\n      <td>311400.0</td>\n      <td>0.0</td>\n      <td>267295.5</td>\n      <td>WEDNESDAY</td>\n      <td>12</td>\n      <td>...</td>\n      <td>Furniture</td>\n      <td>30.0</td>\n      <td>low_normal</td>\n      <td>POS industry with interest</td>\n      <td>365243.0</td>\n      <td>-508.0</td>\n      <td>362.0</td>\n      <td>-358.0</td>\n      <td>-351.0</td>\n      <td>0.0</td>\n    </tr>\n    <tr>\n      <th>1670210</th>\n      <td>2357031</td>\n      <td>334635</td>\n      <td>Consumer loans</td>\n      <td>6622.020</td>\n      <td>87750.0</td>\n      <td>64291.5</td>\n      <td>29250.0</td>\n      <td>87750.0</td>\n      <td>TUESDAY</td>\n      <td>15</td>\n      <td>...</td>\n      <td>Furniture</td>\n      <td>12.0</td>\n      <td>middle</td>\n      <td>POS industry with interest</td>\n      <td>365243.0</td>\n      <td>-1604.0</td>\n      <td>-1274.0</td>\n      <td>-1304.0</td>\n      <td>-1297.0</td>\n      <td>0.0</td>\n    </tr>\n    <tr>\n      <th>1670211</th>\n      <td>2659632</td>\n      <td>249544</td>\n      <td>Consumer loans</td>\n      <td>11520.855</td>\n      <td>105237.0</td>\n      <td>102523.5</td>\n      <td>10525.5</td>\n      <td>105237.0</td>\n      <td>MONDAY</td>\n      <td>12</td>\n      <td>...</td>\n      <td>Consumer electronics</td>\n      <td>10.0</td>\n      <td>low_normal</td>\n      <td>POS household with interest</td>\n      <td>365243.0</td>\n      <td>-1457.0</td>\n      <td>-1187.0</td>\n      <td>-1187.0</td>\n      <td>-1181.0</td>\n      <td>0.0</td>\n    </tr>\n    <tr>\n      <th>1670212</th>\n      <td>2785582</td>\n      <td>400317</td>\n      <td>Cash loans</td>\n      <td>18821.520</td>\n      <td>180000.0</td>\n      <td>191880.0</td>\n      <td>NaN</td>\n      <td>180000.0</td>\n      <td>WEDNESDAY</td>\n      <td>9</td>\n      <td>...</td>\n      <td>XNA</td>\n      <td>12.0</td>\n      <td>low_normal</td>\n      <td>Cash X-Sell: low</td>\n      <td>365243.0</td>\n      <td>-1155.0</td>\n      <td>-825.0</td>\n      <td>-825.0</td>\n      <td>-817.0</td>\n      <td>1.0</td>\n    </tr>\n    <tr>\n      <th>1670213</th>\n      <td>2418762</td>\n      <td>261212</td>\n      <td>Cash loans</td>\n      <td>16431.300</td>\n      <td>360000.0</td>\n      <td>360000.0</td>\n      <td>NaN</td>\n      <td>360000.0</td>\n      <td>SUNDAY</td>\n      <td>10</td>\n      <td>...</td>\n      <td>XNA</td>\n      <td>48.0</td>\n      <td>middle</td>\n      <td>Cash X-Sell: middle</td>\n      <td>365243.0</td>\n      <td>-1163.0</td>\n      <td>247.0</td>\n      <td>-443.0</td>\n      <td>-423.0</td>\n      <td>0.0</td>\n    </tr>\n  </tbody>\n</table>\n<p>1670214 rows × 37 columns</p>\n</div>"
     },
     "execution_count": 30,
     "metadata": {},
     "output_type": "execute_result"
    }
   ],
   "source": [
    "prev_df = pd.read_csv(\"home-credit-default-risk\\previous_application.csv\")\n",
    "prev_df"
   ],
   "metadata": {
    "collapsed": false
   }
  },
  {
   "cell_type": "code",
   "execution_count": 31,
   "outputs": [
    {
     "data": {
      "text/plain": "0"
     },
     "execution_count": 31,
     "metadata": {},
     "output_type": "execute_result"
    }
   ],
   "source": [
    "prev_df.duplicated().sum()"
   ],
   "metadata": {
    "collapsed": false
   }
  },
  {
   "cell_type": "code",
   "execution_count": 32,
   "outputs": [
    {
     "data": {
      "text/plain": "                      Feature  Percentage\n0       RATE_INTEREST_PRIMARY   99.643698\n1    RATE_INTEREST_PRIVILEGED   99.643698\n2            AMT_DOWN_PAYMENT   53.636480\n3           RATE_DOWN_PAYMENT   53.636480\n4             NAME_TYPE_SUITE   49.119754\n5          DAYS_FIRST_DRAWING   40.298129\n6              DAYS_FIRST_DUE   40.298129\n7   DAYS_LAST_DUE_1ST_VERSION   40.298129\n8               DAYS_LAST_DUE   40.298129\n9            DAYS_TERMINATION   40.298129\n10  NFLAG_INSURED_ON_APPROVAL   40.298129\n11            AMT_GOODS_PRICE   23.081773\n12                AMT_ANNUITY   22.286665\n13                CNT_PAYMENT   22.286366\n14        PRODUCT_COMBINATION    0.020716\n15                 AMT_CREDIT    0.000060",
      "text/html": "<div>\n<style scoped>\n    .dataframe tbody tr th:only-of-type {\n        vertical-align: middle;\n    }\n\n    .dataframe tbody tr th {\n        vertical-align: top;\n    }\n\n    .dataframe thead th {\n        text-align: right;\n    }\n</style>\n<table border=\"1\" class=\"dataframe\">\n  <thead>\n    <tr style=\"text-align: right;\">\n      <th></th>\n      <th>Feature</th>\n      <th>Percentage</th>\n    </tr>\n  </thead>\n  <tbody>\n    <tr>\n      <th>0</th>\n      <td>RATE_INTEREST_PRIMARY</td>\n      <td>99.643698</td>\n    </tr>\n    <tr>\n      <th>1</th>\n      <td>RATE_INTEREST_PRIVILEGED</td>\n      <td>99.643698</td>\n    </tr>\n    <tr>\n      <th>2</th>\n      <td>AMT_DOWN_PAYMENT</td>\n      <td>53.636480</td>\n    </tr>\n    <tr>\n      <th>3</th>\n      <td>RATE_DOWN_PAYMENT</td>\n      <td>53.636480</td>\n    </tr>\n    <tr>\n      <th>4</th>\n      <td>NAME_TYPE_SUITE</td>\n      <td>49.119754</td>\n    </tr>\n    <tr>\n      <th>5</th>\n      <td>DAYS_FIRST_DRAWING</td>\n      <td>40.298129</td>\n    </tr>\n    <tr>\n      <th>6</th>\n      <td>DAYS_FIRST_DUE</td>\n      <td>40.298129</td>\n    </tr>\n    <tr>\n      <th>7</th>\n      <td>DAYS_LAST_DUE_1ST_VERSION</td>\n      <td>40.298129</td>\n    </tr>\n    <tr>\n      <th>8</th>\n      <td>DAYS_LAST_DUE</td>\n      <td>40.298129</td>\n    </tr>\n    <tr>\n      <th>9</th>\n      <td>DAYS_TERMINATION</td>\n      <td>40.298129</td>\n    </tr>\n    <tr>\n      <th>10</th>\n      <td>NFLAG_INSURED_ON_APPROVAL</td>\n      <td>40.298129</td>\n    </tr>\n    <tr>\n      <th>11</th>\n      <td>AMT_GOODS_PRICE</td>\n      <td>23.081773</td>\n    </tr>\n    <tr>\n      <th>12</th>\n      <td>AMT_ANNUITY</td>\n      <td>22.286665</td>\n    </tr>\n    <tr>\n      <th>13</th>\n      <td>CNT_PAYMENT</td>\n      <td>22.286366</td>\n    </tr>\n    <tr>\n      <th>14</th>\n      <td>PRODUCT_COMBINATION</td>\n      <td>0.020716</td>\n    </tr>\n    <tr>\n      <th>15</th>\n      <td>AMT_CREDIT</td>\n      <td>0.000060</td>\n    </tr>\n  </tbody>\n</table>\n</div>"
     },
     "execution_count": 32,
     "metadata": {},
     "output_type": "execute_result"
    }
   ],
   "source": [
    "def check_missed_values(df):\n",
    "    df_null_percentage = df.isnull().sum() / df.shape[0] * 100\n",
    "    df_null_percentage = df_null_percentage.drop(df_null_percentage[df_null_percentage == 0].index).sort_values(ascending= False).reset_index()\n",
    "    df_null_percentage.columns = [\"Feature\", \"Percentage\"]\n",
    "    return df_null_percentage\n",
    "\n",
    "null_df = check_missed_values(prev_df)\n",
    "null_df"
   ],
   "metadata": {
    "collapsed": false
   }
  },
  {
   "cell_type": "code",
   "execution_count": 33,
   "outputs": [],
   "source": [
    "prev_df.drop(labels=[\"RATE_INTEREST_PRIMARY\", \"RATE_INTEREST_PRIVILEGED\"],axis=1, inplace= True)"
   ],
   "metadata": {
    "collapsed": false
   }
  },
  {
   "cell_type": "code",
   "execution_count": 34,
   "outputs": [],
   "source": [
    "prev_df['DAYS_FIRST_DRAWING'].replace(365243, np.nan, inplace=True)\n",
    "prev_df['DAYS_FIRST_DUE'].replace(365243, np.nan, inplace=True)\n",
    "prev_df['DAYS_LAST_DUE_1ST_VERSION'].replace(365243, np.nan, inplace=True)\n",
    "prev_df['DAYS_LAST_DUE'].replace(365243, np.nan, inplace=True)\n",
    "prev_df['DAYS_TERMINATION'].replace(365243, np.nan, inplace=True)\n",
    "prev_df['FLAG_LAST_APPL_PER_CONTRACT'], _ = pd.factorize(prev_df['FLAG_LAST_APPL_PER_CONTRACT'])"
   ],
   "metadata": {
    "collapsed": false
   }
  },
  {
   "cell_type": "code",
   "execution_count": 35,
   "outputs": [
    {
     "data": {
      "text/plain": "                      Feature  Percentage\n0          DAYS_FIRST_DRAWING   96.245691\n1            DAYS_TERMINATION   53.824121\n2            AMT_DOWN_PAYMENT   53.636480\n3           RATE_DOWN_PAYMENT   53.636480\n4               DAYS_LAST_DUE   52.944473\n5             NAME_TYPE_SUITE   49.119754\n6   DAYS_LAST_DUE_1ST_VERSION   45.918008\n7              DAYS_FIRST_DUE   42.731650\n8   NFLAG_INSURED_ON_APPROVAL   40.298129\n9             AMT_GOODS_PRICE   23.081773\n10                AMT_ANNUITY   22.286665\n11                CNT_PAYMENT   22.286366\n12        PRODUCT_COMBINATION    0.020716\n13                 AMT_CREDIT    0.000060",
      "text/html": "<div>\n<style scoped>\n    .dataframe tbody tr th:only-of-type {\n        vertical-align: middle;\n    }\n\n    .dataframe tbody tr th {\n        vertical-align: top;\n    }\n\n    .dataframe thead th {\n        text-align: right;\n    }\n</style>\n<table border=\"1\" class=\"dataframe\">\n  <thead>\n    <tr style=\"text-align: right;\">\n      <th></th>\n      <th>Feature</th>\n      <th>Percentage</th>\n    </tr>\n  </thead>\n  <tbody>\n    <tr>\n      <th>0</th>\n      <td>DAYS_FIRST_DRAWING</td>\n      <td>96.245691</td>\n    </tr>\n    <tr>\n      <th>1</th>\n      <td>DAYS_TERMINATION</td>\n      <td>53.824121</td>\n    </tr>\n    <tr>\n      <th>2</th>\n      <td>AMT_DOWN_PAYMENT</td>\n      <td>53.636480</td>\n    </tr>\n    <tr>\n      <th>3</th>\n      <td>RATE_DOWN_PAYMENT</td>\n      <td>53.636480</td>\n    </tr>\n    <tr>\n      <th>4</th>\n      <td>DAYS_LAST_DUE</td>\n      <td>52.944473</td>\n    </tr>\n    <tr>\n      <th>5</th>\n      <td>NAME_TYPE_SUITE</td>\n      <td>49.119754</td>\n    </tr>\n    <tr>\n      <th>6</th>\n      <td>DAYS_LAST_DUE_1ST_VERSION</td>\n      <td>45.918008</td>\n    </tr>\n    <tr>\n      <th>7</th>\n      <td>DAYS_FIRST_DUE</td>\n      <td>42.731650</td>\n    </tr>\n    <tr>\n      <th>8</th>\n      <td>NFLAG_INSURED_ON_APPROVAL</td>\n      <td>40.298129</td>\n    </tr>\n    <tr>\n      <th>9</th>\n      <td>AMT_GOODS_PRICE</td>\n      <td>23.081773</td>\n    </tr>\n    <tr>\n      <th>10</th>\n      <td>AMT_ANNUITY</td>\n      <td>22.286665</td>\n    </tr>\n    <tr>\n      <th>11</th>\n      <td>CNT_PAYMENT</td>\n      <td>22.286366</td>\n    </tr>\n    <tr>\n      <th>12</th>\n      <td>PRODUCT_COMBINATION</td>\n      <td>0.020716</td>\n    </tr>\n    <tr>\n      <th>13</th>\n      <td>AMT_CREDIT</td>\n      <td>0.000060</td>\n    </tr>\n  </tbody>\n</table>\n</div>"
     },
     "execution_count": 35,
     "metadata": {},
     "output_type": "execute_result"
    }
   ],
   "source": [
    "check_missed_values(prev_df)"
   ],
   "metadata": {
    "collapsed": false
   }
  },
  {
   "cell_type": "code",
   "execution_count": 36,
   "outputs": [],
   "source": [
    "prev_df.drop(labels=[\"DAYS_FIRST_DRAWING\"],axis=1, inplace= True)\n",
    "prev_df[\"AMT_CREDIT\"].fillna(0, inplace= True)\n",
    "prev_df[\"PRODUCT_COMBINATION\"].fillna(prev_df[\"PRODUCT_COMBINATION\"].mode()[0],inplace= True)\n",
    "prev_df[\"AMT_GOODS_PRICE\"].fillna(0, inplace= True)\n",
    "prev_df[\"NFLAG_INSURED_ON_APPROVAL\"].fillna(0, inplace= True)"
   ],
   "metadata": {
    "collapsed": false
   }
  },
  {
   "cell_type": "code",
   "execution_count": 37,
   "outputs": [
    {
     "data": {
      "text/plain": "                     Feature  Percentage\n0           DAYS_TERMINATION   53.824121\n1           AMT_DOWN_PAYMENT   53.636480\n2          RATE_DOWN_PAYMENT   53.636480\n3              DAYS_LAST_DUE   52.944473\n4            NAME_TYPE_SUITE   49.119754\n5  DAYS_LAST_DUE_1ST_VERSION   45.918008\n6             DAYS_FIRST_DUE   42.731650\n7                AMT_ANNUITY   22.286665\n8                CNT_PAYMENT   22.286366",
      "text/html": "<div>\n<style scoped>\n    .dataframe tbody tr th:only-of-type {\n        vertical-align: middle;\n    }\n\n    .dataframe tbody tr th {\n        vertical-align: top;\n    }\n\n    .dataframe thead th {\n        text-align: right;\n    }\n</style>\n<table border=\"1\" class=\"dataframe\">\n  <thead>\n    <tr style=\"text-align: right;\">\n      <th></th>\n      <th>Feature</th>\n      <th>Percentage</th>\n    </tr>\n  </thead>\n  <tbody>\n    <tr>\n      <th>0</th>\n      <td>DAYS_TERMINATION</td>\n      <td>53.824121</td>\n    </tr>\n    <tr>\n      <th>1</th>\n      <td>AMT_DOWN_PAYMENT</td>\n      <td>53.636480</td>\n    </tr>\n    <tr>\n      <th>2</th>\n      <td>RATE_DOWN_PAYMENT</td>\n      <td>53.636480</td>\n    </tr>\n    <tr>\n      <th>3</th>\n      <td>DAYS_LAST_DUE</td>\n      <td>52.944473</td>\n    </tr>\n    <tr>\n      <th>4</th>\n      <td>NAME_TYPE_SUITE</td>\n      <td>49.119754</td>\n    </tr>\n    <tr>\n      <th>5</th>\n      <td>DAYS_LAST_DUE_1ST_VERSION</td>\n      <td>45.918008</td>\n    </tr>\n    <tr>\n      <th>6</th>\n      <td>DAYS_FIRST_DUE</td>\n      <td>42.731650</td>\n    </tr>\n    <tr>\n      <th>7</th>\n      <td>AMT_ANNUITY</td>\n      <td>22.286665</td>\n    </tr>\n    <tr>\n      <th>8</th>\n      <td>CNT_PAYMENT</td>\n      <td>22.286366</td>\n    </tr>\n  </tbody>\n</table>\n</div>"
     },
     "execution_count": 37,
     "metadata": {},
     "output_type": "execute_result"
    }
   ],
   "source": [
    "check_missed_values(prev_df)"
   ],
   "metadata": {
    "collapsed": false
   }
  },
  {
   "cell_type": "code",
   "execution_count": 38,
   "outputs": [],
   "source": [
    "# tạo feature INTEREST, INTEREST_RATE\n",
    "prev_df['INTEREST'] = prev_df['CNT_PAYMENT'] * prev_df['AMT_ANNUITY'] - prev_df['AMT_CREDIT']\n",
    "prev_df['INTEREST_RATE'] =  (prev_df['INTEREST']/(prev_df['AMT_CREDIT'] - 1) / (prev_df['CNT_PAYMENT'] + 1))"
   ],
   "metadata": {
    "collapsed": false
   }
  },
  {
   "cell_type": "code",
   "execution_count": 46,
   "outputs": [],
   "source": [
    "# tạo features flag\n",
    "prev_df['IS_APPROVED_FLAG'] = (prev_df['NAME_CONTRACT_STATUS'] == 'Approved').astype('float')\n",
    "prev_df['IS_REFUSED_FLAG'] = (prev_df['NAME_CONTRACT_STATUS'] == 'Refused').astype('float')\n",
    "\n",
    "prev_df['IS_CONS_LOAN_FLAG'] = (prev_df['NAME_CONTRACT_TYPE'] == 'Consumer loans').astype('float')\n",
    "prev_df['IS_CASH_LOAN_FLAG'] = (prev_df['NAME_CONTRACT_TYPE'] == 'Cash loans').astype('float')\n",
    "prev_df['IS_REVOL_LOAN_FLAG'] = (prev_df['NAME_CONTRACT_TYPE'] == 'Revolving loans').astype('float')\n",
    "prev_df['IS_POS_PORTFOLIO_FLAG_COUNT'] = prev_df['NAME_PORTFOLIO'].apply(lambda x: 1 if x== \"Cash\" else 0)\n",
    "prev_df['IS_CASH_PORTFOLIO_FLAG_COUNT'] = prev_df['NAME_PORTFOLIO'].apply(lambda x: 1 if x== \"POS\" else 0)"
   ],
   "metadata": {
    "collapsed": false
   }
  },
  {
   "cell_type": "code",
   "execution_count": 47,
   "outputs": [
    {
     "data": {
      "text/plain": "         SK_ID_PREV  SK_ID_CURR NAME_CONTRACT_TYPE  AMT_ANNUITY  \\\n0           2030495      271877     Consumer loans     1730.430   \n1           2802425      108129         Cash loans    25188.615   \n2           2523466      122040         Cash loans    15060.735   \n3           2819243      176158         Cash loans    47041.335   \n4           1784265      202054         Cash loans    31924.395   \n...             ...         ...                ...          ...   \n1670209     2300464      352015     Consumer loans    14704.290   \n1670210     2357031      334635     Consumer loans     6622.020   \n1670211     2659632      249544     Consumer loans    11520.855   \n1670212     2785582      400317         Cash loans    18821.520   \n1670213     2418762      261212         Cash loans    16431.300   \n\n         AMT_APPLICATION  AMT_CREDIT  AMT_DOWN_PAYMENT  AMT_GOODS_PRICE  \\\n0                17145.0     17145.0               0.0          17145.0   \n1               607500.0    679671.0               NaN         607500.0   \n2               112500.0    136444.5               NaN         112500.0   \n3               450000.0    470790.0               NaN         450000.0   \n4               337500.0    404055.0               NaN         337500.0   \n...                  ...         ...               ...              ...   \n1670209         267295.5    311400.0               0.0         267295.5   \n1670210          87750.0     64291.5           29250.0          87750.0   \n1670211         105237.0    102523.5           10525.5         105237.0   \n1670212         180000.0    191880.0               NaN         180000.0   \n1670213         360000.0    360000.0               NaN         360000.0   \n\n        WEEKDAY_APPR_PROCESS_START  HOUR_APPR_PROCESS_START  ...   INTEREST  \\\n0                         SATURDAY                       15  ...    3620.16   \n1                         THURSDAY                       11  ...  227119.14   \n2                          TUESDAY                       11  ...   44284.32   \n3                           MONDAY                        7  ...   93706.02   \n4                         THURSDAY                        9  ...  362130.48   \n...                            ...                      ...  ...        ...   \n1670209                  WEDNESDAY                       12  ...  129728.70   \n1670210                    TUESDAY                       15  ...   15172.74   \n1670211                     MONDAY                       12  ...   12685.05   \n1670212                  WEDNESDAY                        9  ...   33978.24   \n1670213                     SUNDAY                       10  ...  428702.40   \n\n         INTEREST_RATE  IS_APPROVED_FLAG IS_REFUSED_FLAG IS_CONS_LOAN_FLAG  \\\n0             0.016243               1.0             0.0               1.0   \n1             0.009031               1.0             0.0               0.0   \n2             0.024966               1.0             0.0               0.0   \n3             0.015311               1.0             0.0               0.0   \n4             0.035850               0.0             1.0               0.0   \n...                ...               ...             ...               ...   \n1670209       0.013439               1.0             0.0               1.0   \n1670210       0.018154               1.0             0.0               1.0   \n1670211       0.011248               1.0             0.0               1.0   \n1670212       0.013622               1.0             0.0               0.0   \n1670213       0.024303               1.0             0.0               0.0   \n\n         IS_CASH_LOAN_FLAG IS_REVOL_LOAN_FLAG IS_POS_PORTFOLIO_FLAG_COUNT  \\\n0                      0.0                0.0                           0   \n1                      1.0                0.0                           1   \n2                      1.0                0.0                           1   \n3                      1.0                0.0                           1   \n4                      1.0                0.0                           1   \n...                    ...                ...                         ...   \n1670209                0.0                0.0                           0   \n1670210                0.0                0.0                           0   \n1670211                0.0                0.0                           0   \n1670212                1.0                0.0                           1   \n1670213                1.0                0.0                           1   \n\n        PREV_IS_CASH_PORTFOLIO_FLAG_COUNT IS_CASH_PORTFOLIO_FLAG_COUNT  \n0                                       1                            1  \n1                                       0                            0  \n2                                       0                            0  \n3                                       0                            0  \n4                                       0                            0  \n...                                   ...                          ...  \n1670209                                 1                            1  \n1670210                                 1                            1  \n1670211                                 1                            1  \n1670212                                 0                            0  \n1670213                                 0                            0  \n\n[1670214 rows x 44 columns]",
      "text/html": "<div>\n<style scoped>\n    .dataframe tbody tr th:only-of-type {\n        vertical-align: middle;\n    }\n\n    .dataframe tbody tr th {\n        vertical-align: top;\n    }\n\n    .dataframe thead th {\n        text-align: right;\n    }\n</style>\n<table border=\"1\" class=\"dataframe\">\n  <thead>\n    <tr style=\"text-align: right;\">\n      <th></th>\n      <th>SK_ID_PREV</th>\n      <th>SK_ID_CURR</th>\n      <th>NAME_CONTRACT_TYPE</th>\n      <th>AMT_ANNUITY</th>\n      <th>AMT_APPLICATION</th>\n      <th>AMT_CREDIT</th>\n      <th>AMT_DOWN_PAYMENT</th>\n      <th>AMT_GOODS_PRICE</th>\n      <th>WEEKDAY_APPR_PROCESS_START</th>\n      <th>HOUR_APPR_PROCESS_START</th>\n      <th>...</th>\n      <th>INTEREST</th>\n      <th>INTEREST_RATE</th>\n      <th>IS_APPROVED_FLAG</th>\n      <th>IS_REFUSED_FLAG</th>\n      <th>IS_CONS_LOAN_FLAG</th>\n      <th>IS_CASH_LOAN_FLAG</th>\n      <th>IS_REVOL_LOAN_FLAG</th>\n      <th>IS_POS_PORTFOLIO_FLAG_COUNT</th>\n      <th>PREV_IS_CASH_PORTFOLIO_FLAG_COUNT</th>\n      <th>IS_CASH_PORTFOLIO_FLAG_COUNT</th>\n    </tr>\n  </thead>\n  <tbody>\n    <tr>\n      <th>0</th>\n      <td>2030495</td>\n      <td>271877</td>\n      <td>Consumer loans</td>\n      <td>1730.430</td>\n      <td>17145.0</td>\n      <td>17145.0</td>\n      <td>0.0</td>\n      <td>17145.0</td>\n      <td>SATURDAY</td>\n      <td>15</td>\n      <td>...</td>\n      <td>3620.16</td>\n      <td>0.016243</td>\n      <td>1.0</td>\n      <td>0.0</td>\n      <td>1.0</td>\n      <td>0.0</td>\n      <td>0.0</td>\n      <td>0</td>\n      <td>1</td>\n      <td>1</td>\n    </tr>\n    <tr>\n      <th>1</th>\n      <td>2802425</td>\n      <td>108129</td>\n      <td>Cash loans</td>\n      <td>25188.615</td>\n      <td>607500.0</td>\n      <td>679671.0</td>\n      <td>NaN</td>\n      <td>607500.0</td>\n      <td>THURSDAY</td>\n      <td>11</td>\n      <td>...</td>\n      <td>227119.14</td>\n      <td>0.009031</td>\n      <td>1.0</td>\n      <td>0.0</td>\n      <td>0.0</td>\n      <td>1.0</td>\n      <td>0.0</td>\n      <td>1</td>\n      <td>0</td>\n      <td>0</td>\n    </tr>\n    <tr>\n      <th>2</th>\n      <td>2523466</td>\n      <td>122040</td>\n      <td>Cash loans</td>\n      <td>15060.735</td>\n      <td>112500.0</td>\n      <td>136444.5</td>\n      <td>NaN</td>\n      <td>112500.0</td>\n      <td>TUESDAY</td>\n      <td>11</td>\n      <td>...</td>\n      <td>44284.32</td>\n      <td>0.024966</td>\n      <td>1.0</td>\n      <td>0.0</td>\n      <td>0.0</td>\n      <td>1.0</td>\n      <td>0.0</td>\n      <td>1</td>\n      <td>0</td>\n      <td>0</td>\n    </tr>\n    <tr>\n      <th>3</th>\n      <td>2819243</td>\n      <td>176158</td>\n      <td>Cash loans</td>\n      <td>47041.335</td>\n      <td>450000.0</td>\n      <td>470790.0</td>\n      <td>NaN</td>\n      <td>450000.0</td>\n      <td>MONDAY</td>\n      <td>7</td>\n      <td>...</td>\n      <td>93706.02</td>\n      <td>0.015311</td>\n      <td>1.0</td>\n      <td>0.0</td>\n      <td>0.0</td>\n      <td>1.0</td>\n      <td>0.0</td>\n      <td>1</td>\n      <td>0</td>\n      <td>0</td>\n    </tr>\n    <tr>\n      <th>4</th>\n      <td>1784265</td>\n      <td>202054</td>\n      <td>Cash loans</td>\n      <td>31924.395</td>\n      <td>337500.0</td>\n      <td>404055.0</td>\n      <td>NaN</td>\n      <td>337500.0</td>\n      <td>THURSDAY</td>\n      <td>9</td>\n      <td>...</td>\n      <td>362130.48</td>\n      <td>0.035850</td>\n      <td>0.0</td>\n      <td>1.0</td>\n      <td>0.0</td>\n      <td>1.0</td>\n      <td>0.0</td>\n      <td>1</td>\n      <td>0</td>\n      <td>0</td>\n    </tr>\n    <tr>\n      <th>...</th>\n      <td>...</td>\n      <td>...</td>\n      <td>...</td>\n      <td>...</td>\n      <td>...</td>\n      <td>...</td>\n      <td>...</td>\n      <td>...</td>\n      <td>...</td>\n      <td>...</td>\n      <td>...</td>\n      <td>...</td>\n      <td>...</td>\n      <td>...</td>\n      <td>...</td>\n      <td>...</td>\n      <td>...</td>\n      <td>...</td>\n      <td>...</td>\n      <td>...</td>\n      <td>...</td>\n    </tr>\n    <tr>\n      <th>1670209</th>\n      <td>2300464</td>\n      <td>352015</td>\n      <td>Consumer loans</td>\n      <td>14704.290</td>\n      <td>267295.5</td>\n      <td>311400.0</td>\n      <td>0.0</td>\n      <td>267295.5</td>\n      <td>WEDNESDAY</td>\n      <td>12</td>\n      <td>...</td>\n      <td>129728.70</td>\n      <td>0.013439</td>\n      <td>1.0</td>\n      <td>0.0</td>\n      <td>1.0</td>\n      <td>0.0</td>\n      <td>0.0</td>\n      <td>0</td>\n      <td>1</td>\n      <td>1</td>\n    </tr>\n    <tr>\n      <th>1670210</th>\n      <td>2357031</td>\n      <td>334635</td>\n      <td>Consumer loans</td>\n      <td>6622.020</td>\n      <td>87750.0</td>\n      <td>64291.5</td>\n      <td>29250.0</td>\n      <td>87750.0</td>\n      <td>TUESDAY</td>\n      <td>15</td>\n      <td>...</td>\n      <td>15172.74</td>\n      <td>0.018154</td>\n      <td>1.0</td>\n      <td>0.0</td>\n      <td>1.0</td>\n      <td>0.0</td>\n      <td>0.0</td>\n      <td>0</td>\n      <td>1</td>\n      <td>1</td>\n    </tr>\n    <tr>\n      <th>1670211</th>\n      <td>2659632</td>\n      <td>249544</td>\n      <td>Consumer loans</td>\n      <td>11520.855</td>\n      <td>105237.0</td>\n      <td>102523.5</td>\n      <td>10525.5</td>\n      <td>105237.0</td>\n      <td>MONDAY</td>\n      <td>12</td>\n      <td>...</td>\n      <td>12685.05</td>\n      <td>0.011248</td>\n      <td>1.0</td>\n      <td>0.0</td>\n      <td>1.0</td>\n      <td>0.0</td>\n      <td>0.0</td>\n      <td>0</td>\n      <td>1</td>\n      <td>1</td>\n    </tr>\n    <tr>\n      <th>1670212</th>\n      <td>2785582</td>\n      <td>400317</td>\n      <td>Cash loans</td>\n      <td>18821.520</td>\n      <td>180000.0</td>\n      <td>191880.0</td>\n      <td>NaN</td>\n      <td>180000.0</td>\n      <td>WEDNESDAY</td>\n      <td>9</td>\n      <td>...</td>\n      <td>33978.24</td>\n      <td>0.013622</td>\n      <td>1.0</td>\n      <td>0.0</td>\n      <td>0.0</td>\n      <td>1.0</td>\n      <td>0.0</td>\n      <td>1</td>\n      <td>0</td>\n      <td>0</td>\n    </tr>\n    <tr>\n      <th>1670213</th>\n      <td>2418762</td>\n      <td>261212</td>\n      <td>Cash loans</td>\n      <td>16431.300</td>\n      <td>360000.0</td>\n      <td>360000.0</td>\n      <td>NaN</td>\n      <td>360000.0</td>\n      <td>SUNDAY</td>\n      <td>10</td>\n      <td>...</td>\n      <td>428702.40</td>\n      <td>0.024303</td>\n      <td>1.0</td>\n      <td>0.0</td>\n      <td>0.0</td>\n      <td>1.0</td>\n      <td>0.0</td>\n      <td>1</td>\n      <td>0</td>\n      <td>0</td>\n    </tr>\n  </tbody>\n</table>\n<p>1670214 rows × 44 columns</p>\n</div>"
     },
     "execution_count": 47,
     "metadata": {},
     "output_type": "execute_result"
    }
   ],
   "source": [
    "prev_df"
   ],
   "metadata": {
    "collapsed": false
   }
  },
  {
   "cell_type": "code",
   "execution_count": 51,
   "outputs": [],
   "source": [
    "prev_df_merge_final = prev_df.groupby([\"SK_ID_CURR\"]).agg({'AMT_ANNUITY': ['mean', 'sum', 'min', 'max'],\n",
    "                                    'AMT_APPLICATION': ['mean', 'sum', 'min', 'max'],\n",
    "                                    'AMT_CREDIT': ['mean', 'sum', 'min', 'max'],\n",
    "                                    'AMT_GOODS_PRICE': ['mean', 'sum', 'min', 'max'],\n",
    "\n",
    "                                    'CNT_PAYMENT': ['mean', 'sum'],\n",
    "                                    'INTEREST_RATE': ['mean', 'min', 'max'],\n",
    "                                    'INTEREST': ['mean', 'min', 'max'],\n",
    "                                    'IS_APPROVED_FLAG': 'count',\n",
    "                                    'IS_REFUSED_FLAG': 'count',\n",
    "                                    'IS_CONS_LOAN_FLAG': 'count',\n",
    "                                    'IS_CASH_LOAN_FLAG': 'count',\n",
    "                                    'IS_REVOL_LOAN_FLAG': 'count',\n",
    "                                    'IS_POS_PORTFOLIO_FLAG_COUNT': 'count',\n",
    "                                    'IS_CASH_PORTFOLIO_FLAG_COUNT': 'count'\n",
    "\n",
    "})"
   ],
   "metadata": {
    "collapsed": false
   }
  },
  {
   "cell_type": "code",
   "execution_count": 52,
   "outputs": [
    {
     "data": {
      "text/plain": "            PREV_AMT_ANNUITY_MEAN  PREV_AMT_ANNUITY_SUM  PREV_AMT_ANNUITY_MIN  \\\nSK_ID_CURR                                                                      \n100001                3951.000000              3951.000              3951.000   \n100002                9251.775000              9251.775              9251.775   \n100003               56553.990000            169661.970              6737.310   \n100004                5357.250000              5357.250              5357.250   \n100005                4813.200000              4813.200              4813.200   \n...                           ...                   ...                   ...   \n456251                6605.910000              6605.910              6605.910   \n456252               10074.465000             10074.465             10074.465   \n456253                4770.405000              9540.810              3973.095   \n456254               10681.132500             21362.265              2296.440   \n456255               20775.391875            166203.135              2250.000   \n\n            PREV_AMT_ANNUITY_MAX  PREV_AMT_APPLICATION_MEAN  \\\nSK_ID_CURR                                                    \n100001                  3951.000                  24835.500   \n100002                  9251.775                 179055.000   \n100003                 98356.995                 435436.500   \n100004                  5357.250                  24282.000   \n100005                  4813.200                  22308.750   \n...                          ...                        ...   \n456251                  6605.910                  40455.000   \n456252                 10074.465                  57595.500   \n456253                  5567.715                  24162.750   \n456254                 19065.825                 121317.750   \n456255                 54022.140                 362770.875   \n\n            PREV_AMT_APPLICATION_SUM  PREV_AMT_APPLICATION_MIN  \\\nSK_ID_CURR                                                       \n100001                       24835.5                   24835.5   \n100002                      179055.0                  179055.0   \n100003                     1306309.5                   68809.5   \n100004                       24282.0                   24282.0   \n100005                       44617.5                       0.0   \n...                              ...                       ...   \n456251                       40455.0                   40455.0   \n456252                       57595.5                   57595.5   \n456253                       48325.5                   19413.0   \n456254                      242635.5                   18846.0   \n456255                     2902167.0                   45000.0   \n\n            PREV_AMT_APPLICATION_MAX  PREV_AMT_CREDIT_MEAN  \\\nSK_ID_CURR                                                   \n100001                       24835.5              23787.00   \n100002                      179055.0             179055.00   \n100003                      900000.0             484191.00   \n100004                       24282.0              20106.00   \n100005                       44617.5              20076.75   \n...                              ...                   ...   \n456251                       40455.0              40455.00   \n456252                       57595.5              56821.50   \n456253                       28912.5              20625.75   \n456254                      223789.5             134439.75   \n456255                     1170000.0             424431.00   \n\n            PREV_AMT_CREDIT_SUM  ...  PREV_INTEREST_MEAN  PREV_INTEREST_MIN  \\\nSK_ID_CURR                       ...                                          \n100001                  23787.0  ...          7821.00000            7821.00   \n100002                 179055.0  ...         42987.60000           42987.60   \n100003                1452573.0  ...         65321.55000           12794.22   \n100004                  20106.0  ...          1323.00000            1323.00   \n100005                  40153.5  ...         17604.90000           17604.90   \n...                         ...  ...                 ...                ...   \n456251                  40455.0  ...         12392.28000           12392.28   \n456252                  56821.5  ...          3625.29000            3625.29   \n456253                  41251.5  ...          4023.58500            1946.88   \n456254                 268879.5  ...         34161.93000           10694.16   \n456255                3395448.0  ...        227265.80625          -45000.00   \n\n            PREV_INTEREST_MAX  PREV_IS_APPROVED_FLAG_COUNT  \\\nSK_ID_CURR                                                   \n100001                7821.00                            1   \n100002               42987.60                            1   \n100003              144401.94                            3   \n100004                1323.00                            1   \n100005               17604.90                            2   \n...                       ...                          ...   \n456251               12392.28                            1   \n456252                3625.29                            1   \n456253                6100.29                            2   \n456254               57629.70                            2   \n456255              776319.30                            8   \n\n            PREV_IS_REFUSED_FLAG_COUNT  PREV_IS_CONS_LOAN_FLAG_COUNT  \\\nSK_ID_CURR                                                             \n100001                               1                             1   \n100002                               1                             1   \n100003                               3                             3   \n100004                               1                             1   \n100005                               2                             2   \n...                                ...                           ...   \n456251                               1                             1   \n456252                               1                             1   \n456253                               2                             2   \n456254                               2                             2   \n456255                               8                             8   \n\n            PREV_IS_CASH_LOAN_FLAG_COUNT  PREV_IS_REVOL_LOAN_FLAG_COUNT  \\\nSK_ID_CURR                                                                \n100001                                 1                              1   \n100002                                 1                              1   \n100003                                 3                              3   \n100004                                 1                              1   \n100005                                 2                              2   \n...                                  ...                            ...   \n456251                                 1                              1   \n456252                                 1                              1   \n456253                                 2                              2   \n456254                                 2                              2   \n456255                                 8                              8   \n\n            PREV_IS_POS_PORTFOLIO_FLAG_COUNT_COUNT  \\\nSK_ID_CURR                                           \n100001                                           1   \n100002                                           1   \n100003                                           3   \n100004                                           1   \n100005                                           2   \n...                                            ...   \n456251                                           1   \n456252                                           1   \n456253                                           2   \n456254                                           2   \n456255                                           8   \n\n            PREV_IS_CASH_PORTFOLIO_FLAG_COUNT_COUNT  \nSK_ID_CURR                                           \n100001                                            1  \n100002                                            1  \n100003                                            3  \n100004                                            1  \n100005                                            2  \n...                                             ...  \n456251                                            1  \n456252                                            1  \n456253                                            2  \n456254                                            2  \n456255                                            8  \n\n[338857 rows x 31 columns]",
      "text/html": "<div>\n<style scoped>\n    .dataframe tbody tr th:only-of-type {\n        vertical-align: middle;\n    }\n\n    .dataframe tbody tr th {\n        vertical-align: top;\n    }\n\n    .dataframe thead th {\n        text-align: right;\n    }\n</style>\n<table border=\"1\" class=\"dataframe\">\n  <thead>\n    <tr style=\"text-align: right;\">\n      <th></th>\n      <th>PREV_AMT_ANNUITY_MEAN</th>\n      <th>PREV_AMT_ANNUITY_SUM</th>\n      <th>PREV_AMT_ANNUITY_MIN</th>\n      <th>PREV_AMT_ANNUITY_MAX</th>\n      <th>PREV_AMT_APPLICATION_MEAN</th>\n      <th>PREV_AMT_APPLICATION_SUM</th>\n      <th>PREV_AMT_APPLICATION_MIN</th>\n      <th>PREV_AMT_APPLICATION_MAX</th>\n      <th>PREV_AMT_CREDIT_MEAN</th>\n      <th>PREV_AMT_CREDIT_SUM</th>\n      <th>...</th>\n      <th>PREV_INTEREST_MEAN</th>\n      <th>PREV_INTEREST_MIN</th>\n      <th>PREV_INTEREST_MAX</th>\n      <th>PREV_IS_APPROVED_FLAG_COUNT</th>\n      <th>PREV_IS_REFUSED_FLAG_COUNT</th>\n      <th>PREV_IS_CONS_LOAN_FLAG_COUNT</th>\n      <th>PREV_IS_CASH_LOAN_FLAG_COUNT</th>\n      <th>PREV_IS_REVOL_LOAN_FLAG_COUNT</th>\n      <th>PREV_IS_POS_PORTFOLIO_FLAG_COUNT_COUNT</th>\n      <th>PREV_IS_CASH_PORTFOLIO_FLAG_COUNT_COUNT</th>\n    </tr>\n    <tr>\n      <th>SK_ID_CURR</th>\n      <th></th>\n      <th></th>\n      <th></th>\n      <th></th>\n      <th></th>\n      <th></th>\n      <th></th>\n      <th></th>\n      <th></th>\n      <th></th>\n      <th></th>\n      <th></th>\n      <th></th>\n      <th></th>\n      <th></th>\n      <th></th>\n      <th></th>\n      <th></th>\n      <th></th>\n      <th></th>\n      <th></th>\n    </tr>\n  </thead>\n  <tbody>\n    <tr>\n      <th>100001</th>\n      <td>3951.000000</td>\n      <td>3951.000</td>\n      <td>3951.000</td>\n      <td>3951.000</td>\n      <td>24835.500</td>\n      <td>24835.5</td>\n      <td>24835.5</td>\n      <td>24835.5</td>\n      <td>23787.00</td>\n      <td>23787.0</td>\n      <td>...</td>\n      <td>7821.00000</td>\n      <td>7821.00</td>\n      <td>7821.00</td>\n      <td>1</td>\n      <td>1</td>\n      <td>1</td>\n      <td>1</td>\n      <td>1</td>\n      <td>1</td>\n      <td>1</td>\n    </tr>\n    <tr>\n      <th>100002</th>\n      <td>9251.775000</td>\n      <td>9251.775</td>\n      <td>9251.775</td>\n      <td>9251.775</td>\n      <td>179055.000</td>\n      <td>179055.0</td>\n      <td>179055.0</td>\n      <td>179055.0</td>\n      <td>179055.00</td>\n      <td>179055.0</td>\n      <td>...</td>\n      <td>42987.60000</td>\n      <td>42987.60</td>\n      <td>42987.60</td>\n      <td>1</td>\n      <td>1</td>\n      <td>1</td>\n      <td>1</td>\n      <td>1</td>\n      <td>1</td>\n      <td>1</td>\n    </tr>\n    <tr>\n      <th>100003</th>\n      <td>56553.990000</td>\n      <td>169661.970</td>\n      <td>6737.310</td>\n      <td>98356.995</td>\n      <td>435436.500</td>\n      <td>1306309.5</td>\n      <td>68809.5</td>\n      <td>900000.0</td>\n      <td>484191.00</td>\n      <td>1452573.0</td>\n      <td>...</td>\n      <td>65321.55000</td>\n      <td>12794.22</td>\n      <td>144401.94</td>\n      <td>3</td>\n      <td>3</td>\n      <td>3</td>\n      <td>3</td>\n      <td>3</td>\n      <td>3</td>\n      <td>3</td>\n    </tr>\n    <tr>\n      <th>100004</th>\n      <td>5357.250000</td>\n      <td>5357.250</td>\n      <td>5357.250</td>\n      <td>5357.250</td>\n      <td>24282.000</td>\n      <td>24282.0</td>\n      <td>24282.0</td>\n      <td>24282.0</td>\n      <td>20106.00</td>\n      <td>20106.0</td>\n      <td>...</td>\n      <td>1323.00000</td>\n      <td>1323.00</td>\n      <td>1323.00</td>\n      <td>1</td>\n      <td>1</td>\n      <td>1</td>\n      <td>1</td>\n      <td>1</td>\n      <td>1</td>\n      <td>1</td>\n    </tr>\n    <tr>\n      <th>100005</th>\n      <td>4813.200000</td>\n      <td>4813.200</td>\n      <td>4813.200</td>\n      <td>4813.200</td>\n      <td>22308.750</td>\n      <td>44617.5</td>\n      <td>0.0</td>\n      <td>44617.5</td>\n      <td>20076.75</td>\n      <td>40153.5</td>\n      <td>...</td>\n      <td>17604.90000</td>\n      <td>17604.90</td>\n      <td>17604.90</td>\n      <td>2</td>\n      <td>2</td>\n      <td>2</td>\n      <td>2</td>\n      <td>2</td>\n      <td>2</td>\n      <td>2</td>\n    </tr>\n    <tr>\n      <th>...</th>\n      <td>...</td>\n      <td>...</td>\n      <td>...</td>\n      <td>...</td>\n      <td>...</td>\n      <td>...</td>\n      <td>...</td>\n      <td>...</td>\n      <td>...</td>\n      <td>...</td>\n      <td>...</td>\n      <td>...</td>\n      <td>...</td>\n      <td>...</td>\n      <td>...</td>\n      <td>...</td>\n      <td>...</td>\n      <td>...</td>\n      <td>...</td>\n      <td>...</td>\n      <td>...</td>\n    </tr>\n    <tr>\n      <th>456251</th>\n      <td>6605.910000</td>\n      <td>6605.910</td>\n      <td>6605.910</td>\n      <td>6605.910</td>\n      <td>40455.000</td>\n      <td>40455.0</td>\n      <td>40455.0</td>\n      <td>40455.0</td>\n      <td>40455.00</td>\n      <td>40455.0</td>\n      <td>...</td>\n      <td>12392.28000</td>\n      <td>12392.28</td>\n      <td>12392.28</td>\n      <td>1</td>\n      <td>1</td>\n      <td>1</td>\n      <td>1</td>\n      <td>1</td>\n      <td>1</td>\n      <td>1</td>\n    </tr>\n    <tr>\n      <th>456252</th>\n      <td>10074.465000</td>\n      <td>10074.465</td>\n      <td>10074.465</td>\n      <td>10074.465</td>\n      <td>57595.500</td>\n      <td>57595.5</td>\n      <td>57595.5</td>\n      <td>57595.5</td>\n      <td>56821.50</td>\n      <td>56821.5</td>\n      <td>...</td>\n      <td>3625.29000</td>\n      <td>3625.29</td>\n      <td>3625.29</td>\n      <td>1</td>\n      <td>1</td>\n      <td>1</td>\n      <td>1</td>\n      <td>1</td>\n      <td>1</td>\n      <td>1</td>\n    </tr>\n    <tr>\n      <th>456253</th>\n      <td>4770.405000</td>\n      <td>9540.810</td>\n      <td>3973.095</td>\n      <td>5567.715</td>\n      <td>24162.750</td>\n      <td>48325.5</td>\n      <td>19413.0</td>\n      <td>28912.5</td>\n      <td>20625.75</td>\n      <td>41251.5</td>\n      <td>...</td>\n      <td>4023.58500</td>\n      <td>1946.88</td>\n      <td>6100.29</td>\n      <td>2</td>\n      <td>2</td>\n      <td>2</td>\n      <td>2</td>\n      <td>2</td>\n      <td>2</td>\n      <td>2</td>\n    </tr>\n    <tr>\n      <th>456254</th>\n      <td>10681.132500</td>\n      <td>21362.265</td>\n      <td>2296.440</td>\n      <td>19065.825</td>\n      <td>121317.750</td>\n      <td>242635.5</td>\n      <td>18846.0</td>\n      <td>223789.5</td>\n      <td>134439.75</td>\n      <td>268879.5</td>\n      <td>...</td>\n      <td>34161.93000</td>\n      <td>10694.16</td>\n      <td>57629.70</td>\n      <td>2</td>\n      <td>2</td>\n      <td>2</td>\n      <td>2</td>\n      <td>2</td>\n      <td>2</td>\n      <td>2</td>\n    </tr>\n    <tr>\n      <th>456255</th>\n      <td>20775.391875</td>\n      <td>166203.135</td>\n      <td>2250.000</td>\n      <td>54022.140</td>\n      <td>362770.875</td>\n      <td>2902167.0</td>\n      <td>45000.0</td>\n      <td>1170000.0</td>\n      <td>424431.00</td>\n      <td>3395448.0</td>\n      <td>...</td>\n      <td>227265.80625</td>\n      <td>-45000.00</td>\n      <td>776319.30</td>\n      <td>8</td>\n      <td>8</td>\n      <td>8</td>\n      <td>8</td>\n      <td>8</td>\n      <td>8</td>\n      <td>8</td>\n    </tr>\n  </tbody>\n</table>\n<p>338857 rows × 31 columns</p>\n</div>"
     },
     "execution_count": 52,
     "metadata": {},
     "output_type": "execute_result"
    }
   ],
   "source": [
    "prev_df_merge_final.columns = [\"PREV_\" + c[0] + \"_\" + c[1].upper() for c in prev_df_merge_final.columns.values.tolist()]\n",
    "prev_df_merge_final"
   ],
   "metadata": {
    "collapsed": false
   }
  },
  {
   "cell_type": "code",
   "execution_count": 53,
   "outputs": [
    {
     "data": {
      "text/plain": "(338857, 31)"
     },
     "execution_count": 53,
     "metadata": {},
     "output_type": "execute_result"
    }
   ],
   "source": [
    "prev_df_merge_final.shape"
   ],
   "metadata": {
    "collapsed": false
   }
  },
  {
   "cell_type": "code",
   "execution_count": 54,
   "outputs": [],
   "source": [
    "prev_df_merge_final.to_csv(\"data_preprocessed/02_previous_application.csv\")"
   ],
   "metadata": {
    "collapsed": false
   }
  }
 ],
 "metadata": {
  "kernelspec": {
   "display_name": "Python 3",
   "language": "python",
   "name": "python3"
  },
  "language_info": {
   "codemirror_mode": {
    "name": "ipython",
    "version": 2
   },
   "file_extension": ".py",
   "mimetype": "text/x-python",
   "name": "python",
   "nbconvert_exporter": "python",
   "pygments_lexer": "ipython2",
   "version": "2.7.6"
  }
 },
 "nbformat": 4,
 "nbformat_minor": 0
}
