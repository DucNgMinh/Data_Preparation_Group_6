{
 "cells": [
  {
   "cell_type": "code",
   "execution_count": 1,
   "id": "1c127fc6",
   "metadata": {},
   "outputs": [],
   "source": [
    "import numpy as np\n",
    "import pandas as pd\n",
    "import matplotlib.pyplot as plt\n",
    "import seaborn as sns\n",
    "import os"
   ]
  },
  {
   "cell_type": "code",
   "execution_count": 2,
   "id": "2c7e2d43",
   "metadata": {},
   "outputs": [],
   "source": [
    "df_install = pd.read_csv('installments_payments.csv')\n",
    "df_train = pd.read_csv('application_train.csv')"
   ]
  },
  {
   "cell_type": "code",
   "execution_count": 3,
   "id": "80294ddc",
   "metadata": {},
   "outputs": [
    {
     "data": {
      "text/html": [
       "<div>\n",
       "<style scoped>\n",
       "    .dataframe tbody tr th:only-of-type {\n",
       "        vertical-align: middle;\n",
       "    }\n",
       "\n",
       "    .dataframe tbody tr th {\n",
       "        vertical-align: top;\n",
       "    }\n",
       "\n",
       "    .dataframe thead th {\n",
       "        text-align: right;\n",
       "    }\n",
       "</style>\n",
       "<table border=\"1\" class=\"dataframe\">\n",
       "  <thead>\n",
       "    <tr style=\"text-align: right;\">\n",
       "      <th></th>\n",
       "      <th>SK_ID_PREV</th>\n",
       "      <th>SK_ID_CURR</th>\n",
       "      <th>NUM_INSTALMENT_VERSION</th>\n",
       "      <th>NUM_INSTALMENT_NUMBER</th>\n",
       "      <th>DAYS_INSTALMENT</th>\n",
       "      <th>DAYS_ENTRY_PAYMENT</th>\n",
       "      <th>AMT_INSTALMENT</th>\n",
       "      <th>AMT_PAYMENT</th>\n",
       "    </tr>\n",
       "  </thead>\n",
       "  <tbody>\n",
       "    <tr>\n",
       "      <th>0</th>\n",
       "      <td>1054186</td>\n",
       "      <td>161674</td>\n",
       "      <td>1.0</td>\n",
       "      <td>6</td>\n",
       "      <td>-1180.0</td>\n",
       "      <td>-1187.0</td>\n",
       "      <td>6948.360</td>\n",
       "      <td>6948.360</td>\n",
       "    </tr>\n",
       "    <tr>\n",
       "      <th>1</th>\n",
       "      <td>1330831</td>\n",
       "      <td>151639</td>\n",
       "      <td>0.0</td>\n",
       "      <td>34</td>\n",
       "      <td>-2156.0</td>\n",
       "      <td>-2156.0</td>\n",
       "      <td>1716.525</td>\n",
       "      <td>1716.525</td>\n",
       "    </tr>\n",
       "    <tr>\n",
       "      <th>2</th>\n",
       "      <td>2085231</td>\n",
       "      <td>193053</td>\n",
       "      <td>2.0</td>\n",
       "      <td>1</td>\n",
       "      <td>-63.0</td>\n",
       "      <td>-63.0</td>\n",
       "      <td>25425.000</td>\n",
       "      <td>25425.000</td>\n",
       "    </tr>\n",
       "    <tr>\n",
       "      <th>3</th>\n",
       "      <td>2452527</td>\n",
       "      <td>199697</td>\n",
       "      <td>1.0</td>\n",
       "      <td>3</td>\n",
       "      <td>-2418.0</td>\n",
       "      <td>-2426.0</td>\n",
       "      <td>24350.130</td>\n",
       "      <td>24350.130</td>\n",
       "    </tr>\n",
       "    <tr>\n",
       "      <th>4</th>\n",
       "      <td>2714724</td>\n",
       "      <td>167756</td>\n",
       "      <td>1.0</td>\n",
       "      <td>2</td>\n",
       "      <td>-1383.0</td>\n",
       "      <td>-1366.0</td>\n",
       "      <td>2165.040</td>\n",
       "      <td>2160.585</td>\n",
       "    </tr>\n",
       "    <tr>\n",
       "      <th>...</th>\n",
       "      <td>...</td>\n",
       "      <td>...</td>\n",
       "      <td>...</td>\n",
       "      <td>...</td>\n",
       "      <td>...</td>\n",
       "      <td>...</td>\n",
       "      <td>...</td>\n",
       "      <td>...</td>\n",
       "    </tr>\n",
       "    <tr>\n",
       "      <th>13605396</th>\n",
       "      <td>2186857</td>\n",
       "      <td>428057</td>\n",
       "      <td>0.0</td>\n",
       "      <td>66</td>\n",
       "      <td>-1624.0</td>\n",
       "      <td>NaN</td>\n",
       "      <td>67.500</td>\n",
       "      <td>NaN</td>\n",
       "    </tr>\n",
       "    <tr>\n",
       "      <th>13605397</th>\n",
       "      <td>1310347</td>\n",
       "      <td>414406</td>\n",
       "      <td>0.0</td>\n",
       "      <td>47</td>\n",
       "      <td>-1539.0</td>\n",
       "      <td>NaN</td>\n",
       "      <td>67.500</td>\n",
       "      <td>NaN</td>\n",
       "    </tr>\n",
       "    <tr>\n",
       "      <th>13605398</th>\n",
       "      <td>1308766</td>\n",
       "      <td>402199</td>\n",
       "      <td>0.0</td>\n",
       "      <td>43</td>\n",
       "      <td>-7.0</td>\n",
       "      <td>NaN</td>\n",
       "      <td>43737.435</td>\n",
       "      <td>NaN</td>\n",
       "    </tr>\n",
       "    <tr>\n",
       "      <th>13605399</th>\n",
       "      <td>1062206</td>\n",
       "      <td>409297</td>\n",
       "      <td>0.0</td>\n",
       "      <td>43</td>\n",
       "      <td>-1986.0</td>\n",
       "      <td>NaN</td>\n",
       "      <td>67.500</td>\n",
       "      <td>NaN</td>\n",
       "    </tr>\n",
       "    <tr>\n",
       "      <th>13605400</th>\n",
       "      <td>2448869</td>\n",
       "      <td>434321</td>\n",
       "      <td>1.0</td>\n",
       "      <td>19</td>\n",
       "      <td>-27.0</td>\n",
       "      <td>NaN</td>\n",
       "      <td>11504.250</td>\n",
       "      <td>NaN</td>\n",
       "    </tr>\n",
       "  </tbody>\n",
       "</table>\n",
       "<p>13605401 rows × 8 columns</p>\n",
       "</div>"
      ],
      "text/plain": [
       "          SK_ID_PREV  SK_ID_CURR  NUM_INSTALMENT_VERSION  \\\n",
       "0            1054186      161674                     1.0   \n",
       "1            1330831      151639                     0.0   \n",
       "2            2085231      193053                     2.0   \n",
       "3            2452527      199697                     1.0   \n",
       "4            2714724      167756                     1.0   \n",
       "...              ...         ...                     ...   \n",
       "13605396     2186857      428057                     0.0   \n",
       "13605397     1310347      414406                     0.0   \n",
       "13605398     1308766      402199                     0.0   \n",
       "13605399     1062206      409297                     0.0   \n",
       "13605400     2448869      434321                     1.0   \n",
       "\n",
       "          NUM_INSTALMENT_NUMBER  DAYS_INSTALMENT  DAYS_ENTRY_PAYMENT  \\\n",
       "0                             6          -1180.0             -1187.0   \n",
       "1                            34          -2156.0             -2156.0   \n",
       "2                             1            -63.0               -63.0   \n",
       "3                             3          -2418.0             -2426.0   \n",
       "4                             2          -1383.0             -1366.0   \n",
       "...                         ...              ...                 ...   \n",
       "13605396                     66          -1624.0                 NaN   \n",
       "13605397                     47          -1539.0                 NaN   \n",
       "13605398                     43             -7.0                 NaN   \n",
       "13605399                     43          -1986.0                 NaN   \n",
       "13605400                     19            -27.0                 NaN   \n",
       "\n",
       "          AMT_INSTALMENT  AMT_PAYMENT  \n",
       "0               6948.360     6948.360  \n",
       "1               1716.525     1716.525  \n",
       "2              25425.000    25425.000  \n",
       "3              24350.130    24350.130  \n",
       "4               2165.040     2160.585  \n",
       "...                  ...          ...  \n",
       "13605396          67.500          NaN  \n",
       "13605397          67.500          NaN  \n",
       "13605398       43737.435          NaN  \n",
       "13605399          67.500          NaN  \n",
       "13605400       11504.250          NaN  \n",
       "\n",
       "[13605401 rows x 8 columns]"
      ]
     },
     "execution_count": 3,
     "metadata": {},
     "output_type": "execute_result"
    }
   ],
   "source": [
    "df_install"
   ]
  },
  {
   "cell_type": "code",
   "execution_count": 4,
   "id": "0720d740",
   "metadata": {},
   "outputs": [
    {
     "data": {
      "text/html": [
       "<div>\n",
       "<style scoped>\n",
       "    .dataframe tbody tr th:only-of-type {\n",
       "        vertical-align: middle;\n",
       "    }\n",
       "\n",
       "    .dataframe tbody tr th {\n",
       "        vertical-align: top;\n",
       "    }\n",
       "\n",
       "    .dataframe thead th {\n",
       "        text-align: right;\n",
       "    }\n",
       "</style>\n",
       "<table border=\"1\" class=\"dataframe\">\n",
       "  <thead>\n",
       "    <tr style=\"text-align: right;\">\n",
       "      <th></th>\n",
       "      <th>SK_ID_PREV</th>\n",
       "      <th>SK_ID_CURR</th>\n",
       "      <th>NUM_INSTALMENT_VERSION</th>\n",
       "      <th>NUM_INSTALMENT_NUMBER</th>\n",
       "      <th>DAYS_INSTALMENT</th>\n",
       "      <th>DAYS_ENTRY_PAYMENT</th>\n",
       "      <th>AMT_INSTALMENT</th>\n",
       "      <th>AMT_PAYMENT</th>\n",
       "    </tr>\n",
       "  </thead>\n",
       "  <tbody>\n",
       "    <tr>\n",
       "      <th>0</th>\n",
       "      <td>1054186</td>\n",
       "      <td>161674</td>\n",
       "      <td>1.0</td>\n",
       "      <td>6</td>\n",
       "      <td>-1180.0</td>\n",
       "      <td>-1187.0</td>\n",
       "      <td>6948.360</td>\n",
       "      <td>6948.360</td>\n",
       "    </tr>\n",
       "    <tr>\n",
       "      <th>1</th>\n",
       "      <td>1330831</td>\n",
       "      <td>151639</td>\n",
       "      <td>0.0</td>\n",
       "      <td>34</td>\n",
       "      <td>-2156.0</td>\n",
       "      <td>-2156.0</td>\n",
       "      <td>1716.525</td>\n",
       "      <td>1716.525</td>\n",
       "    </tr>\n",
       "    <tr>\n",
       "      <th>2</th>\n",
       "      <td>2085231</td>\n",
       "      <td>193053</td>\n",
       "      <td>2.0</td>\n",
       "      <td>1</td>\n",
       "      <td>-63.0</td>\n",
       "      <td>-63.0</td>\n",
       "      <td>25425.000</td>\n",
       "      <td>25425.000</td>\n",
       "    </tr>\n",
       "    <tr>\n",
       "      <th>3</th>\n",
       "      <td>2452527</td>\n",
       "      <td>199697</td>\n",
       "      <td>1.0</td>\n",
       "      <td>3</td>\n",
       "      <td>-2418.0</td>\n",
       "      <td>-2426.0</td>\n",
       "      <td>24350.130</td>\n",
       "      <td>24350.130</td>\n",
       "    </tr>\n",
       "    <tr>\n",
       "      <th>4</th>\n",
       "      <td>2714724</td>\n",
       "      <td>167756</td>\n",
       "      <td>1.0</td>\n",
       "      <td>2</td>\n",
       "      <td>-1383.0</td>\n",
       "      <td>-1366.0</td>\n",
       "      <td>2165.040</td>\n",
       "      <td>2160.585</td>\n",
       "    </tr>\n",
       "  </tbody>\n",
       "</table>\n",
       "</div>"
      ],
      "text/plain": [
       "   SK_ID_PREV  SK_ID_CURR  NUM_INSTALMENT_VERSION  NUM_INSTALMENT_NUMBER  \\\n",
       "0     1054186      161674                     1.0                      6   \n",
       "1     1330831      151639                     0.0                     34   \n",
       "2     2085231      193053                     2.0                      1   \n",
       "3     2452527      199697                     1.0                      3   \n",
       "4     2714724      167756                     1.0                      2   \n",
       "\n",
       "   DAYS_INSTALMENT  DAYS_ENTRY_PAYMENT  AMT_INSTALMENT  AMT_PAYMENT  \n",
       "0          -1180.0             -1187.0        6948.360     6948.360  \n",
       "1          -2156.0             -2156.0        1716.525     1716.525  \n",
       "2            -63.0               -63.0       25425.000    25425.000  \n",
       "3          -2418.0             -2426.0       24350.130    24350.130  \n",
       "4          -1383.0             -1366.0        2165.040     2160.585  "
      ]
     },
     "execution_count": 4,
     "metadata": {},
     "output_type": "execute_result"
    }
   ],
   "source": [
    "df_install.head()"
   ]
  },
  {
   "cell_type": "code",
   "execution_count": 5,
   "id": "328dc130",
   "metadata": {},
   "outputs": [
    {
     "name": "stdout",
     "output_type": "stream",
     "text": [
      "<class 'pandas.core.frame.DataFrame'>\n",
      "RangeIndex: 13605401 entries, 0 to 13605400\n",
      "Data columns (total 8 columns):\n",
      " #   Column                  Dtype  \n",
      "---  ------                  -----  \n",
      " 0   SK_ID_PREV              int64  \n",
      " 1   SK_ID_CURR              int64  \n",
      " 2   NUM_INSTALMENT_VERSION  float64\n",
      " 3   NUM_INSTALMENT_NUMBER   int64  \n",
      " 4   DAYS_INSTALMENT         float64\n",
      " 5   DAYS_ENTRY_PAYMENT      float64\n",
      " 6   AMT_INSTALMENT          float64\n",
      " 7   AMT_PAYMENT             float64\n",
      "dtypes: float64(5), int64(3)\n",
      "memory usage: 830.4 MB\n"
     ]
    }
   ],
   "source": [
    "df_install.info(verbose = True)"
   ]
  },
  {
   "cell_type": "markdown",
   "id": "5347b75e",
   "metadata": {},
   "source": [
    "SK_ID_PREV: ID of previous credit in Home Credit related to loan in our sample         \n",
    "SK_ID_CURR: ID of loan in our sample           \n",
    "NUM_INSTALMENT_VERSION: Version of installment calendar (0 is for credit card) of previous credit. Change of installment version from month to month signifies that some parameter of payment calendar has changed\n",
    "\n",
    "NUM_INSTALMENT_NUMBER : On which installment we observe payment (lan tra gop so bao nhieu)\n",
    "\n",
    "DAYS_INSTALMENT: When the installment of previous credit was supposed to be paid (relative to application date of current loan),time only relative to the application (ngay tra gop)       \n",
    "DAYS_ENTRY_PAYMENT: When was the installments of previous credit paid actually (ngay ma khach hang that su tra)    \n",
    "AMT_INSTALMENT: What was the prescribed installment amount of previous credit on this installment (luong tien tra gop dang ra khach hang phai tra)     \n",
    "AMT_PAYMENT: What the client actually paid on previous credit on this installment ( luong tien tra gop ma khach hang that su tra)"
   ]
  },
  {
   "cell_type": "code",
   "execution_count": 6,
   "id": "4ed282fe",
   "metadata": {},
   "outputs": [
    {
     "data": {
      "text/html": [
       "<div>\n",
       "<style scoped>\n",
       "    .dataframe tbody tr th:only-of-type {\n",
       "        vertical-align: middle;\n",
       "    }\n",
       "\n",
       "    .dataframe tbody tr th {\n",
       "        vertical-align: top;\n",
       "    }\n",
       "\n",
       "    .dataframe thead th {\n",
       "        text-align: right;\n",
       "    }\n",
       "</style>\n",
       "<table border=\"1\" class=\"dataframe\">\n",
       "  <thead>\n",
       "    <tr style=\"text-align: right;\">\n",
       "      <th></th>\n",
       "      <th>SK_ID_PREV</th>\n",
       "      <th>SK_ID_CURR</th>\n",
       "      <th>NUM_INSTALMENT_VERSION</th>\n",
       "      <th>NUM_INSTALMENT_NUMBER</th>\n",
       "      <th>DAYS_INSTALMENT</th>\n",
       "      <th>DAYS_ENTRY_PAYMENT</th>\n",
       "      <th>AMT_INSTALMENT</th>\n",
       "      <th>AMT_PAYMENT</th>\n",
       "    </tr>\n",
       "  </thead>\n",
       "  <tbody>\n",
       "    <tr>\n",
       "      <th>count</th>\n",
       "      <td>1.360540e+07</td>\n",
       "      <td>1.360540e+07</td>\n",
       "      <td>1.360540e+07</td>\n",
       "      <td>1.360540e+07</td>\n",
       "      <td>1.360540e+07</td>\n",
       "      <td>1.360250e+07</td>\n",
       "      <td>1.360540e+07</td>\n",
       "      <td>1.360250e+07</td>\n",
       "    </tr>\n",
       "    <tr>\n",
       "      <th>mean</th>\n",
       "      <td>1.903365e+06</td>\n",
       "      <td>2.784449e+05</td>\n",
       "      <td>8.566373e-01</td>\n",
       "      <td>1.887090e+01</td>\n",
       "      <td>-1.042270e+03</td>\n",
       "      <td>-1.051114e+03</td>\n",
       "      <td>1.705091e+04</td>\n",
       "      <td>1.723822e+04</td>\n",
       "    </tr>\n",
       "    <tr>\n",
       "      <th>std</th>\n",
       "      <td>5.362029e+05</td>\n",
       "      <td>1.027183e+05</td>\n",
       "      <td>1.035216e+00</td>\n",
       "      <td>2.666407e+01</td>\n",
       "      <td>8.009463e+02</td>\n",
       "      <td>8.005859e+02</td>\n",
       "      <td>5.057025e+04</td>\n",
       "      <td>5.473578e+04</td>\n",
       "    </tr>\n",
       "    <tr>\n",
       "      <th>min</th>\n",
       "      <td>1.000001e+06</td>\n",
       "      <td>1.000010e+05</td>\n",
       "      <td>0.000000e+00</td>\n",
       "      <td>1.000000e+00</td>\n",
       "      <td>-2.922000e+03</td>\n",
       "      <td>-4.921000e+03</td>\n",
       "      <td>0.000000e+00</td>\n",
       "      <td>0.000000e+00</td>\n",
       "    </tr>\n",
       "    <tr>\n",
       "      <th>25%</th>\n",
       "      <td>1.434191e+06</td>\n",
       "      <td>1.896390e+05</td>\n",
       "      <td>0.000000e+00</td>\n",
       "      <td>4.000000e+00</td>\n",
       "      <td>-1.654000e+03</td>\n",
       "      <td>-1.662000e+03</td>\n",
       "      <td>4.226085e+03</td>\n",
       "      <td>3.398265e+03</td>\n",
       "    </tr>\n",
       "    <tr>\n",
       "      <th>50%</th>\n",
       "      <td>1.896520e+06</td>\n",
       "      <td>2.786850e+05</td>\n",
       "      <td>1.000000e+00</td>\n",
       "      <td>8.000000e+00</td>\n",
       "      <td>-8.180000e+02</td>\n",
       "      <td>-8.270000e+02</td>\n",
       "      <td>8.884080e+03</td>\n",
       "      <td>8.125515e+03</td>\n",
       "    </tr>\n",
       "    <tr>\n",
       "      <th>75%</th>\n",
       "      <td>2.369094e+06</td>\n",
       "      <td>3.675300e+05</td>\n",
       "      <td>1.000000e+00</td>\n",
       "      <td>1.900000e+01</td>\n",
       "      <td>-3.610000e+02</td>\n",
       "      <td>-3.700000e+02</td>\n",
       "      <td>1.671021e+04</td>\n",
       "      <td>1.610842e+04</td>\n",
       "    </tr>\n",
       "    <tr>\n",
       "      <th>max</th>\n",
       "      <td>2.843499e+06</td>\n",
       "      <td>4.562550e+05</td>\n",
       "      <td>1.780000e+02</td>\n",
       "      <td>2.770000e+02</td>\n",
       "      <td>-1.000000e+00</td>\n",
       "      <td>-1.000000e+00</td>\n",
       "      <td>3.771488e+06</td>\n",
       "      <td>3.771488e+06</td>\n",
       "    </tr>\n",
       "  </tbody>\n",
       "</table>\n",
       "</div>"
      ],
      "text/plain": [
       "         SK_ID_PREV    SK_ID_CURR  NUM_INSTALMENT_VERSION  \\\n",
       "count  1.360540e+07  1.360540e+07            1.360540e+07   \n",
       "mean   1.903365e+06  2.784449e+05            8.566373e-01   \n",
       "std    5.362029e+05  1.027183e+05            1.035216e+00   \n",
       "min    1.000001e+06  1.000010e+05            0.000000e+00   \n",
       "25%    1.434191e+06  1.896390e+05            0.000000e+00   \n",
       "50%    1.896520e+06  2.786850e+05            1.000000e+00   \n",
       "75%    2.369094e+06  3.675300e+05            1.000000e+00   \n",
       "max    2.843499e+06  4.562550e+05            1.780000e+02   \n",
       "\n",
       "       NUM_INSTALMENT_NUMBER  DAYS_INSTALMENT  DAYS_ENTRY_PAYMENT  \\\n",
       "count           1.360540e+07     1.360540e+07        1.360250e+07   \n",
       "mean            1.887090e+01    -1.042270e+03       -1.051114e+03   \n",
       "std             2.666407e+01     8.009463e+02        8.005859e+02   \n",
       "min             1.000000e+00    -2.922000e+03       -4.921000e+03   \n",
       "25%             4.000000e+00    -1.654000e+03       -1.662000e+03   \n",
       "50%             8.000000e+00    -8.180000e+02       -8.270000e+02   \n",
       "75%             1.900000e+01    -3.610000e+02       -3.700000e+02   \n",
       "max             2.770000e+02    -1.000000e+00       -1.000000e+00   \n",
       "\n",
       "       AMT_INSTALMENT   AMT_PAYMENT  \n",
       "count    1.360540e+07  1.360250e+07  \n",
       "mean     1.705091e+04  1.723822e+04  \n",
       "std      5.057025e+04  5.473578e+04  \n",
       "min      0.000000e+00  0.000000e+00  \n",
       "25%      4.226085e+03  3.398265e+03  \n",
       "50%      8.884080e+03  8.125515e+03  \n",
       "75%      1.671021e+04  1.610842e+04  \n",
       "max      3.771488e+06  3.771488e+06  "
      ]
     },
     "execution_count": 6,
     "metadata": {},
     "output_type": "execute_result"
    }
   ],
   "source": [
    "df_install.describe()"
   ]
  },
  {
   "cell_type": "code",
   "execution_count": 7,
   "id": "3c9058cc",
   "metadata": {},
   "outputs": [
    {
     "data": {
      "text/plain": [
       "0"
      ]
     },
     "execution_count": 7,
     "metadata": {},
     "output_type": "execute_result"
    }
   ],
   "source": [
    "df_install.duplicated().sum()"
   ]
  },
  {
   "cell_type": "code",
   "execution_count": 8,
   "id": "9f8bf715",
   "metadata": {},
   "outputs": [
    {
     "data": {
      "text/plain": [
       "SK_ID_PREV                   0\n",
       "SK_ID_CURR                   0\n",
       "NUM_INSTALMENT_VERSION       0\n",
       "NUM_INSTALMENT_NUMBER        0\n",
       "DAYS_INSTALMENT              0\n",
       "DAYS_ENTRY_PAYMENT        2905\n",
       "AMT_INSTALMENT               0\n",
       "AMT_PAYMENT               2905\n",
       "dtype: int64"
      ]
     },
     "execution_count": 8,
     "metadata": {},
     "output_type": "execute_result"
    }
   ],
   "source": [
    "df_install.isnull().sum()"
   ]
  },
  {
   "cell_type": "code",
   "execution_count": 9,
   "id": "62c2f3d0",
   "metadata": {},
   "outputs": [
    {
     "data": {
      "text/plain": [
       "DAYS_ENTRY_PAYMENT        0.000214\n",
       "AMT_PAYMENT               0.000214\n",
       "SK_ID_PREV                0.000000\n",
       "SK_ID_CURR                0.000000\n",
       "NUM_INSTALMENT_VERSION    0.000000\n",
       "NUM_INSTALMENT_NUMBER     0.000000\n",
       "DAYS_INSTALMENT           0.000000\n",
       "AMT_INSTALMENT            0.000000\n",
       "dtype: float64"
      ]
     },
     "execution_count": 9,
     "metadata": {},
     "output_type": "execute_result"
    }
   ],
   "source": [
    "(df_install.isna().sum() / df_install.shape[0]).sort_values(ascending=False)"
   ]
  },
  {
   "cell_type": "code",
   "execution_count": 10,
   "id": "fcbf1fa9",
   "metadata": {},
   "outputs": [],
   "source": [
    "def check_missed_values(df):\n",
    "    df_null_percentage = df.isnull().sum() / df.shape[0] * 100\n",
    "    df_null_percentage = df_null_percentage.drop(df_null_percentage[df_null_percentage == 0].index).sort_values(ascending= False).reset_index()\n",
    "    df_null_percentage.columns = [\"Feature\", \"Percentage\"]\n",
    "    return df_null_percentage\n",
    "\n",
    "null_df = check_missed_values(df_install)"
   ]
  },
  {
   "cell_type": "code",
   "execution_count": 11,
   "id": "527625ab",
   "metadata": {},
   "outputs": [
    {
     "data": {
      "text/plain": [
       "<AxesSubplot:xlabel='Percentage', ylabel='Feature'>"
      ]
     },
     "execution_count": 11,
     "metadata": {},
     "output_type": "execute_result"
    },
    {
     "data": {
      "image/png": "[encoded data removed]",
      "text/plain": [
       "<Figure size 1152x360 with 1 Axes>"
      ]
     },
     "metadata": {
      "needs_background": "light"
     },
     "output_type": "display_data"
    }
   ],
   "source": [
    "plt.figure(figsize=(16,5))\n",
    "sns.barplot(x=  null_df[\"Percentage\"] , y= null_df[\"Feature\"] )"
   ]
  },
  {
   "cell_type": "markdown",
   "id": "23835c58",
   "metadata": {},
   "source": [
    "You can see in the chart is that the percentage of missing values for feature AMT_payment and Days_entry_payment is really low, we can drop them and make no impact to the result"
   ]
  },
  {
   "cell_type": "code",
   "execution_count": 12,
   "id": "2f1ac7ba",
   "metadata": {},
   "outputs": [],
   "source": [
    "df_install.dropna(subset=[\"AMT_PAYMENT\", \"DAYS_ENTRY_PAYMENT\"], inplace=True)"
   ]
  },
  {
   "cell_type": "code",
   "execution_count": 13,
   "id": "7c19b9a3",
   "metadata": {},
   "outputs": [
    {
     "data": {
      "text/html": [
       "<div>\n",
       "<style scoped>\n",
       "    .dataframe tbody tr th:only-of-type {\n",
       "        vertical-align: middle;\n",
       "    }\n",
       "\n",
       "    .dataframe tbody tr th {\n",
       "        vertical-align: top;\n",
       "    }\n",
       "\n",
       "    .dataframe thead th {\n",
       "        text-align: right;\n",
       "    }\n",
       "</style>\n",
       "<table border=\"1\" class=\"dataframe\">\n",
       "  <thead>\n",
       "    <tr style=\"text-align: right;\">\n",
       "      <th></th>\n",
       "      <th>Feature</th>\n",
       "      <th>Percentage</th>\n",
       "    </tr>\n",
       "  </thead>\n",
       "  <tbody>\n",
       "  </tbody>\n",
       "</table>\n",
       "</div>"
      ],
      "text/plain": [
       "Empty DataFrame\n",
       "Columns: [Feature, Percentage]\n",
       "Index: []"
      ]
     },
     "execution_count": 13,
     "metadata": {},
     "output_type": "execute_result"
    }
   ],
   "source": [
    "check_missed_values(df_install)"
   ]
  },
  {
   "cell_type": "markdown",
   "id": "5c730614",
   "metadata": {},
   "source": [
    "After droped there is no missed value left"
   ]
  },
  {
   "cell_type": "code",
   "execution_count": null,
   "id": "80342da0",
   "metadata": {},
   "outputs": [],
   "source": []
  },
  {
   "cell_type": "code",
   "execution_count": 14,
   "id": "50c8be86",
   "metadata": {},
   "outputs": [
    {
     "data": {
      "text/html": [
       "<div>\n",
       "<style scoped>\n",
       "    .dataframe tbody tr th:only-of-type {\n",
       "        vertical-align: middle;\n",
       "    }\n",
       "\n",
       "    .dataframe tbody tr th {\n",
       "        vertical-align: top;\n",
       "    }\n",
       "\n",
       "    .dataframe thead th {\n",
       "        text-align: right;\n",
       "    }\n",
       "</style>\n",
       "<table border=\"1\" class=\"dataframe\">\n",
       "  <thead>\n",
       "    <tr style=\"text-align: right;\">\n",
       "      <th></th>\n",
       "      <th>count</th>\n",
       "      <th>mean</th>\n",
       "      <th>std</th>\n",
       "      <th>min</th>\n",
       "      <th>25%</th>\n",
       "      <th>50%</th>\n",
       "      <th>75%</th>\n",
       "      <th>max</th>\n",
       "    </tr>\n",
       "  </thead>\n",
       "  <tbody>\n",
       "    <tr>\n",
       "      <th>SK_ID_PREV</th>\n",
       "      <td>13602496.0</td>\n",
       "      <td>1.903364e+06</td>\n",
       "      <td>536206.564667</td>\n",
       "      <td>1000001.0</td>\n",
       "      <td>1434182.000</td>\n",
       "      <td>1896524.000</td>\n",
       "      <td>2369094.000</td>\n",
       "      <td>2843499.000</td>\n",
       "    </tr>\n",
       "    <tr>\n",
       "      <th>SK_ID_CURR</th>\n",
       "      <td>13602496.0</td>\n",
       "      <td>2.784441e+05</td>\n",
       "      <td>102718.470692</td>\n",
       "      <td>100001.0</td>\n",
       "      <td>189639.000</td>\n",
       "      <td>278684.000</td>\n",
       "      <td>367530.000</td>\n",
       "      <td>456255.000</td>\n",
       "    </tr>\n",
       "    <tr>\n",
       "      <th>NUM_INSTALMENT_VERSION</th>\n",
       "      <td>13602496.0</td>\n",
       "      <td>8.564952e-01</td>\n",
       "      <td>1.031683</td>\n",
       "      <td>0.0</td>\n",
       "      <td>0.000</td>\n",
       "      <td>1.000</td>\n",
       "      <td>1.000</td>\n",
       "      <td>73.000</td>\n",
       "    </tr>\n",
       "    <tr>\n",
       "      <th>NUM_INSTALMENT_NUMBER</th>\n",
       "      <td>13602496.0</td>\n",
       "      <td>1.886637e+01</td>\n",
       "      <td>26.661310</td>\n",
       "      <td>1.0</td>\n",
       "      <td>4.000</td>\n",
       "      <td>8.000</td>\n",
       "      <td>19.000</td>\n",
       "      <td>277.000</td>\n",
       "    </tr>\n",
       "    <tr>\n",
       "      <th>DAYS_INSTALMENT</th>\n",
       "      <td>13602496.0</td>\n",
       "      <td>-1.042326e+03</td>\n",
       "      <td>800.945622</td>\n",
       "      <td>-2922.0</td>\n",
       "      <td>-1654.000</td>\n",
       "      <td>-818.000</td>\n",
       "      <td>-361.000</td>\n",
       "      <td>-1.000</td>\n",
       "    </tr>\n",
       "    <tr>\n",
       "      <th>DAYS_ENTRY_PAYMENT</th>\n",
       "      <td>13602496.0</td>\n",
       "      <td>-1.051114e+03</td>\n",
       "      <td>800.585883</td>\n",
       "      <td>-4921.0</td>\n",
       "      <td>-1662.000</td>\n",
       "      <td>-827.000</td>\n",
       "      <td>-370.000</td>\n",
       "      <td>-1.000</td>\n",
       "    </tr>\n",
       "    <tr>\n",
       "      <th>AMT_INSTALMENT</th>\n",
       "      <td>13602496.0</td>\n",
       "      <td>1.705107e+04</td>\n",
       "      <td>50568.662196</td>\n",
       "      <td>0.0</td>\n",
       "      <td>4227.660</td>\n",
       "      <td>8884.710</td>\n",
       "      <td>16710.210</td>\n",
       "      <td>3771487.845</td>\n",
       "    </tr>\n",
       "    <tr>\n",
       "      <th>AMT_PAYMENT</th>\n",
       "      <td>13602496.0</td>\n",
       "      <td>1.723822e+04</td>\n",
       "      <td>54735.783981</td>\n",
       "      <td>0.0</td>\n",
       "      <td>3398.265</td>\n",
       "      <td>8125.515</td>\n",
       "      <td>16108.425</td>\n",
       "      <td>3771487.845</td>\n",
       "    </tr>\n",
       "  </tbody>\n",
       "</table>\n",
       "</div>"
      ],
      "text/plain": [
       "                             count          mean            std        min  \\\n",
       "SK_ID_PREV              13602496.0  1.903364e+06  536206.564667  1000001.0   \n",
       "SK_ID_CURR              13602496.0  2.784441e+05  102718.470692   100001.0   \n",
       "NUM_INSTALMENT_VERSION  13602496.0  8.564952e-01       1.031683        0.0   \n",
       "NUM_INSTALMENT_NUMBER   13602496.0  1.886637e+01      26.661310        1.0   \n",
       "DAYS_INSTALMENT         13602496.0 -1.042326e+03     800.945622    -2922.0   \n",
       "DAYS_ENTRY_PAYMENT      13602496.0 -1.051114e+03     800.585883    -4921.0   \n",
       "AMT_INSTALMENT          13602496.0  1.705107e+04   50568.662196        0.0   \n",
       "AMT_PAYMENT             13602496.0  1.723822e+04   54735.783981        0.0   \n",
       "\n",
       "                                25%          50%          75%          max  \n",
       "SK_ID_PREV              1434182.000  1896524.000  2369094.000  2843499.000  \n",
       "SK_ID_CURR               189639.000   278684.000   367530.000   456255.000  \n",
       "NUM_INSTALMENT_VERSION        0.000        1.000        1.000       73.000  \n",
       "NUM_INSTALMENT_NUMBER         4.000        8.000       19.000      277.000  \n",
       "DAYS_INSTALMENT           -1654.000     -818.000     -361.000       -1.000  \n",
       "DAYS_ENTRY_PAYMENT        -1662.000     -827.000     -370.000       -1.000  \n",
       "AMT_INSTALMENT             4227.660     8884.710    16710.210  3771487.845  \n",
       "AMT_PAYMENT                3398.265     8125.515    16108.425  3771487.845  "
      ]
     },
     "execution_count": 14,
     "metadata": {},
     "output_type": "execute_result"
    }
   ],
   "source": [
    "df_install.describe().T"
   ]
  },
  {
   "cell_type": "code",
   "execution_count": 15,
   "id": "0c6a77af",
   "metadata": {},
   "outputs": [
    {
     "data": {
      "text/plain": [
       "<AxesSubplot:>"
      ]
     },
     "execution_count": 15,
     "metadata": {},
     "output_type": "execute_result"
    },
    {
     "data": {
      "image/png": "[encoded data removed]",
      "text/plain": [
       "<Figure size 720x720 with 2 Axes>"
      ]
     },
     "metadata": {
      "needs_background": "light"
     },
     "output_type": "display_data"
    }
   ],
   "source": [
    "numeric_df = df_install._get_numeric_data()\n",
    "numeric_df_corr = numeric_df.corr()\n",
    "numeric_df_corr\n",
    "\n",
    "plt.figure(figsize=(10,10))\n",
    "mask = np.zeros_like(numeric_df_corr, dtype=bool)\n",
    "mask[np.triu_indices_from(mask)] = True\n",
    "mask[np.diag_indices_from(mask)] = False\n",
    "sns.heatmap(numeric_df_corr,mask= mask, annot= True, fmt=\".3f\", linewidth=.5)"
   ]
  },
  {
   "cell_type": "code",
   "execution_count": null,
   "id": "af6c35ae",
   "metadata": {},
   "outputs": [],
   "source": []
  },
  {
   "cell_type": "code",
   "execution_count": null,
   "id": "f2efa2da",
   "metadata": {},
   "outputs": [],
   "source": []
  },
  {
   "cell_type": "code",
   "execution_count": null,
   "id": "5495ec05",
   "metadata": {},
   "outputs": [],
   "source": []
  },
  {
   "cell_type": "code",
   "execution_count": 16,
   "id": "6065bd8a",
   "metadata": {},
   "outputs": [],
   "source": [
    "def draw_distribution(x, title,c):\n",
    "    fig, ax = plt.subplots(2,1,figsize=(20,10))\n",
    "\n",
    "    sns.histplot(x,ax=ax[0],color=c)\n",
    "    ax[0].set(xlabel=None)\n",
    "    ax[0].set_title('Histogram + KDE')\n",
    "\n",
    "    sns.boxplot(x, ax=ax[1],color=c)\n",
    "    ax[1].set(xlabel=None)\n",
    "    ax[1].set_title('Boxplot')\n",
    "\n",
    "    fig.suptitle(title, fontsize=20)\n",
    "    plt.tight_layout()\n",
    "    plt.show()"
   ]
  },
  {
   "cell_type": "code",
   "execution_count": 17,
   "id": "129a0cdc",
   "metadata": {},
   "outputs": [
    {
     "name": "stderr",
     "output_type": "stream",
     "text": [
      "c:\\users\\lehuyphong\\appdata\\local\\programs\\python\\python39\\lib\\site-packages\\seaborn\\_decorators.py:36: FutureWarning: Pass the following variable as a keyword arg: x. From version 0.12, the only valid positional argument will be `data`, and passing other arguments without an explicit keyword will result in an error or misinterpretation.\n",
      "  warnings.warn(\n"
     ]
    },
    {
     "data": {
      "image/png": "[encoded data removed]",
      "text/plain": [
       "<Figure size 1440x720 with 2 Axes>"
      ]
     },
     "metadata": {
      "needs_background": "light"
     },
     "output_type": "display_data"
    }
   ],
   "source": [
    "#distribution of \"Instaltment number\"\n",
    "draw_distribution(df_install['NUM_INSTALMENT_NUMBER'],'Distribution of Instaltment number',\"g\")"
   ]
  },
  {
   "cell_type": "code",
   "execution_count": 18,
   "id": "670d16c7",
   "metadata": {},
   "outputs": [
    {
     "name": "stderr",
     "output_type": "stream",
     "text": [
      "c:\\users\\lehuyphong\\appdata\\local\\programs\\python\\python39\\lib\\site-packages\\seaborn\\_decorators.py:36: FutureWarning: Pass the following variable as a keyword arg: x. From version 0.12, the only valid positional argument will be `data`, and passing other arguments without an explicit keyword will result in an error or misinterpretation.\n",
      "  warnings.warn(\n"
     ]
    },
    {
     "data": {
      "image/png": "[encoded data removed]",
      "text/plain": [
       "<Figure size 1440x720 with 2 Axes>"
      ]
     },
     "metadata": {
      "needs_background": "light"
     },
     "output_type": "display_data"
    }
   ],
   "source": [
    "draw_distribution(df_install['AMT_INSTALMENT'],'Distribution of Instaltment number',\"g\")"
   ]
  },
  {
   "cell_type": "code",
   "execution_count": 19,
   "id": "c0bd7df9",
   "metadata": {},
   "outputs": [
    {
     "name": "stderr",
     "output_type": "stream",
     "text": [
      "c:\\users\\lehuyphong\\appdata\\local\\programs\\python\\python39\\lib\\site-packages\\seaborn\\_decorators.py:36: FutureWarning: Pass the following variable as a keyword arg: x. From version 0.12, the only valid positional argument will be `data`, and passing other arguments without an explicit keyword will result in an error or misinterpretation.\n",
      "  warnings.warn(\n"
     ]
    },
    {
     "data": {
      "image/png": "[encoded data removed]",
      "text/plain": [
       "<Figure size 1440x720 with 2 Axes>"
      ]
     },
     "metadata": {
      "needs_background": "light"
     },
     "output_type": "display_data"
    }
   ],
   "source": [
    "draw_distribution(df_install['AMT_PAYMENT'],'Distribution of Instaltment number',\"g\")"
   ]
  },
  {
   "cell_type": "code",
   "execution_count": 20,
   "id": "731928d7",
   "metadata": {},
   "outputs": [
    {
     "name": "stdout",
     "output_type": "stream",
     "text": [
      "<class 'pandas.core.frame.DataFrame'>\n",
      "Int64Index: 13602496 entries, 0 to 13605348\n",
      "Data columns (total 7 columns):\n",
      " #   Column                  Dtype  \n",
      "---  ------                  -----  \n",
      " 0   SK_ID_CURR              int64  \n",
      " 1   NUM_INSTALMENT_VERSION  float64\n",
      " 2   NUM_INSTALMENT_NUMBER   int64  \n",
      " 3   DAYS_INSTALMENT         float64\n",
      " 4   DAYS_ENTRY_PAYMENT      float64\n",
      " 5   AMT_INSTALMENT          float64\n",
      " 6   AMT_PAYMENT             float64\n",
      "dtypes: float64(5), int64(2)\n",
      "memory usage: 830.2 MB\n"
     ]
    }
   ],
   "source": [
    "df_install_dr = df_install.drop([\"SK_ID_PREV\"], axis = 1)\n",
    "df_install_dr.info()"
   ]
  },
  {
   "cell_type": "code",
   "execution_count": 21,
   "id": "e6c9fa0a",
   "metadata": {},
   "outputs": [
    {
     "data": {
      "text/html": [
       "<div>\n",
       "<style scoped>\n",
       "    .dataframe tbody tr th:only-of-type {\n",
       "        vertical-align: middle;\n",
       "    }\n",
       "\n",
       "    .dataframe tbody tr th {\n",
       "        vertical-align: top;\n",
       "    }\n",
       "\n",
       "    .dataframe thead th {\n",
       "        text-align: right;\n",
       "    }\n",
       "</style>\n",
       "<table border=\"1\" class=\"dataframe\">\n",
       "  <thead>\n",
       "    <tr style=\"text-align: right;\">\n",
       "      <th></th>\n",
       "      <th>SK_ID_CURR</th>\n",
       "      <th>TARGET</th>\n",
       "      <th>SK_ID_PREV</th>\n",
       "      <th>NUM_INSTALMENT_VERSION</th>\n",
       "      <th>NUM_INSTALMENT_NUMBER</th>\n",
       "      <th>DAYS_INSTALMENT</th>\n",
       "      <th>DAYS_ENTRY_PAYMENT</th>\n",
       "      <th>AMT_INSTALMENT</th>\n",
       "      <th>AMT_PAYMENT</th>\n",
       "    </tr>\n",
       "  </thead>\n",
       "  <tbody>\n",
       "    <tr>\n",
       "      <th>0</th>\n",
       "      <td>100002</td>\n",
       "      <td>1</td>\n",
       "      <td>1038818.0</td>\n",
       "      <td>1.0</td>\n",
       "      <td>16.0</td>\n",
       "      <td>-115.0</td>\n",
       "      <td>-133.0</td>\n",
       "      <td>9251.775</td>\n",
       "      <td>9251.775</td>\n",
       "    </tr>\n",
       "    <tr>\n",
       "      <th>1</th>\n",
       "      <td>100002</td>\n",
       "      <td>1</td>\n",
       "      <td>1038818.0</td>\n",
       "      <td>1.0</td>\n",
       "      <td>8.0</td>\n",
       "      <td>-355.0</td>\n",
       "      <td>-375.0</td>\n",
       "      <td>9251.775</td>\n",
       "      <td>9251.775</td>\n",
       "    </tr>\n",
       "    <tr>\n",
       "      <th>2</th>\n",
       "      <td>100002</td>\n",
       "      <td>1</td>\n",
       "      <td>1038818.0</td>\n",
       "      <td>2.0</td>\n",
       "      <td>19.0</td>\n",
       "      <td>-25.0</td>\n",
       "      <td>-49.0</td>\n",
       "      <td>53093.745</td>\n",
       "      <td>53093.745</td>\n",
       "    </tr>\n",
       "    <tr>\n",
       "      <th>3</th>\n",
       "      <td>100002</td>\n",
       "      <td>1</td>\n",
       "      <td>1038818.0</td>\n",
       "      <td>1.0</td>\n",
       "      <td>12.0</td>\n",
       "      <td>-235.0</td>\n",
       "      <td>-250.0</td>\n",
       "      <td>9251.775</td>\n",
       "      <td>9251.775</td>\n",
       "    </tr>\n",
       "    <tr>\n",
       "      <th>4</th>\n",
       "      <td>100002</td>\n",
       "      <td>1</td>\n",
       "      <td>1038818.0</td>\n",
       "      <td>1.0</td>\n",
       "      <td>9.0</td>\n",
       "      <td>-325.0</td>\n",
       "      <td>-344.0</td>\n",
       "      <td>9251.775</td>\n",
       "      <td>9251.775</td>\n",
       "    </tr>\n",
       "    <tr>\n",
       "      <th>...</th>\n",
       "      <td>...</td>\n",
       "      <td>...</td>\n",
       "      <td>...</td>\n",
       "      <td>...</td>\n",
       "      <td>...</td>\n",
       "      <td>...</td>\n",
       "      <td>...</td>\n",
       "      <td>...</td>\n",
       "      <td>...</td>\n",
       "    </tr>\n",
       "    <tr>\n",
       "      <th>11604880</th>\n",
       "      <td>456255</td>\n",
       "      <td>0</td>\n",
       "      <td>1743609.0</td>\n",
       "      <td>1.0</td>\n",
       "      <td>7.0</td>\n",
       "      <td>-780.0</td>\n",
       "      <td>-781.0</td>\n",
       "      <td>11090.835</td>\n",
       "      <td>11090.835</td>\n",
       "    </tr>\n",
       "    <tr>\n",
       "      <th>11604881</th>\n",
       "      <td>456255</td>\n",
       "      <td>0</td>\n",
       "      <td>2631384.0</td>\n",
       "      <td>3.0</td>\n",
       "      <td>6.0</td>\n",
       "      <td>-606.0</td>\n",
       "      <td>-613.0</td>\n",
       "      <td>27489.690</td>\n",
       "      <td>27489.690</td>\n",
       "    </tr>\n",
       "    <tr>\n",
       "      <th>11604882</th>\n",
       "      <td>456255</td>\n",
       "      <td>0</td>\n",
       "      <td>1359084.0</td>\n",
       "      <td>1.0</td>\n",
       "      <td>7.0</td>\n",
       "      <td>-245.0</td>\n",
       "      <td>-243.0</td>\n",
       "      <td>11314.170</td>\n",
       "      <td>11314.170</td>\n",
       "    </tr>\n",
       "    <tr>\n",
       "      <th>11604883</th>\n",
       "      <td>456255</td>\n",
       "      <td>0</td>\n",
       "      <td>2631384.0</td>\n",
       "      <td>3.0</td>\n",
       "      <td>12.0</td>\n",
       "      <td>-426.0</td>\n",
       "      <td>-435.0</td>\n",
       "      <td>27489.690</td>\n",
       "      <td>27489.690</td>\n",
       "    </tr>\n",
       "    <tr>\n",
       "      <th>11604884</th>\n",
       "      <td>456255</td>\n",
       "      <td>0</td>\n",
       "      <td>2631384.0</td>\n",
       "      <td>3.0</td>\n",
       "      <td>9.0</td>\n",
       "      <td>-516.0</td>\n",
       "      <td>-523.0</td>\n",
       "      <td>27489.690</td>\n",
       "      <td>27489.690</td>\n",
       "    </tr>\n",
       "  </tbody>\n",
       "</table>\n",
       "<p>11604885 rows × 9 columns</p>\n",
       "</div>"
      ],
      "text/plain": [
       "          SK_ID_CURR  TARGET  SK_ID_PREV  NUM_INSTALMENT_VERSION  \\\n",
       "0             100002       1   1038818.0                     1.0   \n",
       "1             100002       1   1038818.0                     1.0   \n",
       "2             100002       1   1038818.0                     2.0   \n",
       "3             100002       1   1038818.0                     1.0   \n",
       "4             100002       1   1038818.0                     1.0   \n",
       "...              ...     ...         ...                     ...   \n",
       "11604880      456255       0   1743609.0                     1.0   \n",
       "11604881      456255       0   2631384.0                     3.0   \n",
       "11604882      456255       0   1359084.0                     1.0   \n",
       "11604883      456255       0   2631384.0                     3.0   \n",
       "11604884      456255       0   2631384.0                     3.0   \n",
       "\n",
       "          NUM_INSTALMENT_NUMBER  DAYS_INSTALMENT  DAYS_ENTRY_PAYMENT  \\\n",
       "0                          16.0           -115.0              -133.0   \n",
       "1                           8.0           -355.0              -375.0   \n",
       "2                          19.0            -25.0               -49.0   \n",
       "3                          12.0           -235.0              -250.0   \n",
       "4                           9.0           -325.0              -344.0   \n",
       "...                         ...              ...                 ...   \n",
       "11604880                    7.0           -780.0              -781.0   \n",
       "11604881                    6.0           -606.0              -613.0   \n",
       "11604882                    7.0           -245.0              -243.0   \n",
       "11604883                   12.0           -426.0              -435.0   \n",
       "11604884                    9.0           -516.0              -523.0   \n",
       "\n",
       "          AMT_INSTALMENT  AMT_PAYMENT  \n",
       "0               9251.775     9251.775  \n",
       "1               9251.775     9251.775  \n",
       "2              53093.745    53093.745  \n",
       "3               9251.775     9251.775  \n",
       "4               9251.775     9251.775  \n",
       "...                  ...          ...  \n",
       "11604880       11090.835    11090.835  \n",
       "11604881       27489.690    27489.690  \n",
       "11604882       11314.170    11314.170  \n",
       "11604883       27489.690    27489.690  \n",
       "11604884       27489.690    27489.690  \n",
       "\n",
       "[11604885 rows x 9 columns]"
      ]
     },
     "execution_count": 21,
     "metadata": {},
     "output_type": "execute_result"
    }
   ],
   "source": [
    "df_install_merged = pd.merge(df_train[['SK_ID_CURR','TARGET']], df_install, how = 'left', on=['SK_ID_CURR'])\n",
    "df_install_merged"
   ]
  },
  {
   "cell_type": "code",
   "execution_count": 22,
   "id": "d50c74ad",
   "metadata": {},
   "outputs": [
    {
     "data": {
      "text/html": [
       "<div>\n",
       "<style scoped>\n",
       "    .dataframe tbody tr th:only-of-type {\n",
       "        vertical-align: middle;\n",
       "    }\n",
       "\n",
       "    .dataframe tbody tr th {\n",
       "        vertical-align: top;\n",
       "    }\n",
       "\n",
       "    .dataframe thead th {\n",
       "        text-align: right;\n",
       "    }\n",
       "</style>\n",
       "<table border=\"1\" class=\"dataframe\">\n",
       "  <thead>\n",
       "    <tr style=\"text-align: right;\">\n",
       "      <th></th>\n",
       "      <th>count</th>\n",
       "      <th>mean</th>\n",
       "      <th>std</th>\n",
       "      <th>min</th>\n",
       "      <th>25%</th>\n",
       "      <th>50%</th>\n",
       "      <th>75%</th>\n",
       "      <th>max</th>\n",
       "    </tr>\n",
       "  </thead>\n",
       "  <tbody>\n",
       "    <tr>\n",
       "      <th>SK_ID_CURR</th>\n",
       "      <td>11604885.0</td>\n",
       "      <td>2.785320e+05</td>\n",
       "      <td>102640.035844</td>\n",
       "      <td>100002.0</td>\n",
       "      <td>189719.000</td>\n",
       "      <td>278823.000</td>\n",
       "      <td>367504.000</td>\n",
       "      <td>456255.000</td>\n",
       "    </tr>\n",
       "    <tr>\n",
       "      <th>TARGET</th>\n",
       "      <td>11604885.0</td>\n",
       "      <td>7.588279e-02</td>\n",
       "      <td>0.264810</td>\n",
       "      <td>0.0</td>\n",
       "      <td>0.000</td>\n",
       "      <td>0.000</td>\n",
       "      <td>0.000</td>\n",
       "      <td>1.000</td>\n",
       "    </tr>\n",
       "    <tr>\n",
       "      <th>SK_ID_PREV</th>\n",
       "      <td>11589009.0</td>\n",
       "      <td>1.903552e+06</td>\n",
       "      <td>536235.005261</td>\n",
       "      <td>1000001.0</td>\n",
       "      <td>1434515.000</td>\n",
       "      <td>1896643.000</td>\n",
       "      <td>2369256.000</td>\n",
       "      <td>2843499.000</td>\n",
       "    </tr>\n",
       "    <tr>\n",
       "      <th>NUM_INSTALMENT_VERSION</th>\n",
       "      <td>11589009.0</td>\n",
       "      <td>8.508428e-01</td>\n",
       "      <td>0.999895</td>\n",
       "      <td>0.0</td>\n",
       "      <td>0.000</td>\n",
       "      <td>1.000</td>\n",
       "      <td>1.000</td>\n",
       "      <td>52.000</td>\n",
       "    </tr>\n",
       "    <tr>\n",
       "      <th>NUM_INSTALMENT_NUMBER</th>\n",
       "      <td>11589009.0</td>\n",
       "      <td>1.872552e+01</td>\n",
       "      <td>26.487951</td>\n",
       "      <td>1.0</td>\n",
       "      <td>4.000</td>\n",
       "      <td>8.000</td>\n",
       "      <td>19.000</td>\n",
       "      <td>277.000</td>\n",
       "    </tr>\n",
       "    <tr>\n",
       "      <th>DAYS_INSTALMENT</th>\n",
       "      <td>11589009.0</td>\n",
       "      <td>-1.041140e+03</td>\n",
       "      <td>799.479577</td>\n",
       "      <td>-2922.0</td>\n",
       "      <td>-1654.000</td>\n",
       "      <td>-820.000</td>\n",
       "      <td>-359.000</td>\n",
       "      <td>-1.000</td>\n",
       "    </tr>\n",
       "    <tr>\n",
       "      <th>DAYS_ENTRY_PAYMENT</th>\n",
       "      <td>11589009.0</td>\n",
       "      <td>-1.049898e+03</td>\n",
       "      <td>799.078975</td>\n",
       "      <td>-4921.0</td>\n",
       "      <td>-1663.000</td>\n",
       "      <td>-829.000</td>\n",
       "      <td>-368.000</td>\n",
       "      <td>-1.000</td>\n",
       "    </tr>\n",
       "    <tr>\n",
       "      <th>AMT_INSTALMENT</th>\n",
       "      <td>11589009.0</td>\n",
       "      <td>1.691812e+04</td>\n",
       "      <td>50330.286659</td>\n",
       "      <td>0.0</td>\n",
       "      <td>4205.250</td>\n",
       "      <td>8788.815</td>\n",
       "      <td>16555.590</td>\n",
       "      <td>3771487.845</td>\n",
       "    </tr>\n",
       "    <tr>\n",
       "      <th>AMT_PAYMENT</th>\n",
       "      <td>11589009.0</td>\n",
       "      <td>1.707693e+04</td>\n",
       "      <td>54456.281887</td>\n",
       "      <td>0.0</td>\n",
       "      <td>3378.375</td>\n",
       "      <td>8095.410</td>\n",
       "      <td>15931.935</td>\n",
       "      <td>3771487.845</td>\n",
       "    </tr>\n",
       "  </tbody>\n",
       "</table>\n",
       "</div>"
      ],
      "text/plain": [
       "                             count          mean            std        min  \\\n",
       "SK_ID_CURR              11604885.0  2.785320e+05  102640.035844   100002.0   \n",
       "TARGET                  11604885.0  7.588279e-02       0.264810        0.0   \n",
       "SK_ID_PREV              11589009.0  1.903552e+06  536235.005261  1000001.0   \n",
       "NUM_INSTALMENT_VERSION  11589009.0  8.508428e-01       0.999895        0.0   \n",
       "NUM_INSTALMENT_NUMBER   11589009.0  1.872552e+01      26.487951        1.0   \n",
       "DAYS_INSTALMENT         11589009.0 -1.041140e+03     799.479577    -2922.0   \n",
       "DAYS_ENTRY_PAYMENT      11589009.0 -1.049898e+03     799.078975    -4921.0   \n",
       "AMT_INSTALMENT          11589009.0  1.691812e+04   50330.286659        0.0   \n",
       "AMT_PAYMENT             11589009.0  1.707693e+04   54456.281887        0.0   \n",
       "\n",
       "                                25%          50%          75%          max  \n",
       "SK_ID_CURR               189719.000   278823.000   367504.000   456255.000  \n",
       "TARGET                        0.000        0.000        0.000        1.000  \n",
       "SK_ID_PREV              1434515.000  1896643.000  2369256.000  2843499.000  \n",
       "NUM_INSTALMENT_VERSION        0.000        1.000        1.000       52.000  \n",
       "NUM_INSTALMENT_NUMBER         4.000        8.000       19.000      277.000  \n",
       "DAYS_INSTALMENT           -1654.000     -820.000     -359.000       -1.000  \n",
       "DAYS_ENTRY_PAYMENT        -1663.000     -829.000     -368.000       -1.000  \n",
       "AMT_INSTALMENT             4205.250     8788.815    16555.590  3771487.845  \n",
       "AMT_PAYMENT                3378.375     8095.410    15931.935  3771487.845  "
      ]
     },
     "execution_count": 22,
     "metadata": {},
     "output_type": "execute_result"
    }
   ],
   "source": [
    "df_install_merged.describe().T"
   ]
  },
  {
   "cell_type": "code",
   "execution_count": 23,
   "id": "f8b03c7a",
   "metadata": {},
   "outputs": [
    {
     "name": "stderr",
     "output_type": "stream",
     "text": [
      "c:\\users\\lehuyphong\\appdata\\local\\programs\\python\\python39\\lib\\site-packages\\seaborn\\_decorators.py:36: FutureWarning: Pass the following variable as a keyword arg: x. From version 0.12, the only valid positional argument will be `data`, and passing other arguments without an explicit keyword will result in an error or misinterpretation.\n",
      "  warnings.warn(\n"
     ]
    },
    {
     "data": {
      "text/plain": [
       "<AxesSubplot:xlabel='NUM_INSTALMENT_VERSION'>"
      ]
     },
     "execution_count": 23,
     "metadata": {},
     "output_type": "execute_result"
    },
    {
     "data": {
      "image/png": "[encoded data removed]",
      "text/plain": [
       "<Figure size 720x144 with 1 Axes>"
      ]
     },
     "metadata": {
      "needs_background": "light"
     },
     "output_type": "display_data"
    }
   ],
   "source": [
    "plt.figure(figsize=(10,2))\n",
    "sns.boxplot(df_install_merged[\"NUM_INSTALMENT_VERSION\"])"
   ]
  },
  {
   "cell_type": "code",
   "execution_count": 24,
   "id": "74fa6c94",
   "metadata": {},
   "outputs": [
    {
     "name": "stderr",
     "output_type": "stream",
     "text": [
      "c:\\users\\lehuyphong\\appdata\\local\\programs\\python\\python39\\lib\\site-packages\\seaborn\\_decorators.py:36: FutureWarning: Pass the following variable as a keyword arg: x. From version 0.12, the only valid positional argument will be `data`, and passing other arguments without an explicit keyword will result in an error or misinterpretation.\n",
      "  warnings.warn(\n"
     ]
    },
    {
     "data": {
      "text/plain": [
       "<AxesSubplot:xlabel='NUM_INSTALMENT_NUMBER'>"
      ]
     },
     "execution_count": 24,
     "metadata": {},
     "output_type": "execute_result"
    },
    {
     "data": {
      "image/png": "[encoded data removed]",
      "text/plain": [
       "<Figure size 720x144 with 1 Axes>"
      ]
     },
     "metadata": {
      "needs_background": "light"
     },
     "output_type": "display_data"
    }
   ],
   "source": [
    "plt.figure(figsize=(10,2))\n",
    "sns.boxplot(df_install_merged[\"NUM_INSTALMENT_NUMBER\"])"
   ]
  },
  {
   "cell_type": "code",
   "execution_count": 25,
   "id": "c2de4711",
   "metadata": {},
   "outputs": [
    {
     "name": "stderr",
     "output_type": "stream",
     "text": [
      "c:\\users\\lehuyphong\\appdata\\local\\programs\\python\\python39\\lib\\site-packages\\seaborn\\_decorators.py:36: FutureWarning: Pass the following variable as a keyword arg: x. From version 0.12, the only valid positional argument will be `data`, and passing other arguments without an explicit keyword will result in an error or misinterpretation.\n",
      "  warnings.warn(\n"
     ]
    },
    {
     "data": {
      "text/plain": [
       "<AxesSubplot:xlabel='AMT_INSTALMENT'>"
      ]
     },
     "execution_count": 25,
     "metadata": {},
     "output_type": "execute_result"
    },
    {
     "data": {
      "image/png": "[encoded data removed]",
      "text/plain": [
       "<Figure size 720x144 with 1 Axes>"
      ]
     },
     "metadata": {
      "needs_background": "light"
     },
     "output_type": "display_data"
    }
   ],
   "source": [
    "plt.figure(figsize=(10,2))\n",
    "sns.boxplot(df_install_merged[\"AMT_INSTALMENT\"])"
   ]
  },
  {
   "cell_type": "code",
   "execution_count": 26,
   "id": "f0fa1fc7",
   "metadata": {},
   "outputs": [
    {
     "name": "stderr",
     "output_type": "stream",
     "text": [
      "c:\\users\\lehuyphong\\appdata\\local\\programs\\python\\python39\\lib\\site-packages\\seaborn\\_decorators.py:36: FutureWarning: Pass the following variable as a keyword arg: x. From version 0.12, the only valid positional argument will be `data`, and passing other arguments without an explicit keyword will result in an error or misinterpretation.\n",
      "  warnings.warn(\n"
     ]
    },
    {
     "data": {
      "text/plain": [
       "<AxesSubplot:xlabel='AMT_PAYMENT'>"
      ]
     },
     "execution_count": 26,
     "metadata": {},
     "output_type": "execute_result"
    },
    {
     "data": {
      "image/png": "[encoded data removed]",
      "text/plain": [
       "<Figure size 720x144 with 1 Axes>"
      ]
     },
     "metadata": {
      "needs_background": "light"
     },
     "output_type": "display_data"
    }
   ],
   "source": [
    "plt.figure(figsize=(10,2))\n",
    "sns.boxplot(df_install_merged[\"AMT_PAYMENT\"])"
   ]
  },
  {
   "cell_type": "markdown",
   "id": "37b7a530",
   "metadata": {},
   "source": [
    "# Biến Categorical"
   ]
  },
  {
   "cell_type": "code",
   "execution_count": 27,
   "id": "4bef597a",
   "metadata": {},
   "outputs": [
    {
     "name": "stderr",
     "output_type": "stream",
     "text": [
      "c:\\users\\lehuyphong\\appdata\\local\\programs\\python\\python39\\lib\\site-packages\\seaborn\\_decorators.py:36: FutureWarning: Pass the following variable as a keyword arg: x. From version 0.12, the only valid positional argument will be `data`, and passing other arguments without an explicit keyword will result in an error or misinterpretation.\n",
      "  warnings.warn(\n"
     ]
    },
    {
     "data": {
      "text/plain": [
       "<AxesSubplot:xlabel='NUM_INSTALMENT_VERSION', ylabel='count'>"
      ]
     },
     "execution_count": 27,
     "metadata": {},
     "output_type": "execute_result"
    },
    {
     "data": {
      "image/png": "[encoded data removed]",
      "text/plain": [
       "<Figure size 432x288 with 1 Axes>"
      ]
     },
     "metadata": {
      "needs_background": "light"
     },
     "output_type": "display_data"
    }
   ],
   "source": [
    "sns.countplot(df_install_merged[\"NUM_INSTALMENT_VERSION\"], hue= df_install_merged[\"TARGET\"])"
   ]
  },
  {
   "cell_type": "code",
   "execution_count": 28,
   "id": "9453d93e",
   "metadata": {},
   "outputs": [
    {
     "data": {
      "text/plain": [
       "array([[<AxesSubplot:title={'center':'DAYS_INSTALMENT'}>,\n",
       "        <AxesSubplot:title={'center':'DAYS_ENTRY_PAYMENT'}>]],\n",
       "      dtype=object)"
      ]
     },
     "execution_count": 28,
     "metadata": {},
     "output_type": "execute_result"
    },
    {
     "data": {
      "image/png": "[encoded data removed]",
      "text/plain": [
       "<Figure size 432x288 with 2 Axes>"
      ]
     },
     "metadata": {
      "needs_background": "light"
     },
     "output_type": "display_data"
    }
   ],
   "source": [
    "df_install_merged.iloc[:,5:7].hist(bins=20)"
   ]
  },
  {
   "cell_type": "code",
   "execution_count": 29,
   "id": "d7eb57e9",
   "metadata": {},
   "outputs": [
    {
     "data": {
      "text/plain": [
       "<seaborn.axisgrid.PairGrid at 0x19e8e0ba700>"
      ]
     },
     "execution_count": 29,
     "metadata": {},
     "output_type": "execute_result"
    },
    {
     "data": {
      "image/png": "[encoded data removed]",
      "text/plain": [
       "<Figure size 720x720 with 14 Axes>"
      ]
     },
     "metadata": {
      "needs_background": "light"
     },
     "output_type": "display_data"
    }
   ],
   "source": [
    "sns.pairplot(df_install_merged.iloc[:,5:9], corner=True)"
   ]
  },
  {
   "cell_type": "code",
   "execution_count": 30,
   "id": "f3d57de8",
   "metadata": {},
   "outputs": [
    {
     "data": {
      "text/html": [
       "<div>\n",
       "<style scoped>\n",
       "    .dataframe tbody tr th:only-of-type {\n",
       "        vertical-align: middle;\n",
       "    }\n",
       "\n",
       "    .dataframe tbody tr th {\n",
       "        vertical-align: top;\n",
       "    }\n",
       "\n",
       "    .dataframe thead th {\n",
       "        text-align: right;\n",
       "    }\n",
       "</style>\n",
       "<table border=\"1\" class=\"dataframe\">\n",
       "  <thead>\n",
       "    <tr style=\"text-align: right;\">\n",
       "      <th></th>\n",
       "      <th>SK_ID_CURR</th>\n",
       "      <th>DAYS_INSTALMENT</th>\n",
       "      <th>DAYS_ENTRY_PAYMENT</th>\n",
       "    </tr>\n",
       "  </thead>\n",
       "  <tbody>\n",
       "    <tr>\n",
       "      <th>0</th>\n",
       "      <td>100002</td>\n",
       "      <td>-115.0</td>\n",
       "      <td>-133.0</td>\n",
       "    </tr>\n",
       "    <tr>\n",
       "      <th>1</th>\n",
       "      <td>100002</td>\n",
       "      <td>-355.0</td>\n",
       "      <td>-375.0</td>\n",
       "    </tr>\n",
       "    <tr>\n",
       "      <th>2</th>\n",
       "      <td>100002</td>\n",
       "      <td>-25.0</td>\n",
       "      <td>-49.0</td>\n",
       "    </tr>\n",
       "    <tr>\n",
       "      <th>3</th>\n",
       "      <td>100002</td>\n",
       "      <td>-235.0</td>\n",
       "      <td>-250.0</td>\n",
       "    </tr>\n",
       "    <tr>\n",
       "      <th>4</th>\n",
       "      <td>100002</td>\n",
       "      <td>-325.0</td>\n",
       "      <td>-344.0</td>\n",
       "    </tr>\n",
       "    <tr>\n",
       "      <th>...</th>\n",
       "      <td>...</td>\n",
       "      <td>...</td>\n",
       "      <td>...</td>\n",
       "    </tr>\n",
       "    <tr>\n",
       "      <th>11604880</th>\n",
       "      <td>456255</td>\n",
       "      <td>-780.0</td>\n",
       "      <td>-781.0</td>\n",
       "    </tr>\n",
       "    <tr>\n",
       "      <th>11604881</th>\n",
       "      <td>456255</td>\n",
       "      <td>-606.0</td>\n",
       "      <td>-613.0</td>\n",
       "    </tr>\n",
       "    <tr>\n",
       "      <th>11604882</th>\n",
       "      <td>456255</td>\n",
       "      <td>-245.0</td>\n",
       "      <td>-243.0</td>\n",
       "    </tr>\n",
       "    <tr>\n",
       "      <th>11604883</th>\n",
       "      <td>456255</td>\n",
       "      <td>-426.0</td>\n",
       "      <td>-435.0</td>\n",
       "    </tr>\n",
       "    <tr>\n",
       "      <th>11604884</th>\n",
       "      <td>456255</td>\n",
       "      <td>-516.0</td>\n",
       "      <td>-523.0</td>\n",
       "    </tr>\n",
       "  </tbody>\n",
       "</table>\n",
       "<p>11604885 rows × 3 columns</p>\n",
       "</div>"
      ],
      "text/plain": [
       "          SK_ID_CURR  DAYS_INSTALMENT  DAYS_ENTRY_PAYMENT\n",
       "0             100002           -115.0              -133.0\n",
       "1             100002           -355.0              -375.0\n",
       "2             100002            -25.0               -49.0\n",
       "3             100002           -235.0              -250.0\n",
       "4             100002           -325.0              -344.0\n",
       "...              ...              ...                 ...\n",
       "11604880      456255           -780.0              -781.0\n",
       "11604881      456255           -606.0              -613.0\n",
       "11604882      456255           -245.0              -243.0\n",
       "11604883      456255           -426.0              -435.0\n",
       "11604884      456255           -516.0              -523.0\n",
       "\n",
       "[11604885 rows x 3 columns]"
      ]
     },
     "execution_count": 30,
     "metadata": {},
     "output_type": "execute_result"
    }
   ],
   "source": [
    "df_install_merged[[\"SK_ID_CURR\",\"DAYS_INSTALMENT\",\"DAYS_ENTRY_PAYMENT\"]]"
   ]
  },
  {
   "cell_type": "code",
   "execution_count": 31,
   "id": "37e81604",
   "metadata": {},
   "outputs": [],
   "source": [
    "def convert_month(day_to_month):\n",
    "    day_to_month_1 = day_to_month/30 \n",
    "    return day_to_month_1\n",
    "df_install_merged['DAYS_INSTALMENT'] =  df_install_merged['DAYS_INSTALMENT'].apply(convert_month)\n",
    "df_install_merged['DAYS_ENTRY_PAYMENT'] = df_install_merged['DAYS_ENTRY_PAYMENT'].apply(convert_month)"
   ]
  },
  {
   "cell_type": "code",
   "execution_count": 32,
   "id": "5b1eee16",
   "metadata": {},
   "outputs": [
    {
     "data": {
      "text/html": [
       "<div>\n",
       "<style scoped>\n",
       "    .dataframe tbody tr th:only-of-type {\n",
       "        vertical-align: middle;\n",
       "    }\n",
       "\n",
       "    .dataframe tbody tr th {\n",
       "        vertical-align: top;\n",
       "    }\n",
       "\n",
       "    .dataframe thead th {\n",
       "        text-align: right;\n",
       "    }\n",
       "</style>\n",
       "<table border=\"1\" class=\"dataframe\">\n",
       "  <thead>\n",
       "    <tr style=\"text-align: right;\">\n",
       "      <th></th>\n",
       "      <th>SK_ID_CURR</th>\n",
       "      <th>TARGET</th>\n",
       "      <th>SK_ID_PREV</th>\n",
       "      <th>NUM_INSTALMENT_VERSION</th>\n",
       "      <th>NUM_INSTALMENT_NUMBER</th>\n",
       "      <th>DAYS_INSTALMENT</th>\n",
       "      <th>DAYS_ENTRY_PAYMENT</th>\n",
       "      <th>AMT_INSTALMENT</th>\n",
       "      <th>AMT_PAYMENT</th>\n",
       "    </tr>\n",
       "  </thead>\n",
       "  <tbody>\n",
       "    <tr>\n",
       "      <th>0</th>\n",
       "      <td>100002</td>\n",
       "      <td>1</td>\n",
       "      <td>1038818.0</td>\n",
       "      <td>1.0</td>\n",
       "      <td>16.0</td>\n",
       "      <td>-3.833333</td>\n",
       "      <td>-4.433333</td>\n",
       "      <td>9251.775</td>\n",
       "      <td>9251.775</td>\n",
       "    </tr>\n",
       "    <tr>\n",
       "      <th>1</th>\n",
       "      <td>100002</td>\n",
       "      <td>1</td>\n",
       "      <td>1038818.0</td>\n",
       "      <td>1.0</td>\n",
       "      <td>8.0</td>\n",
       "      <td>-11.833333</td>\n",
       "      <td>-12.500000</td>\n",
       "      <td>9251.775</td>\n",
       "      <td>9251.775</td>\n",
       "    </tr>\n",
       "    <tr>\n",
       "      <th>2</th>\n",
       "      <td>100002</td>\n",
       "      <td>1</td>\n",
       "      <td>1038818.0</td>\n",
       "      <td>2.0</td>\n",
       "      <td>19.0</td>\n",
       "      <td>-0.833333</td>\n",
       "      <td>-1.633333</td>\n",
       "      <td>53093.745</td>\n",
       "      <td>53093.745</td>\n",
       "    </tr>\n",
       "    <tr>\n",
       "      <th>3</th>\n",
       "      <td>100002</td>\n",
       "      <td>1</td>\n",
       "      <td>1038818.0</td>\n",
       "      <td>1.0</td>\n",
       "      <td>12.0</td>\n",
       "      <td>-7.833333</td>\n",
       "      <td>-8.333333</td>\n",
       "      <td>9251.775</td>\n",
       "      <td>9251.775</td>\n",
       "    </tr>\n",
       "    <tr>\n",
       "      <th>4</th>\n",
       "      <td>100002</td>\n",
       "      <td>1</td>\n",
       "      <td>1038818.0</td>\n",
       "      <td>1.0</td>\n",
       "      <td>9.0</td>\n",
       "      <td>-10.833333</td>\n",
       "      <td>-11.466667</td>\n",
       "      <td>9251.775</td>\n",
       "      <td>9251.775</td>\n",
       "    </tr>\n",
       "    <tr>\n",
       "      <th>...</th>\n",
       "      <td>...</td>\n",
       "      <td>...</td>\n",
       "      <td>...</td>\n",
       "      <td>...</td>\n",
       "      <td>...</td>\n",
       "      <td>...</td>\n",
       "      <td>...</td>\n",
       "      <td>...</td>\n",
       "      <td>...</td>\n",
       "    </tr>\n",
       "    <tr>\n",
       "      <th>11604880</th>\n",
       "      <td>456255</td>\n",
       "      <td>0</td>\n",
       "      <td>1743609.0</td>\n",
       "      <td>1.0</td>\n",
       "      <td>7.0</td>\n",
       "      <td>-26.000000</td>\n",
       "      <td>-26.033333</td>\n",
       "      <td>11090.835</td>\n",
       "      <td>11090.835</td>\n",
       "    </tr>\n",
       "    <tr>\n",
       "      <th>11604881</th>\n",
       "      <td>456255</td>\n",
       "      <td>0</td>\n",
       "      <td>2631384.0</td>\n",
       "      <td>3.0</td>\n",
       "      <td>6.0</td>\n",
       "      <td>-20.200000</td>\n",
       "      <td>-20.433333</td>\n",
       "      <td>27489.690</td>\n",
       "      <td>27489.690</td>\n",
       "    </tr>\n",
       "    <tr>\n",
       "      <th>11604882</th>\n",
       "      <td>456255</td>\n",
       "      <td>0</td>\n",
       "      <td>1359084.0</td>\n",
       "      <td>1.0</td>\n",
       "      <td>7.0</td>\n",
       "      <td>-8.166667</td>\n",
       "      <td>-8.100000</td>\n",
       "      <td>11314.170</td>\n",
       "      <td>11314.170</td>\n",
       "    </tr>\n",
       "    <tr>\n",
       "      <th>11604883</th>\n",
       "      <td>456255</td>\n",
       "      <td>0</td>\n",
       "      <td>2631384.0</td>\n",
       "      <td>3.0</td>\n",
       "      <td>12.0</td>\n",
       "      <td>-14.200000</td>\n",
       "      <td>-14.500000</td>\n",
       "      <td>27489.690</td>\n",
       "      <td>27489.690</td>\n",
       "    </tr>\n",
       "    <tr>\n",
       "      <th>11604884</th>\n",
       "      <td>456255</td>\n",
       "      <td>0</td>\n",
       "      <td>2631384.0</td>\n",
       "      <td>3.0</td>\n",
       "      <td>9.0</td>\n",
       "      <td>-17.200000</td>\n",
       "      <td>-17.433333</td>\n",
       "      <td>27489.690</td>\n",
       "      <td>27489.690</td>\n",
       "    </tr>\n",
       "  </tbody>\n",
       "</table>\n",
       "<p>11604885 rows × 9 columns</p>\n",
       "</div>"
      ],
      "text/plain": [
       "          SK_ID_CURR  TARGET  SK_ID_PREV  NUM_INSTALMENT_VERSION  \\\n",
       "0             100002       1   1038818.0                     1.0   \n",
       "1             100002       1   1038818.0                     1.0   \n",
       "2             100002       1   1038818.0                     2.0   \n",
       "3             100002       1   1038818.0                     1.0   \n",
       "4             100002       1   1038818.0                     1.0   \n",
       "...              ...     ...         ...                     ...   \n",
       "11604880      456255       0   1743609.0                     1.0   \n",
       "11604881      456255       0   2631384.0                     3.0   \n",
       "11604882      456255       0   1359084.0                     1.0   \n",
       "11604883      456255       0   2631384.0                     3.0   \n",
       "11604884      456255       0   2631384.0                     3.0   \n",
       "\n",
       "          NUM_INSTALMENT_NUMBER  DAYS_INSTALMENT  DAYS_ENTRY_PAYMENT  \\\n",
       "0                          16.0        -3.833333           -4.433333   \n",
       "1                           8.0       -11.833333          -12.500000   \n",
       "2                          19.0        -0.833333           -1.633333   \n",
       "3                          12.0        -7.833333           -8.333333   \n",
       "4                           9.0       -10.833333          -11.466667   \n",
       "...                         ...              ...                 ...   \n",
       "11604880                    7.0       -26.000000          -26.033333   \n",
       "11604881                    6.0       -20.200000          -20.433333   \n",
       "11604882                    7.0        -8.166667           -8.100000   \n",
       "11604883                   12.0       -14.200000          -14.500000   \n",
       "11604884                    9.0       -17.200000          -17.433333   \n",
       "\n",
       "          AMT_INSTALMENT  AMT_PAYMENT  \n",
       "0               9251.775     9251.775  \n",
       "1               9251.775     9251.775  \n",
       "2              53093.745    53093.745  \n",
       "3               9251.775     9251.775  \n",
       "4               9251.775     9251.775  \n",
       "...                  ...          ...  \n",
       "11604880       11090.835    11090.835  \n",
       "11604881       27489.690    27489.690  \n",
       "11604882       11314.170    11314.170  \n",
       "11604883       27489.690    27489.690  \n",
       "11604884       27489.690    27489.690  \n",
       "\n",
       "[11604885 rows x 9 columns]"
      ]
     },
     "execution_count": 32,
     "metadata": {},
     "output_type": "execute_result"
    }
   ],
   "source": [
    "df_install_merged"
   ]
  },
  {
   "cell_type": "code",
   "execution_count": 33,
   "id": "a1cd4f76",
   "metadata": {},
   "outputs": [
    {
     "data": {
      "image/png": "[encoded data removed]",
      "text/plain": [
       "<Figure size 432x288 with 1 Axes>"
      ]
     },
     "metadata": {
      "needs_background": "light"
     },
     "output_type": "display_data"
    }
   ],
   "source": [
    "plt.hist(df_install_merged['DAYS_INSTALMENT'], color = 'blue', edgecolor = 'k', bins = 25)\n",
    "plt.title('Number of month suppose to paid instalment'); plt.xlabel('Time (months)'); plt.ylabel('Count');"
   ]
  },
  {
   "cell_type": "code",
   "execution_count": 34,
   "id": "c4ba39b2",
   "metadata": {},
   "outputs": [
    {
     "data": {
      "image/png": "[encoded data removed]",
      "text/plain": [
       "<Figure size 432x288 with 1 Axes>"
      ]
     },
     "metadata": {
      "needs_background": "light"
     },
     "output_type": "display_data"
    }
   ],
   "source": [
    "plt.hist(df_install_merged['DAYS_ENTRY_PAYMENT'], color = 'blue', edgecolor = 'k', bins = 25)\n",
    "plt.title('Number of month count from last paid instalment'); plt.xlabel('Time (months)'); plt.ylabel('Count');"
   ]
  },
  {
   "cell_type": "code",
   "execution_count": null,
   "id": "878ade7c",
   "metadata": {},
   "outputs": [],
   "source": []
  },
  {
   "cell_type": "code",
   "execution_count": null,
   "id": "921af05a",
   "metadata": {},
   "outputs": [],
   "source": []
  }
 ],
 "metadata": {
  "kernelspec": {
   "display_name": "Python 3 (ipykernel)",
   "language": "python",
   "name": "python3"
  },
  "language_info": {
   "codemirror_mode": {
    "name": "ipython",
    "version": 3
   },
   "file_extension": ".py",
   "mimetype": "text/x-python",
   "name": "python",
   "nbconvert_exporter": "python",
   "pygments_lexer": "ipython3",
   "version": "3.9.6"
  }
 },
 "nbformat": 4,
 "nbformat_minor": 5
}
