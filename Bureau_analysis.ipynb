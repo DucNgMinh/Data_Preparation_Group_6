{
 "cells": [
  {
   "cell_type": "code",
   "execution_count": 522,
   "id": "b65e5026",
   "metadata": {},
   "outputs": [],
   "source": [
    "import pandas as pd\n",
    "import numpy as np \n",
    "import matplotlib.pyplot as plt\n",
    "import seaborn as sns\n",
    "from pandas_profiling import ProfileReport"
   ]
  },
  {
   "cell_type": "code",
   "execution_count": 523,
   "id": "cd20ac72",
   "metadata": {},
   "outputs": [
    {
     "data": {
      "text/html": [
       "<div>\n",
       "<style scoped>\n",
       "    .dataframe tbody tr th:only-of-type {\n",
       "        vertical-align: middle;\n",
       "    }\n",
       "\n",
       "    .dataframe tbody tr th {\n",
       "        vertical-align: top;\n",
       "    }\n",
       "\n",
       "    .dataframe thead th {\n",
       "        text-align: right;\n",
       "    }\n",
       "</style>\n",
       "<table border=\"1\" class=\"dataframe\">\n",
       "  <thead>\n",
       "    <tr style=\"text-align: right;\">\n",
       "      <th></th>\n",
       "      <th>SK_ID_CURR</th>\n",
       "      <th>SK_ID_BUREAU</th>\n",
       "      <th>CREDIT_ACTIVE</th>\n",
       "      <th>CREDIT_CURRENCY</th>\n",
       "      <th>DAYS_CREDIT</th>\n",
       "      <th>CREDIT_DAY_OVERDUE</th>\n",
       "      <th>DAYS_CREDIT_ENDDATE</th>\n",
       "      <th>DAYS_ENDDATE_FACT</th>\n",
       "      <th>AMT_CREDIT_MAX_OVERDUE</th>\n",
       "      <th>CNT_CREDIT_PROLONG</th>\n",
       "      <th>AMT_CREDIT_SUM</th>\n",
       "      <th>AMT_CREDIT_SUM_DEBT</th>\n",
       "      <th>AMT_CREDIT_SUM_LIMIT</th>\n",
       "      <th>AMT_CREDIT_SUM_OVERDUE</th>\n",
       "      <th>CREDIT_TYPE</th>\n",
       "      <th>DAYS_CREDIT_UPDATE</th>\n",
       "      <th>AMT_ANNUITY</th>\n",
       "    </tr>\n",
       "  </thead>\n",
       "  <tbody>\n",
       "    <tr>\n",
       "      <th>0</th>\n",
       "      <td>215354</td>\n",
       "      <td>5714462</td>\n",
       "      <td>Closed</td>\n",
       "      <td>currency 1</td>\n",
       "      <td>-497</td>\n",
       "      <td>0</td>\n",
       "      <td>-153.0</td>\n",
       "      <td>-153.0</td>\n",
       "      <td>NaN</td>\n",
       "      <td>0</td>\n",
       "      <td>91323.0</td>\n",
       "      <td>0.0</td>\n",
       "      <td>NaN</td>\n",
       "      <td>0.0</td>\n",
       "      <td>Consumer credit</td>\n",
       "      <td>-131</td>\n",
       "      <td>NaN</td>\n",
       "    </tr>\n",
       "    <tr>\n",
       "      <th>1</th>\n",
       "      <td>215354</td>\n",
       "      <td>5714463</td>\n",
       "      <td>Active</td>\n",
       "      <td>currency 1</td>\n",
       "      <td>-208</td>\n",
       "      <td>0</td>\n",
       "      <td>1075.0</td>\n",
       "      <td>NaN</td>\n",
       "      <td>NaN</td>\n",
       "      <td>0</td>\n",
       "      <td>225000.0</td>\n",
       "      <td>171342.0</td>\n",
       "      <td>NaN</td>\n",
       "      <td>0.0</td>\n",
       "      <td>Credit card</td>\n",
       "      <td>-20</td>\n",
       "      <td>NaN</td>\n",
       "    </tr>\n",
       "    <tr>\n",
       "      <th>2</th>\n",
       "      <td>215354</td>\n",
       "      <td>5714464</td>\n",
       "      <td>Active</td>\n",
       "      <td>currency 1</td>\n",
       "      <td>-203</td>\n",
       "      <td>0</td>\n",
       "      <td>528.0</td>\n",
       "      <td>NaN</td>\n",
       "      <td>NaN</td>\n",
       "      <td>0</td>\n",
       "      <td>464323.5</td>\n",
       "      <td>NaN</td>\n",
       "      <td>NaN</td>\n",
       "      <td>0.0</td>\n",
       "      <td>Consumer credit</td>\n",
       "      <td>-16</td>\n",
       "      <td>NaN</td>\n",
       "    </tr>\n",
       "    <tr>\n",
       "      <th>3</th>\n",
       "      <td>215354</td>\n",
       "      <td>5714465</td>\n",
       "      <td>Active</td>\n",
       "      <td>currency 1</td>\n",
       "      <td>-203</td>\n",
       "      <td>0</td>\n",
       "      <td>NaN</td>\n",
       "      <td>NaN</td>\n",
       "      <td>NaN</td>\n",
       "      <td>0</td>\n",
       "      <td>90000.0</td>\n",
       "      <td>NaN</td>\n",
       "      <td>NaN</td>\n",
       "      <td>0.0</td>\n",
       "      <td>Credit card</td>\n",
       "      <td>-16</td>\n",
       "      <td>NaN</td>\n",
       "    </tr>\n",
       "    <tr>\n",
       "      <th>4</th>\n",
       "      <td>215354</td>\n",
       "      <td>5714466</td>\n",
       "      <td>Active</td>\n",
       "      <td>currency 1</td>\n",
       "      <td>-629</td>\n",
       "      <td>0</td>\n",
       "      <td>1197.0</td>\n",
       "      <td>NaN</td>\n",
       "      <td>77674.5</td>\n",
       "      <td>0</td>\n",
       "      <td>2700000.0</td>\n",
       "      <td>NaN</td>\n",
       "      <td>NaN</td>\n",
       "      <td>0.0</td>\n",
       "      <td>Consumer credit</td>\n",
       "      <td>-21</td>\n",
       "      <td>NaN</td>\n",
       "    </tr>\n",
       "  </tbody>\n",
       "</table>\n",
       "</div>"
      ],
      "text/plain": [
       "   SK_ID_CURR  SK_ID_BUREAU CREDIT_ACTIVE CREDIT_CURRENCY  DAYS_CREDIT  \\\n",
       "0      215354       5714462        Closed      currency 1         -497   \n",
       "1      215354       5714463        Active      currency 1         -208   \n",
       "2      215354       5714464        Active      currency 1         -203   \n",
       "3      215354       5714465        Active      currency 1         -203   \n",
       "4      215354       5714466        Active      currency 1         -629   \n",
       "\n",
       "   CREDIT_DAY_OVERDUE  DAYS_CREDIT_ENDDATE  DAYS_ENDDATE_FACT  \\\n",
       "0                   0               -153.0             -153.0   \n",
       "1                   0               1075.0                NaN   \n",
       "2                   0                528.0                NaN   \n",
       "3                   0                  NaN                NaN   \n",
       "4                   0               1197.0                NaN   \n",
       "\n",
       "   AMT_CREDIT_MAX_OVERDUE  CNT_CREDIT_PROLONG  AMT_CREDIT_SUM  \\\n",
       "0                     NaN                   0         91323.0   \n",
       "1                     NaN                   0        225000.0   \n",
       "2                     NaN                   0        464323.5   \n",
       "3                     NaN                   0         90000.0   \n",
       "4                 77674.5                   0       2700000.0   \n",
       "\n",
       "   AMT_CREDIT_SUM_DEBT  AMT_CREDIT_SUM_LIMIT  AMT_CREDIT_SUM_OVERDUE  \\\n",
       "0                  0.0                   NaN                     0.0   \n",
       "1             171342.0                   NaN                     0.0   \n",
       "2                  NaN                   NaN                     0.0   \n",
       "3                  NaN                   NaN                     0.0   \n",
       "4                  NaN                   NaN                     0.0   \n",
       "\n",
       "       CREDIT_TYPE  DAYS_CREDIT_UPDATE  AMT_ANNUITY  \n",
       "0  Consumer credit                -131          NaN  \n",
       "1      Credit card                 -20          NaN  \n",
       "2  Consumer credit                 -16          NaN  \n",
       "3      Credit card                 -16          NaN  \n",
       "4  Consumer credit                 -21          NaN  "
      ]
     },
     "execution_count": 523,
     "metadata": {},
     "output_type": "execute_result"
    }
   ],
   "source": [
    "data = pd.read_csv('bureau.csv')\n",
    "data.head()"
   ]
  },
  {
   "cell_type": "code",
   "execution_count": 524,
   "id": "07f84cd9",
   "metadata": {},
   "outputs": [
    {
     "data": {
      "text/plain": [
       "(1716428, 17)"
      ]
     },
     "execution_count": 524,
     "metadata": {},
     "output_type": "execute_result"
    }
   ],
   "source": [
    "data.shape"
   ]
  },
  {
   "cell_type": "code",
   "execution_count": 525,
   "id": "0d8fcb04",
   "metadata": {},
   "outputs": [
    {
     "name": "stdout",
     "output_type": "stream",
     "text": [
      "<class 'pandas.core.frame.DataFrame'>\n",
      "RangeIndex: 1716428 entries, 0 to 1716427\n",
      "Data columns (total 17 columns):\n",
      " #   Column                  Dtype  \n",
      "---  ------                  -----  \n",
      " 0   SK_ID_CURR              int64  \n",
      " 1   SK_ID_BUREAU            int64  \n",
      " 2   CREDIT_ACTIVE           object \n",
      " 3   CREDIT_CURRENCY         object \n",
      " 4   DAYS_CREDIT             int64  \n",
      " 5   CREDIT_DAY_OVERDUE      int64  \n",
      " 6   DAYS_CREDIT_ENDDATE     float64\n",
      " 7   DAYS_ENDDATE_FACT       float64\n",
      " 8   AMT_CREDIT_MAX_OVERDUE  float64\n",
      " 9   CNT_CREDIT_PROLONG      int64  \n",
      " 10  AMT_CREDIT_SUM          float64\n",
      " 11  AMT_CREDIT_SUM_DEBT     float64\n",
      " 12  AMT_CREDIT_SUM_LIMIT    float64\n",
      " 13  AMT_CREDIT_SUM_OVERDUE  float64\n",
      " 14  CREDIT_TYPE             object \n",
      " 15  DAYS_CREDIT_UPDATE      int64  \n",
      " 16  AMT_ANNUITY             float64\n",
      "dtypes: float64(8), int64(6), object(3)\n",
      "memory usage: 222.6+ MB\n"
     ]
    }
   ],
   "source": [
    "data.info()"
   ]
  },
  {
   "cell_type": "markdown",
   "id": "6c2ed34f",
   "metadata": {},
   "source": [
    "# Understanding of variables\n",
    "\n",
    "CREDIT_ACTIVE - Current status of a Loan - Closed/ Active (2 values)\n",
    "\n",
    "CREDIT_CURRENCY - Currency in which the transaction was executed - Currency1, Currency2, Currency3, Currency4 ( 4 values)\n",
    "\n",
    "CREDIT_DAY_OVERDUE - Number of overdue days\n",
    "\n",
    "CREDIT_TYPE - Consumer Credit, Credit card, Mortgage, Car loan, Microloan, Loan for working capital replemishment, Loan for Business development, Real estate loan, Unkown type of laon, Another type of loan. Cash loan, Loan for the purchase of equipment, Mobile operator loan, Interbank credit, Loan for purchase of shares ( 15 values )\n",
    "\n",
    "DAYS_CREDIT - Number of days ELAPSED since customer applied for CB credit with respect to current application Interpretation - Are these loans evenly spaced time intervals? Are they concentrated within a same time frame?\n",
    "\n",
    "DAYS_CREDIT_ENDDATE - Number of days the customer CREDIT is valid at the time of application \n",
    "\n",
    "CREDIT_DAY_OVERDUE - Number of days the customer CREDIT is past the end date at the time of application\n",
    "\n",
    "AMT_CREDIT_SUM - Total available credit for a customer \n",
    "\n",
    "AMT_CREDIT_SUM_DEBT - Total amount yet to be repayed \n",
    "\n",
    "AMT_CREDIT_SUM_LIMIT - Current Credit that has been utilized \n",
    "\n",
    "AMT_CREDIT_SUM_OVERDUE - Current credit payment that is overdue \n",
    "\n",
    "CNT_CREDIT_PROLONG - How many times was the Credit date prolonged"
   ]
  },
  {
   "cell_type": "markdown",
   "id": "3b6d684f",
   "metadata": {},
   "source": [
    "# NOTE:\n",
    "For a given loan transaction 'AMT_CREDIT_SUM' = 'AMT_CREDIT_SUM_DEBT' +'AMT_CREDIT_SUM_LIMIT'\n",
    "\n",
    "AMT_ANNUITY - Annuity of the Credit Bureau data \n",
    "\n",
    "DAYS_CREDIT_UPDATE - Number of days before current application when last CREDIT UPDATE was received \n",
    "\n",
    "DAYS_ENDDATE_FACT - Days since CB credit ended at the time of application \n",
    "\n",
    "AMT_CREDIT_MAX_OVERDUE - Maximum Credit amount overdue at the time of application"
   ]
  },
  {
   "cell_type": "code",
   "execution_count": 526,
   "id": "fd8a6b3b",
   "metadata": {},
   "outputs": [
    {
     "data": {
      "text/plain": [
       "0"
      ]
     },
     "execution_count": 526,
     "metadata": {},
     "output_type": "execute_result"
    }
   ],
   "source": [
    "data.duplicated().sum()"
   ]
  },
  {
   "cell_type": "code",
   "execution_count": 527,
   "id": "78ba7350",
   "metadata": {},
   "outputs": [
    {
     "data": {
      "text/html": [
       "<div>\n",
       "<style scoped>\n",
       "    .dataframe tbody tr th:only-of-type {\n",
       "        vertical-align: middle;\n",
       "    }\n",
       "\n",
       "    .dataframe tbody tr th {\n",
       "        vertical-align: top;\n",
       "    }\n",
       "\n",
       "    .dataframe thead th {\n",
       "        text-align: right;\n",
       "    }\n",
       "</style>\n",
       "<table border=\"1\" class=\"dataframe\">\n",
       "  <thead>\n",
       "    <tr style=\"text-align: right;\">\n",
       "      <th></th>\n",
       "      <th>count</th>\n",
       "      <th>mean</th>\n",
       "      <th>std</th>\n",
       "      <th>min</th>\n",
       "      <th>25%</th>\n",
       "      <th>50%</th>\n",
       "      <th>75%</th>\n",
       "      <th>max</th>\n",
       "    </tr>\n",
       "  </thead>\n",
       "  <tbody>\n",
       "    <tr>\n",
       "      <th>SK_ID_CURR</th>\n",
       "      <td>1716428.0</td>\n",
       "      <td>2.782149e+05</td>\n",
       "      <td>1.029386e+05</td>\n",
       "      <td>100001.000</td>\n",
       "      <td>188866.75</td>\n",
       "      <td>278055.0</td>\n",
       "      <td>367426.00</td>\n",
       "      <td>4.562550e+05</td>\n",
       "    </tr>\n",
       "    <tr>\n",
       "      <th>SK_ID_BUREAU</th>\n",
       "      <td>1716428.0</td>\n",
       "      <td>5.924434e+06</td>\n",
       "      <td>5.322657e+05</td>\n",
       "      <td>5000000.000</td>\n",
       "      <td>5463953.75</td>\n",
       "      <td>5926303.5</td>\n",
       "      <td>6385681.25</td>\n",
       "      <td>6.843457e+06</td>\n",
       "    </tr>\n",
       "    <tr>\n",
       "      <th>DAYS_CREDIT</th>\n",
       "      <td>1716428.0</td>\n",
       "      <td>-1.142108e+03</td>\n",
       "      <td>7.951649e+02</td>\n",
       "      <td>-2922.000</td>\n",
       "      <td>-1666.00</td>\n",
       "      <td>-987.0</td>\n",
       "      <td>-474.00</td>\n",
       "      <td>0.000000e+00</td>\n",
       "    </tr>\n",
       "    <tr>\n",
       "      <th>CREDIT_DAY_OVERDUE</th>\n",
       "      <td>1716428.0</td>\n",
       "      <td>8.181666e-01</td>\n",
       "      <td>3.654443e+01</td>\n",
       "      <td>0.000</td>\n",
       "      <td>0.00</td>\n",
       "      <td>0.0</td>\n",
       "      <td>0.00</td>\n",
       "      <td>2.792000e+03</td>\n",
       "    </tr>\n",
       "    <tr>\n",
       "      <th>DAYS_CREDIT_ENDDATE</th>\n",
       "      <td>1610875.0</td>\n",
       "      <td>5.105174e+02</td>\n",
       "      <td>4.994220e+03</td>\n",
       "      <td>-42060.000</td>\n",
       "      <td>-1138.00</td>\n",
       "      <td>-330.0</td>\n",
       "      <td>474.00</td>\n",
       "      <td>3.119900e+04</td>\n",
       "    </tr>\n",
       "    <tr>\n",
       "      <th>DAYS_ENDDATE_FACT</th>\n",
       "      <td>1082775.0</td>\n",
       "      <td>-1.017437e+03</td>\n",
       "      <td>7.140106e+02</td>\n",
       "      <td>-42023.000</td>\n",
       "      <td>-1489.00</td>\n",
       "      <td>-897.0</td>\n",
       "      <td>-425.00</td>\n",
       "      <td>0.000000e+00</td>\n",
       "    </tr>\n",
       "    <tr>\n",
       "      <th>AMT_CREDIT_MAX_OVERDUE</th>\n",
       "      <td>591940.0</td>\n",
       "      <td>3.825418e+03</td>\n",
       "      <td>2.060316e+05</td>\n",
       "      <td>0.000</td>\n",
       "      <td>0.00</td>\n",
       "      <td>0.0</td>\n",
       "      <td>0.00</td>\n",
       "      <td>1.159872e+08</td>\n",
       "    </tr>\n",
       "    <tr>\n",
       "      <th>CNT_CREDIT_PROLONG</th>\n",
       "      <td>1716428.0</td>\n",
       "      <td>6.410406e-03</td>\n",
       "      <td>9.622391e-02</td>\n",
       "      <td>0.000</td>\n",
       "      <td>0.00</td>\n",
       "      <td>0.0</td>\n",
       "      <td>0.00</td>\n",
       "      <td>9.000000e+00</td>\n",
       "    </tr>\n",
       "    <tr>\n",
       "      <th>AMT_CREDIT_SUM</th>\n",
       "      <td>1716415.0</td>\n",
       "      <td>3.549946e+05</td>\n",
       "      <td>1.149811e+06</td>\n",
       "      <td>0.000</td>\n",
       "      <td>51300.00</td>\n",
       "      <td>125518.5</td>\n",
       "      <td>315000.00</td>\n",
       "      <td>5.850000e+08</td>\n",
       "    </tr>\n",
       "    <tr>\n",
       "      <th>AMT_CREDIT_SUM_DEBT</th>\n",
       "      <td>1458759.0</td>\n",
       "      <td>1.370851e+05</td>\n",
       "      <td>6.774011e+05</td>\n",
       "      <td>-4705600.320</td>\n",
       "      <td>0.00</td>\n",
       "      <td>0.0</td>\n",
       "      <td>40153.50</td>\n",
       "      <td>1.701000e+08</td>\n",
       "    </tr>\n",
       "    <tr>\n",
       "      <th>AMT_CREDIT_SUM_LIMIT</th>\n",
       "      <td>1124648.0</td>\n",
       "      <td>6.229515e+03</td>\n",
       "      <td>4.503203e+04</td>\n",
       "      <td>-586406.115</td>\n",
       "      <td>0.00</td>\n",
       "      <td>0.0</td>\n",
       "      <td>0.00</td>\n",
       "      <td>4.705600e+06</td>\n",
       "    </tr>\n",
       "    <tr>\n",
       "      <th>AMT_CREDIT_SUM_OVERDUE</th>\n",
       "      <td>1716428.0</td>\n",
       "      <td>3.791276e+01</td>\n",
       "      <td>5.937650e+03</td>\n",
       "      <td>0.000</td>\n",
       "      <td>0.00</td>\n",
       "      <td>0.0</td>\n",
       "      <td>0.00</td>\n",
       "      <td>3.756681e+06</td>\n",
       "    </tr>\n",
       "    <tr>\n",
       "      <th>DAYS_CREDIT_UPDATE</th>\n",
       "      <td>1716428.0</td>\n",
       "      <td>-5.937483e+02</td>\n",
       "      <td>7.207473e+02</td>\n",
       "      <td>-41947.000</td>\n",
       "      <td>-908.00</td>\n",
       "      <td>-395.0</td>\n",
       "      <td>-33.00</td>\n",
       "      <td>3.720000e+02</td>\n",
       "    </tr>\n",
       "    <tr>\n",
       "      <th>AMT_ANNUITY</th>\n",
       "      <td>489637.0</td>\n",
       "      <td>1.571276e+04</td>\n",
       "      <td>3.258269e+05</td>\n",
       "      <td>0.000</td>\n",
       "      <td>0.00</td>\n",
       "      <td>0.0</td>\n",
       "      <td>13500.00</td>\n",
       "      <td>1.184534e+08</td>\n",
       "    </tr>\n",
       "  </tbody>\n",
       "</table>\n",
       "</div>"
      ],
      "text/plain": [
       "                            count          mean           std          min  \\\n",
       "SK_ID_CURR              1716428.0  2.782149e+05  1.029386e+05   100001.000   \n",
       "SK_ID_BUREAU            1716428.0  5.924434e+06  5.322657e+05  5000000.000   \n",
       "DAYS_CREDIT             1716428.0 -1.142108e+03  7.951649e+02    -2922.000   \n",
       "CREDIT_DAY_OVERDUE      1716428.0  8.181666e-01  3.654443e+01        0.000   \n",
       "DAYS_CREDIT_ENDDATE     1610875.0  5.105174e+02  4.994220e+03   -42060.000   \n",
       "DAYS_ENDDATE_FACT       1082775.0 -1.017437e+03  7.140106e+02   -42023.000   \n",
       "AMT_CREDIT_MAX_OVERDUE   591940.0  3.825418e+03  2.060316e+05        0.000   \n",
       "CNT_CREDIT_PROLONG      1716428.0  6.410406e-03  9.622391e-02        0.000   \n",
       "AMT_CREDIT_SUM          1716415.0  3.549946e+05  1.149811e+06        0.000   \n",
       "AMT_CREDIT_SUM_DEBT     1458759.0  1.370851e+05  6.774011e+05 -4705600.320   \n",
       "AMT_CREDIT_SUM_LIMIT    1124648.0  6.229515e+03  4.503203e+04  -586406.115   \n",
       "AMT_CREDIT_SUM_OVERDUE  1716428.0  3.791276e+01  5.937650e+03        0.000   \n",
       "DAYS_CREDIT_UPDATE      1716428.0 -5.937483e+02  7.207473e+02   -41947.000   \n",
       "AMT_ANNUITY              489637.0  1.571276e+04  3.258269e+05        0.000   \n",
       "\n",
       "                               25%        50%         75%           max  \n",
       "SK_ID_CURR               188866.75   278055.0   367426.00  4.562550e+05  \n",
       "SK_ID_BUREAU            5463953.75  5926303.5  6385681.25  6.843457e+06  \n",
       "DAYS_CREDIT               -1666.00     -987.0     -474.00  0.000000e+00  \n",
       "CREDIT_DAY_OVERDUE            0.00        0.0        0.00  2.792000e+03  \n",
       "DAYS_CREDIT_ENDDATE       -1138.00     -330.0      474.00  3.119900e+04  \n",
       "DAYS_ENDDATE_FACT         -1489.00     -897.0     -425.00  0.000000e+00  \n",
       "AMT_CREDIT_MAX_OVERDUE        0.00        0.0        0.00  1.159872e+08  \n",
       "CNT_CREDIT_PROLONG            0.00        0.0        0.00  9.000000e+00  \n",
       "AMT_CREDIT_SUM            51300.00   125518.5   315000.00  5.850000e+08  \n",
       "AMT_CREDIT_SUM_DEBT           0.00        0.0    40153.50  1.701000e+08  \n",
       "AMT_CREDIT_SUM_LIMIT          0.00        0.0        0.00  4.705600e+06  \n",
       "AMT_CREDIT_SUM_OVERDUE        0.00        0.0        0.00  3.756681e+06  \n",
       "DAYS_CREDIT_UPDATE         -908.00     -395.0      -33.00  3.720000e+02  \n",
       "AMT_ANNUITY                   0.00        0.0    13500.00  1.184534e+08  "
      ]
     },
     "execution_count": 527,
     "metadata": {},
     "output_type": "execute_result"
    }
   ],
   "source": [
    "data.describe().T"
   ]
  },
  {
   "cell_type": "code",
   "execution_count": 528,
   "id": "804ee4db",
   "metadata": {},
   "outputs": [
    {
     "name": "stderr",
     "output_type": "stream",
     "text": [
      "<ipython-input-528-0f017e91119c>:6: DeprecationWarning: `np.bool` is a deprecated alias for the builtin `bool`. To silence this warning, use `bool` by itself. Doing this will not modify any behavior and is safe. If you specifically wanted the numpy scalar type, use `np.bool_` here.\n",
      "Deprecated in NumPy 1.20; for more details and guidance: https://numpy.org/devdocs/release/1.20.0-notes.html#deprecations\n",
      "  mask = np.zeros_like(numeric_df_corr, dtype=np.bool)\n"
     ]
    },
    {
     "data": {
      "text/plain": [
       "<AxesSubplot:>"
      ]
     },
     "execution_count": 528,
     "metadata": {},
     "output_type": "execute_result"
    },
    {
     "data": {
      "image/png": "[encoded data removed]",
      "text/plain": [
       "<Figure size 720x720 with 2 Axes>"
      ]
     },
     "metadata": {
      "needs_background": "light"
     },
     "output_type": "display_data"
    }
   ],
   "source": [
    "numeric_df = data._get_numeric_data()\n",
    "numeric_df_corr = numeric_df.corr()\n",
    "numeric_df_corr\n",
    "\n",
    "plt.figure(figsize=(10,10))\n",
    "mask = np.zeros_like(numeric_df_corr, dtype=np.bool)\n",
    "mask[np.triu_indices_from(mask)] = True\n",
    "mask[np.diag_indices_from(mask)] = False\n",
    "sns.heatmap(numeric_df_corr,mask= mask, annot= True, fmt=\".3f\", linewidth=.5)"
   ]
  },
  {
   "cell_type": "code",
   "execution_count": 529,
   "id": "e513d8a6",
   "metadata": {},
   "outputs": [
    {
     "data": {
      "text/plain": [
       "SK_ID_CURR                 305811\n",
       "SK_ID_BUREAU              1716428\n",
       "CREDIT_ACTIVE                   4\n",
       "CREDIT_CURRENCY                 4\n",
       "DAYS_CREDIT                  2923\n",
       "CREDIT_DAY_OVERDUE            942\n",
       "DAYS_CREDIT_ENDDATE         14096\n",
       "DAYS_ENDDATE_FACT            2917\n",
       "AMT_CREDIT_MAX_OVERDUE      68251\n",
       "CNT_CREDIT_PROLONG             10\n",
       "AMT_CREDIT_SUM             236708\n",
       "AMT_CREDIT_SUM_DEBT        226537\n",
       "AMT_CREDIT_SUM_LIMIT        51726\n",
       "AMT_CREDIT_SUM_OVERDUE       1616\n",
       "CREDIT_TYPE                    15\n",
       "DAYS_CREDIT_UPDATE           2982\n",
       "AMT_ANNUITY                 40321\n",
       "dtype: int64"
      ]
     },
     "execution_count": 529,
     "metadata": {},
     "output_type": "execute_result"
    }
   ],
   "source": [
    "data.nunique()"
   ]
  },
  {
   "cell_type": "code",
   "execution_count": 530,
   "id": "933ca683",
   "metadata": {},
   "outputs": [
    {
     "data": {
      "text/plain": [
       "SK_ID_CURR                      0\n",
       "SK_ID_BUREAU                    0\n",
       "CREDIT_ACTIVE                   0\n",
       "CREDIT_CURRENCY                 0\n",
       "DAYS_CREDIT                     0\n",
       "CREDIT_DAY_OVERDUE              0\n",
       "DAYS_CREDIT_ENDDATE        105553\n",
       "DAYS_ENDDATE_FACT          633653\n",
       "AMT_CREDIT_MAX_OVERDUE    1124488\n",
       "CNT_CREDIT_PROLONG              0\n",
       "AMT_CREDIT_SUM                 13\n",
       "AMT_CREDIT_SUM_DEBT        257669\n",
       "AMT_CREDIT_SUM_LIMIT       591780\n",
       "AMT_CREDIT_SUM_OVERDUE          0\n",
       "CREDIT_TYPE                     0\n",
       "DAYS_CREDIT_UPDATE              0\n",
       "AMT_ANNUITY               1226791\n",
       "dtype: int64"
      ]
     },
     "execution_count": 530,
     "metadata": {},
     "output_type": "execute_result"
    }
   ],
   "source": [
    "data.isnull().sum()"
   ]
  },
  {
   "cell_type": "code",
   "execution_count": 531,
   "id": "2116797c",
   "metadata": {},
   "outputs": [],
   "source": [
    "def missing_data(data):\n",
    "    total = data.isnull().sum().sort_values(ascending = False)\n",
    "    percent = (data.isnull().sum()/data.isnull().count()*100).sort_values(ascending = False)\n",
    "    return pd.concat([total, percent], axis=1, keys=['Total', 'Percent'])"
   ]
  },
  {
   "cell_type": "code",
   "execution_count": 532,
   "id": "ba4023a9",
   "metadata": {},
   "outputs": [
    {
     "data": {
      "text/html": [
       "<div>\n",
       "<style scoped>\n",
       "    .dataframe tbody tr th:only-of-type {\n",
       "        vertical-align: middle;\n",
       "    }\n",
       "\n",
       "    .dataframe tbody tr th {\n",
       "        vertical-align: top;\n",
       "    }\n",
       "\n",
       "    .dataframe thead th {\n",
       "        text-align: right;\n",
       "    }\n",
       "</style>\n",
       "<table border=\"1\" class=\"dataframe\">\n",
       "  <thead>\n",
       "    <tr style=\"text-align: right;\">\n",
       "      <th></th>\n",
       "      <th>Total</th>\n",
       "      <th>Percent</th>\n",
       "    </tr>\n",
       "  </thead>\n",
       "  <tbody>\n",
       "    <tr>\n",
       "      <th>AMT_ANNUITY</th>\n",
       "      <td>1226791</td>\n",
       "      <td>71.473490</td>\n",
       "    </tr>\n",
       "    <tr>\n",
       "      <th>AMT_CREDIT_MAX_OVERDUE</th>\n",
       "      <td>1124488</td>\n",
       "      <td>65.513264</td>\n",
       "    </tr>\n",
       "    <tr>\n",
       "      <th>DAYS_ENDDATE_FACT</th>\n",
       "      <td>633653</td>\n",
       "      <td>36.916958</td>\n",
       "    </tr>\n",
       "    <tr>\n",
       "      <th>AMT_CREDIT_SUM_LIMIT</th>\n",
       "      <td>591780</td>\n",
       "      <td>34.477415</td>\n",
       "    </tr>\n",
       "    <tr>\n",
       "      <th>AMT_CREDIT_SUM_DEBT</th>\n",
       "      <td>257669</td>\n",
       "      <td>15.011932</td>\n",
       "    </tr>\n",
       "    <tr>\n",
       "      <th>DAYS_CREDIT_ENDDATE</th>\n",
       "      <td>105553</td>\n",
       "      <td>6.149573</td>\n",
       "    </tr>\n",
       "    <tr>\n",
       "      <th>AMT_CREDIT_SUM</th>\n",
       "      <td>13</td>\n",
       "      <td>0.000757</td>\n",
       "    </tr>\n",
       "    <tr>\n",
       "      <th>CREDIT_ACTIVE</th>\n",
       "      <td>0</td>\n",
       "      <td>0.000000</td>\n",
       "    </tr>\n",
       "    <tr>\n",
       "      <th>CREDIT_CURRENCY</th>\n",
       "      <td>0</td>\n",
       "      <td>0.000000</td>\n",
       "    </tr>\n",
       "    <tr>\n",
       "      <th>DAYS_CREDIT</th>\n",
       "      <td>0</td>\n",
       "      <td>0.000000</td>\n",
       "    </tr>\n",
       "    <tr>\n",
       "      <th>CREDIT_DAY_OVERDUE</th>\n",
       "      <td>0</td>\n",
       "      <td>0.000000</td>\n",
       "    </tr>\n",
       "    <tr>\n",
       "      <th>SK_ID_BUREAU</th>\n",
       "      <td>0</td>\n",
       "      <td>0.000000</td>\n",
       "    </tr>\n",
       "    <tr>\n",
       "      <th>CNT_CREDIT_PROLONG</th>\n",
       "      <td>0</td>\n",
       "      <td>0.000000</td>\n",
       "    </tr>\n",
       "    <tr>\n",
       "      <th>AMT_CREDIT_SUM_OVERDUE</th>\n",
       "      <td>0</td>\n",
       "      <td>0.000000</td>\n",
       "    </tr>\n",
       "    <tr>\n",
       "      <th>CREDIT_TYPE</th>\n",
       "      <td>0</td>\n",
       "      <td>0.000000</td>\n",
       "    </tr>\n",
       "    <tr>\n",
       "      <th>DAYS_CREDIT_UPDATE</th>\n",
       "      <td>0</td>\n",
       "      <td>0.000000</td>\n",
       "    </tr>\n",
       "    <tr>\n",
       "      <th>SK_ID_CURR</th>\n",
       "      <td>0</td>\n",
       "      <td>0.000000</td>\n",
       "    </tr>\n",
       "  </tbody>\n",
       "</table>\n",
       "</div>"
      ],
      "text/plain": [
       "                          Total    Percent\n",
       "AMT_ANNUITY             1226791  71.473490\n",
       "AMT_CREDIT_MAX_OVERDUE  1124488  65.513264\n",
       "DAYS_ENDDATE_FACT        633653  36.916958\n",
       "AMT_CREDIT_SUM_LIMIT     591780  34.477415\n",
       "AMT_CREDIT_SUM_DEBT      257669  15.011932\n",
       "DAYS_CREDIT_ENDDATE      105553   6.149573\n",
       "AMT_CREDIT_SUM               13   0.000757\n",
       "CREDIT_ACTIVE                 0   0.000000\n",
       "CREDIT_CURRENCY               0   0.000000\n",
       "DAYS_CREDIT                   0   0.000000\n",
       "CREDIT_DAY_OVERDUE            0   0.000000\n",
       "SK_ID_BUREAU                  0   0.000000\n",
       "CNT_CREDIT_PROLONG            0   0.000000\n",
       "AMT_CREDIT_SUM_OVERDUE        0   0.000000\n",
       "CREDIT_TYPE                   0   0.000000\n",
       "DAYS_CREDIT_UPDATE            0   0.000000\n",
       "SK_ID_CURR                    0   0.000000"
      ]
     },
     "execution_count": 532,
     "metadata": {},
     "output_type": "execute_result"
    }
   ],
   "source": [
    "missing_data(data)"
   ]
  },
  {
   "cell_type": "markdown",
   "id": "58c9e709",
   "metadata": {},
   "source": [
    "### DROP AMT_ANNUITY columns do là phần trăm >60% cùng với đó ANNUITY là trái phiếu đồng niên k liên quan gì đến các khoản tín dụng/nợ"
   ]
  },
  {
   "cell_type": "code",
   "execution_count": 533,
   "id": "157c6f84",
   "metadata": {},
   "outputs": [
    {
     "data": {
      "text/plain": [
       "(1716428, 16)"
      ]
     },
     "execution_count": 533,
     "metadata": {},
     "output_type": "execute_result"
    }
   ],
   "source": [
    "data = data.drop(columns=['AMT_ANNUITY'])\n",
    "data.shape"
   ]
  },
  {
   "cell_type": "code",
   "execution_count": 534,
   "id": "9e2ac7c8",
   "metadata": {},
   "outputs": [],
   "source": [
    "data['DAYS_ENDDATE_FACT'].fillna(value = data['DAYS_ENDDATE_FACT'].mean(), inplace= True)\n",
    "# data['DAYS_CREDIT_ENDDATE'].fillna(value=data['DAYS_CREDIT_ENDDATE'].mean(), inplace = True)\n",
    "\n",
    "data['AMT_CREDIT_SUM_DEBT']=data['AMT_CREDIT_SUM_DEBT'].fillna(0)\n",
    "data['AMT_CREDIT_SUM']=data['AMT_CREDIT_SUM'].fillna(0)"
   ]
  },
  {
   "cell_type": "code",
   "execution_count": 535,
   "id": "0c637996",
   "metadata": {},
   "outputs": [
    {
     "data": {
      "text/html": [
       "<div>\n",
       "<style scoped>\n",
       "    .dataframe tbody tr th:only-of-type {\n",
       "        vertical-align: middle;\n",
       "    }\n",
       "\n",
       "    .dataframe tbody tr th {\n",
       "        vertical-align: top;\n",
       "    }\n",
       "\n",
       "    .dataframe thead th {\n",
       "        text-align: right;\n",
       "    }\n",
       "</style>\n",
       "<table border=\"1\" class=\"dataframe\">\n",
       "  <thead>\n",
       "    <tr style=\"text-align: right;\">\n",
       "      <th></th>\n",
       "      <th>Total</th>\n",
       "      <th>Percent</th>\n",
       "    </tr>\n",
       "  </thead>\n",
       "  <tbody>\n",
       "    <tr>\n",
       "      <th>AMT_CREDIT_MAX_OVERDUE</th>\n",
       "      <td>1124488</td>\n",
       "      <td>65.513264</td>\n",
       "    </tr>\n",
       "    <tr>\n",
       "      <th>AMT_CREDIT_SUM_LIMIT</th>\n",
       "      <td>591780</td>\n",
       "      <td>34.477415</td>\n",
       "    </tr>\n",
       "    <tr>\n",
       "      <th>DAYS_CREDIT_ENDDATE</th>\n",
       "      <td>105553</td>\n",
       "      <td>6.149573</td>\n",
       "    </tr>\n",
       "    <tr>\n",
       "      <th>SK_ID_CURR</th>\n",
       "      <td>0</td>\n",
       "      <td>0.000000</td>\n",
       "    </tr>\n",
       "    <tr>\n",
       "      <th>SK_ID_BUREAU</th>\n",
       "      <td>0</td>\n",
       "      <td>0.000000</td>\n",
       "    </tr>\n",
       "    <tr>\n",
       "      <th>CREDIT_ACTIVE</th>\n",
       "      <td>0</td>\n",
       "      <td>0.000000</td>\n",
       "    </tr>\n",
       "    <tr>\n",
       "      <th>CREDIT_CURRENCY</th>\n",
       "      <td>0</td>\n",
       "      <td>0.000000</td>\n",
       "    </tr>\n",
       "    <tr>\n",
       "      <th>DAYS_CREDIT</th>\n",
       "      <td>0</td>\n",
       "      <td>0.000000</td>\n",
       "    </tr>\n",
       "    <tr>\n",
       "      <th>CREDIT_DAY_OVERDUE</th>\n",
       "      <td>0</td>\n",
       "      <td>0.000000</td>\n",
       "    </tr>\n",
       "    <tr>\n",
       "      <th>DAYS_ENDDATE_FACT</th>\n",
       "      <td>0</td>\n",
       "      <td>0.000000</td>\n",
       "    </tr>\n",
       "    <tr>\n",
       "      <th>CNT_CREDIT_PROLONG</th>\n",
       "      <td>0</td>\n",
       "      <td>0.000000</td>\n",
       "    </tr>\n",
       "    <tr>\n",
       "      <th>AMT_CREDIT_SUM</th>\n",
       "      <td>0</td>\n",
       "      <td>0.000000</td>\n",
       "    </tr>\n",
       "    <tr>\n",
       "      <th>AMT_CREDIT_SUM_DEBT</th>\n",
       "      <td>0</td>\n",
       "      <td>0.000000</td>\n",
       "    </tr>\n",
       "    <tr>\n",
       "      <th>AMT_CREDIT_SUM_OVERDUE</th>\n",
       "      <td>0</td>\n",
       "      <td>0.000000</td>\n",
       "    </tr>\n",
       "    <tr>\n",
       "      <th>CREDIT_TYPE</th>\n",
       "      <td>0</td>\n",
       "      <td>0.000000</td>\n",
       "    </tr>\n",
       "    <tr>\n",
       "      <th>DAYS_CREDIT_UPDATE</th>\n",
       "      <td>0</td>\n",
       "      <td>0.000000</td>\n",
       "    </tr>\n",
       "  </tbody>\n",
       "</table>\n",
       "</div>"
      ],
      "text/plain": [
       "                          Total    Percent\n",
       "AMT_CREDIT_MAX_OVERDUE  1124488  65.513264\n",
       "AMT_CREDIT_SUM_LIMIT     591780  34.477415\n",
       "DAYS_CREDIT_ENDDATE      105553   6.149573\n",
       "SK_ID_CURR                    0   0.000000\n",
       "SK_ID_BUREAU                  0   0.000000\n",
       "CREDIT_ACTIVE                 0   0.000000\n",
       "CREDIT_CURRENCY               0   0.000000\n",
       "DAYS_CREDIT                   0   0.000000\n",
       "CREDIT_DAY_OVERDUE            0   0.000000\n",
       "DAYS_ENDDATE_FACT             0   0.000000\n",
       "CNT_CREDIT_PROLONG            0   0.000000\n",
       "AMT_CREDIT_SUM                0   0.000000\n",
       "AMT_CREDIT_SUM_DEBT           0   0.000000\n",
       "AMT_CREDIT_SUM_OVERDUE        0   0.000000\n",
       "CREDIT_TYPE                   0   0.000000\n",
       "DAYS_CREDIT_UPDATE            0   0.000000"
      ]
     },
     "execution_count": 535,
     "metadata": {},
     "output_type": "execute_result"
    }
   ],
   "source": [
    "missing_data(data)"
   ]
  },
  {
   "cell_type": "markdown",
   "id": "a144498a",
   "metadata": {},
   "source": [
    "# $\\color{red}{\\text{EDA}}$"
   ]
  },
  {
   "cell_type": "markdown",
   "id": "823f9f82",
   "metadata": {},
   "source": [
    "\n",
    "\n",
    "# $\\color{red}{\\text{Các biến catergories}}$ "
   ]
  },
  {
   "cell_type": "code",
   "execution_count": 536,
   "id": "5038a783",
   "metadata": {},
   "outputs": [
    {
     "data": {
      "image/png": "[encoded data removed]",
      "text/plain": [
       "<Figure size 324x432 with 1 Axes>"
      ]
     },
     "metadata": {
      "needs_background": "light"
     },
     "output_type": "display_data"
    }
   ],
   "source": [
    "grp_credit_active = data['CREDIT_ACTIVE'].value_counts().reset_index()\n",
    "grp_credit_active.columns = ['status', 'amt']\n",
    "# grp_credit_active\n",
    "\n",
    "fig, ax = plt.subplots(figsize =(4.5,6))\n",
    "ax.barh(grp_credit_active.status, grp_credit_active.amt,height=0.8)\n",
    "\n",
    "lst = ['left', 'right', 'bottom', 'top'] # bỏ các khung xung quanh \n",
    "for i in lst:\n",
    "    ax.spines[i].set_visible(False)\n",
    "    \n",
    "ax.xaxis.tick_top()\n",
    "ax.tick_params(left= False, top= False)\n",
    "ax.invert_yaxis()"
   ]
  },
  {
   "cell_type": "markdown",
   "id": "1ef8ff15",
   "metadata": {},
   "source": [
    "### Trạng thái của các khoản tín dụng Bureau là 62.9% là Closed, 36.7% là Active, 0.4% là đã được bán, <0.1% là nợ xấu "
   ]
  },
  {
   "cell_type": "code",
   "execution_count": 537,
   "id": "56dd5906",
   "metadata": {},
   "outputs": [
    {
     "data": {
      "image/png": "[encoded data removed]",
      "text/plain": [
       "<Figure size 324x432 with 1 Axes>"
      ]
     },
     "metadata": {
      "needs_background": "light"
     },
     "output_type": "display_data"
    }
   ],
   "source": [
    "grp_credit_currency = data['CREDIT_CURRENCY'].value_counts().reset_index()\n",
    "grp_credit_currency.columns = ['type_of_currency', 'amt']\n",
    "# grp_credit_currency\n",
    "\n",
    "fig, ax = plt.subplots(figsize =(4.5,6))\n",
    "ax.barh(grp_credit_currency.type_of_currency, grp_credit_currency.amt,height=0.8)\n",
    "\n",
    "lst = ['left', 'right', 'bottom', 'top'] # bỏ các khung xung quanh \n",
    "for i in lst:\n",
    "    ax.spines[i].set_visible(False)\n",
    "    \n",
    "ax.xaxis.tick_top()\n",
    "ax.tick_params(left= False, top= False)\n",
    "ax.invert_yaxis()"
   ]
  },
  {
   "cell_type": "markdown",
   "id": "9bb0f7df",
   "metadata": {},
   "source": [
    "### Trong 4 loại tiền tệ, từ currency 1 đến currency 4 thì 99.9%  là loại 1 "
   ]
  },
  {
   "cell_type": "code",
   "execution_count": 538,
   "id": "edbc4e5e",
   "metadata": {},
   "outputs": [
    {
     "data": {
      "image/png": "[encoded data removed]",
      "text/plain": [
       "<Figure size 324x432 with 1 Axes>"
      ]
     },
     "metadata": {
      "needs_background": "light"
     },
     "output_type": "display_data"
    }
   ],
   "source": [
    "grp_credit_type = data['CREDIT_TYPE'].value_counts().reset_index()\n",
    "grp_credit_type.columns = ['type_of_credit', 'amt']\n",
    "# grp_credit_type\n",
    "\n",
    "fig, ax = plt.subplots(figsize =(4.5,6))\n",
    "ax.barh(grp_credit_type.type_of_credit, grp_credit_type.amt, height=0.8)\n",
    "\n",
    "lst = ['left', 'right', 'bottom', 'top'] # bỏ các khung xung quanh \n",
    "for i in lst:\n",
    "    ax.spines[i].set_visible(False)\n",
    "    \n",
    "ax.set_xticks([0,400000,800000,1200000,1700000])\n",
    "ax.xaxis.tick_top()\n",
    "ax.tick_params(left= False, top= False)\n",
    "ax.invert_yaxis()"
   ]
  },
  {
   "cell_type": "markdown",
   "id": "ef4e5e94",
   "metadata": {},
   "source": [
    "### Có tổng cộng 15 loại tín dụng, 72.9% là tín dụng tiêu dùng, 23.4% là thẻ tín dụng "
   ]
  },
  {
   "cell_type": "markdown",
   "id": "3d08ca1c",
   "metadata": {},
   "source": [
    "### PROFILE REPORT "
   ]
  },
  {
   "cell_type": "code",
   "execution_count": 539,
   "id": "245b6663",
   "metadata": {},
   "outputs": [],
   "source": [
    "# report = ProfileReport(data[['CREDIT_ACTIVE','CREDIT_CURRENCY','CREDIT_TYPE']], minimal=True)\n",
    "# report.to_notebook_iframe()\n",
    "# report.to_file(\"report.html\", silent=False)"
   ]
  },
  {
   "cell_type": "markdown",
   "id": "1dbde8ff",
   "metadata": {},
   "source": [
    "### MERGE with TARGET columns in application_train.csv to get more insights "
   ]
  },
  {
   "cell_type": "code",
   "execution_count": 540,
   "id": "6abdf926",
   "metadata": {},
   "outputs": [
    {
     "data": {
      "text/html": [
       "<div>\n",
       "<style scoped>\n",
       "    .dataframe tbody tr th:only-of-type {\n",
       "        vertical-align: middle;\n",
       "    }\n",
       "\n",
       "    .dataframe tbody tr th {\n",
       "        vertical-align: top;\n",
       "    }\n",
       "\n",
       "    .dataframe thead th {\n",
       "        text-align: right;\n",
       "    }\n",
       "</style>\n",
       "<table border=\"1\" class=\"dataframe\">\n",
       "  <thead>\n",
       "    <tr style=\"text-align: right;\">\n",
       "      <th></th>\n",
       "      <th>SK_ID_CURR</th>\n",
       "      <th>TARGET</th>\n",
       "      <th>NAME_CONTRACT_TYPE</th>\n",
       "      <th>CODE_GENDER</th>\n",
       "      <th>FLAG_OWN_CAR</th>\n",
       "      <th>FLAG_OWN_REALTY</th>\n",
       "      <th>CNT_CHILDREN</th>\n",
       "      <th>AMT_INCOME_TOTAL</th>\n",
       "      <th>AMT_CREDIT</th>\n",
       "      <th>AMT_ANNUITY</th>\n",
       "      <th>...</th>\n",
       "      <th>FLAG_DOCUMENT_18</th>\n",
       "      <th>FLAG_DOCUMENT_19</th>\n",
       "      <th>FLAG_DOCUMENT_20</th>\n",
       "      <th>FLAG_DOCUMENT_21</th>\n",
       "      <th>AMT_REQ_CREDIT_BUREAU_HOUR</th>\n",
       "      <th>AMT_REQ_CREDIT_BUREAU_DAY</th>\n",
       "      <th>AMT_REQ_CREDIT_BUREAU_WEEK</th>\n",
       "      <th>AMT_REQ_CREDIT_BUREAU_MON</th>\n",
       "      <th>AMT_REQ_CREDIT_BUREAU_QRT</th>\n",
       "      <th>AMT_REQ_CREDIT_BUREAU_YEAR</th>\n",
       "    </tr>\n",
       "  </thead>\n",
       "  <tbody>\n",
       "    <tr>\n",
       "      <th>0</th>\n",
       "      <td>100002</td>\n",
       "      <td>1</td>\n",
       "      <td>Cash loans</td>\n",
       "      <td>M</td>\n",
       "      <td>N</td>\n",
       "      <td>Y</td>\n",
       "      <td>0</td>\n",
       "      <td>202500.0</td>\n",
       "      <td>406597.5</td>\n",
       "      <td>24700.5</td>\n",
       "      <td>...</td>\n",
       "      <td>0</td>\n",
       "      <td>0</td>\n",
       "      <td>0</td>\n",
       "      <td>0</td>\n",
       "      <td>0.0</td>\n",
       "      <td>0.0</td>\n",
       "      <td>0.0</td>\n",
       "      <td>0.0</td>\n",
       "      <td>0.0</td>\n",
       "      <td>1.0</td>\n",
       "    </tr>\n",
       "    <tr>\n",
       "      <th>1</th>\n",
       "      <td>100003</td>\n",
       "      <td>0</td>\n",
       "      <td>Cash loans</td>\n",
       "      <td>F</td>\n",
       "      <td>N</td>\n",
       "      <td>N</td>\n",
       "      <td>0</td>\n",
       "      <td>270000.0</td>\n",
       "      <td>1293502.5</td>\n",
       "      <td>35698.5</td>\n",
       "      <td>...</td>\n",
       "      <td>0</td>\n",
       "      <td>0</td>\n",
       "      <td>0</td>\n",
       "      <td>0</td>\n",
       "      <td>0.0</td>\n",
       "      <td>0.0</td>\n",
       "      <td>0.0</td>\n",
       "      <td>0.0</td>\n",
       "      <td>0.0</td>\n",
       "      <td>0.0</td>\n",
       "    </tr>\n",
       "    <tr>\n",
       "      <th>2</th>\n",
       "      <td>100004</td>\n",
       "      <td>0</td>\n",
       "      <td>Revolving loans</td>\n",
       "      <td>M</td>\n",
       "      <td>Y</td>\n",
       "      <td>Y</td>\n",
       "      <td>0</td>\n",
       "      <td>67500.0</td>\n",
       "      <td>135000.0</td>\n",
       "      <td>6750.0</td>\n",
       "      <td>...</td>\n",
       "      <td>0</td>\n",
       "      <td>0</td>\n",
       "      <td>0</td>\n",
       "      <td>0</td>\n",
       "      <td>0.0</td>\n",
       "      <td>0.0</td>\n",
       "      <td>0.0</td>\n",
       "      <td>0.0</td>\n",
       "      <td>0.0</td>\n",
       "      <td>0.0</td>\n",
       "    </tr>\n",
       "    <tr>\n",
       "      <th>3</th>\n",
       "      <td>100006</td>\n",
       "      <td>0</td>\n",
       "      <td>Cash loans</td>\n",
       "      <td>F</td>\n",
       "      <td>N</td>\n",
       "      <td>Y</td>\n",
       "      <td>0</td>\n",
       "      <td>135000.0</td>\n",
       "      <td>312682.5</td>\n",
       "      <td>29686.5</td>\n",
       "      <td>...</td>\n",
       "      <td>0</td>\n",
       "      <td>0</td>\n",
       "      <td>0</td>\n",
       "      <td>0</td>\n",
       "      <td>NaN</td>\n",
       "      <td>NaN</td>\n",
       "      <td>NaN</td>\n",
       "      <td>NaN</td>\n",
       "      <td>NaN</td>\n",
       "      <td>NaN</td>\n",
       "    </tr>\n",
       "    <tr>\n",
       "      <th>4</th>\n",
       "      <td>100007</td>\n",
       "      <td>0</td>\n",
       "      <td>Cash loans</td>\n",
       "      <td>M</td>\n",
       "      <td>N</td>\n",
       "      <td>Y</td>\n",
       "      <td>0</td>\n",
       "      <td>121500.0</td>\n",
       "      <td>513000.0</td>\n",
       "      <td>21865.5</td>\n",
       "      <td>...</td>\n",
       "      <td>0</td>\n",
       "      <td>0</td>\n",
       "      <td>0</td>\n",
       "      <td>0</td>\n",
       "      <td>0.0</td>\n",
       "      <td>0.0</td>\n",
       "      <td>0.0</td>\n",
       "      <td>0.0</td>\n",
       "      <td>0.0</td>\n",
       "      <td>0.0</td>\n",
       "    </tr>\n",
       "  </tbody>\n",
       "</table>\n",
       "<p>5 rows × 122 columns</p>\n",
       "</div>"
      ],
      "text/plain": [
       "   SK_ID_CURR  TARGET NAME_CONTRACT_TYPE CODE_GENDER FLAG_OWN_CAR  \\\n",
       "0      100002       1         Cash loans           M            N   \n",
       "1      100003       0         Cash loans           F            N   \n",
       "2      100004       0    Revolving loans           M            Y   \n",
       "3      100006       0         Cash loans           F            N   \n",
       "4      100007       0         Cash loans           M            N   \n",
       "\n",
       "  FLAG_OWN_REALTY  CNT_CHILDREN  AMT_INCOME_TOTAL  AMT_CREDIT  AMT_ANNUITY  \\\n",
       "0               Y             0          202500.0    406597.5      24700.5   \n",
       "1               N             0          270000.0   1293502.5      35698.5   \n",
       "2               Y             0           67500.0    135000.0       6750.0   \n",
       "3               Y             0          135000.0    312682.5      29686.5   \n",
       "4               Y             0          121500.0    513000.0      21865.5   \n",
       "\n",
       "   ...  FLAG_DOCUMENT_18 FLAG_DOCUMENT_19 FLAG_DOCUMENT_20 FLAG_DOCUMENT_21  \\\n",
       "0  ...                 0                0                0                0   \n",
       "1  ...                 0                0                0                0   \n",
       "2  ...                 0                0                0                0   \n",
       "3  ...                 0                0                0                0   \n",
       "4  ...                 0                0                0                0   \n",
       "\n",
       "  AMT_REQ_CREDIT_BUREAU_HOUR AMT_REQ_CREDIT_BUREAU_DAY  \\\n",
       "0                        0.0                       0.0   \n",
       "1                        0.0                       0.0   \n",
       "2                        0.0                       0.0   \n",
       "3                        NaN                       NaN   \n",
       "4                        0.0                       0.0   \n",
       "\n",
       "   AMT_REQ_CREDIT_BUREAU_WEEK  AMT_REQ_CREDIT_BUREAU_MON  \\\n",
       "0                         0.0                        0.0   \n",
       "1                         0.0                        0.0   \n",
       "2                         0.0                        0.0   \n",
       "3                         NaN                        NaN   \n",
       "4                         0.0                        0.0   \n",
       "\n",
       "   AMT_REQ_CREDIT_BUREAU_QRT  AMT_REQ_CREDIT_BUREAU_YEAR  \n",
       "0                        0.0                         1.0  \n",
       "1                        0.0                         0.0  \n",
       "2                        0.0                         0.0  \n",
       "3                        NaN                         NaN  \n",
       "4                        0.0                         0.0  \n",
       "\n",
       "[5 rows x 122 columns]"
      ]
     },
     "execution_count": 540,
     "metadata": {},
     "output_type": "execute_result"
    }
   ],
   "source": [
    "app_train = pd.read_csv(\"application_train.csv\")\n",
    "app_train.head()"
   ]
  },
  {
   "cell_type": "code",
   "execution_count": 541,
   "id": "ab059613",
   "metadata": {},
   "outputs": [
    {
     "data": {
      "text/html": [
       "<div>\n",
       "<style scoped>\n",
       "    .dataframe tbody tr th:only-of-type {\n",
       "        vertical-align: middle;\n",
       "    }\n",
       "\n",
       "    .dataframe tbody tr th {\n",
       "        vertical-align: top;\n",
       "    }\n",
       "\n",
       "    .dataframe thead th {\n",
       "        text-align: right;\n",
       "    }\n",
       "</style>\n",
       "<table border=\"1\" class=\"dataframe\">\n",
       "  <thead>\n",
       "    <tr style=\"text-align: right;\">\n",
       "      <th></th>\n",
       "      <th>SK_ID_CURR</th>\n",
       "      <th>TARGET</th>\n",
       "      <th>SK_ID_BUREAU</th>\n",
       "      <th>CREDIT_ACTIVE</th>\n",
       "      <th>CREDIT_CURRENCY</th>\n",
       "      <th>DAYS_CREDIT</th>\n",
       "      <th>CREDIT_DAY_OVERDUE</th>\n",
       "      <th>DAYS_CREDIT_ENDDATE</th>\n",
       "      <th>DAYS_ENDDATE_FACT</th>\n",
       "      <th>AMT_CREDIT_MAX_OVERDUE</th>\n",
       "      <th>CNT_CREDIT_PROLONG</th>\n",
       "      <th>AMT_CREDIT_SUM</th>\n",
       "      <th>AMT_CREDIT_SUM_DEBT</th>\n",
       "      <th>AMT_CREDIT_SUM_LIMIT</th>\n",
       "      <th>AMT_CREDIT_SUM_OVERDUE</th>\n",
       "      <th>CREDIT_TYPE</th>\n",
       "      <th>DAYS_CREDIT_UPDATE</th>\n",
       "    </tr>\n",
       "  </thead>\n",
       "  <tbody>\n",
       "    <tr>\n",
       "      <th>0</th>\n",
       "      <td>100002</td>\n",
       "      <td>1</td>\n",
       "      <td>6158904.0</td>\n",
       "      <td>Closed</td>\n",
       "      <td>currency 1</td>\n",
       "      <td>-1125.0</td>\n",
       "      <td>0.0</td>\n",
       "      <td>-1038.0</td>\n",
       "      <td>-1038.000000</td>\n",
       "      <td>NaN</td>\n",
       "      <td>0.0</td>\n",
       "      <td>40761.000</td>\n",
       "      <td>0.0</td>\n",
       "      <td>NaN</td>\n",
       "      <td>0.0</td>\n",
       "      <td>Credit card</td>\n",
       "      <td>-1038.0</td>\n",
       "    </tr>\n",
       "    <tr>\n",
       "      <th>1</th>\n",
       "      <td>100002</td>\n",
       "      <td>1</td>\n",
       "      <td>6158905.0</td>\n",
       "      <td>Closed</td>\n",
       "      <td>currency 1</td>\n",
       "      <td>-476.0</td>\n",
       "      <td>0.0</td>\n",
       "      <td>NaN</td>\n",
       "      <td>-48.000000</td>\n",
       "      <td>NaN</td>\n",
       "      <td>0.0</td>\n",
       "      <td>0.000</td>\n",
       "      <td>0.0</td>\n",
       "      <td>NaN</td>\n",
       "      <td>0.0</td>\n",
       "      <td>Credit card</td>\n",
       "      <td>-47.0</td>\n",
       "    </tr>\n",
       "    <tr>\n",
       "      <th>2</th>\n",
       "      <td>100002</td>\n",
       "      <td>1</td>\n",
       "      <td>6158906.0</td>\n",
       "      <td>Closed</td>\n",
       "      <td>currency 1</td>\n",
       "      <td>-1437.0</td>\n",
       "      <td>0.0</td>\n",
       "      <td>-1072.0</td>\n",
       "      <td>-1185.000000</td>\n",
       "      <td>0.000</td>\n",
       "      <td>0.0</td>\n",
       "      <td>135000.000</td>\n",
       "      <td>0.0</td>\n",
       "      <td>0.000</td>\n",
       "      <td>0.0</td>\n",
       "      <td>Consumer credit</td>\n",
       "      <td>-1185.0</td>\n",
       "    </tr>\n",
       "    <tr>\n",
       "      <th>3</th>\n",
       "      <td>100002</td>\n",
       "      <td>1</td>\n",
       "      <td>6158907.0</td>\n",
       "      <td>Closed</td>\n",
       "      <td>currency 1</td>\n",
       "      <td>-1121.0</td>\n",
       "      <td>0.0</td>\n",
       "      <td>-911.0</td>\n",
       "      <td>-911.000000</td>\n",
       "      <td>3321.000</td>\n",
       "      <td>0.0</td>\n",
       "      <td>19071.000</td>\n",
       "      <td>0.0</td>\n",
       "      <td>NaN</td>\n",
       "      <td>0.0</td>\n",
       "      <td>Consumer credit</td>\n",
       "      <td>-906.0</td>\n",
       "    </tr>\n",
       "    <tr>\n",
       "      <th>4</th>\n",
       "      <td>100002</td>\n",
       "      <td>1</td>\n",
       "      <td>6158908.0</td>\n",
       "      <td>Closed</td>\n",
       "      <td>currency 1</td>\n",
       "      <td>-645.0</td>\n",
       "      <td>0.0</td>\n",
       "      <td>85.0</td>\n",
       "      <td>-36.000000</td>\n",
       "      <td>5043.645</td>\n",
       "      <td>0.0</td>\n",
       "      <td>120735.000</td>\n",
       "      <td>0.0</td>\n",
       "      <td>0.000</td>\n",
       "      <td>0.0</td>\n",
       "      <td>Consumer credit</td>\n",
       "      <td>-34.0</td>\n",
       "    </tr>\n",
       "    <tr>\n",
       "      <th>5</th>\n",
       "      <td>100002</td>\n",
       "      <td>1</td>\n",
       "      <td>6158909.0</td>\n",
       "      <td>Active</td>\n",
       "      <td>currency 1</td>\n",
       "      <td>-103.0</td>\n",
       "      <td>0.0</td>\n",
       "      <td>NaN</td>\n",
       "      <td>-1017.437148</td>\n",
       "      <td>40.500</td>\n",
       "      <td>0.0</td>\n",
       "      <td>31988.565</td>\n",
       "      <td>0.0</td>\n",
       "      <td>31988.565</td>\n",
       "      <td>0.0</td>\n",
       "      <td>Credit card</td>\n",
       "      <td>-24.0</td>\n",
       "    </tr>\n",
       "    <tr>\n",
       "      <th>6</th>\n",
       "      <td>100002</td>\n",
       "      <td>1</td>\n",
       "      <td>6158903.0</td>\n",
       "      <td>Active</td>\n",
       "      <td>currency 1</td>\n",
       "      <td>-1042.0</td>\n",
       "      <td>0.0</td>\n",
       "      <td>780.0</td>\n",
       "      <td>-1017.437148</td>\n",
       "      <td>NaN</td>\n",
       "      <td>0.0</td>\n",
       "      <td>450000.000</td>\n",
       "      <td>245781.0</td>\n",
       "      <td>0.000</td>\n",
       "      <td>0.0</td>\n",
       "      <td>Consumer credit</td>\n",
       "      <td>-7.0</td>\n",
       "    </tr>\n",
       "    <tr>\n",
       "      <th>7</th>\n",
       "      <td>100002</td>\n",
       "      <td>1</td>\n",
       "      <td>6113835.0</td>\n",
       "      <td>Closed</td>\n",
       "      <td>currency 1</td>\n",
       "      <td>-1043.0</td>\n",
       "      <td>0.0</td>\n",
       "      <td>62.0</td>\n",
       "      <td>-967.000000</td>\n",
       "      <td>0.000</td>\n",
       "      <td>0.0</td>\n",
       "      <td>67500.000</td>\n",
       "      <td>0.0</td>\n",
       "      <td>NaN</td>\n",
       "      <td>0.0</td>\n",
       "      <td>Credit card</td>\n",
       "      <td>-758.0</td>\n",
       "    </tr>\n",
       "    <tr>\n",
       "      <th>8</th>\n",
       "      <td>100003</td>\n",
       "      <td>0</td>\n",
       "      <td>5885877.0</td>\n",
       "      <td>Closed</td>\n",
       "      <td>currency 1</td>\n",
       "      <td>-2586.0</td>\n",
       "      <td>0.0</td>\n",
       "      <td>-2434.0</td>\n",
       "      <td>-2131.000000</td>\n",
       "      <td>0.000</td>\n",
       "      <td>0.0</td>\n",
       "      <td>22248.000</td>\n",
       "      <td>0.0</td>\n",
       "      <td>0.000</td>\n",
       "      <td>0.0</td>\n",
       "      <td>Consumer credit</td>\n",
       "      <td>-2131.0</td>\n",
       "    </tr>\n",
       "    <tr>\n",
       "      <th>9</th>\n",
       "      <td>100003</td>\n",
       "      <td>0</td>\n",
       "      <td>5885878.0</td>\n",
       "      <td>Closed</td>\n",
       "      <td>currency 1</td>\n",
       "      <td>-1636.0</td>\n",
       "      <td>0.0</td>\n",
       "      <td>-540.0</td>\n",
       "      <td>-540.000000</td>\n",
       "      <td>0.000</td>\n",
       "      <td>0.0</td>\n",
       "      <td>112500.000</td>\n",
       "      <td>0.0</td>\n",
       "      <td>0.000</td>\n",
       "      <td>0.0</td>\n",
       "      <td>Credit card</td>\n",
       "      <td>-540.0</td>\n",
       "    </tr>\n",
       "  </tbody>\n",
       "</table>\n",
       "</div>"
      ],
      "text/plain": [
       "   SK_ID_CURR  TARGET  SK_ID_BUREAU CREDIT_ACTIVE CREDIT_CURRENCY  \\\n",
       "0      100002       1     6158904.0        Closed      currency 1   \n",
       "1      100002       1     6158905.0        Closed      currency 1   \n",
       "2      100002       1     6158906.0        Closed      currency 1   \n",
       "3      100002       1     6158907.0        Closed      currency 1   \n",
       "4      100002       1     6158908.0        Closed      currency 1   \n",
       "5      100002       1     6158909.0        Active      currency 1   \n",
       "6      100002       1     6158903.0        Active      currency 1   \n",
       "7      100002       1     6113835.0        Closed      currency 1   \n",
       "8      100003       0     5885877.0        Closed      currency 1   \n",
       "9      100003       0     5885878.0        Closed      currency 1   \n",
       "\n",
       "   DAYS_CREDIT  CREDIT_DAY_OVERDUE  DAYS_CREDIT_ENDDATE  DAYS_ENDDATE_FACT  \\\n",
       "0      -1125.0                 0.0              -1038.0       -1038.000000   \n",
       "1       -476.0                 0.0                  NaN         -48.000000   \n",
       "2      -1437.0                 0.0              -1072.0       -1185.000000   \n",
       "3      -1121.0                 0.0               -911.0        -911.000000   \n",
       "4       -645.0                 0.0                 85.0         -36.000000   \n",
       "5       -103.0                 0.0                  NaN       -1017.437148   \n",
       "6      -1042.0                 0.0                780.0       -1017.437148   \n",
       "7      -1043.0                 0.0                 62.0        -967.000000   \n",
       "8      -2586.0                 0.0              -2434.0       -2131.000000   \n",
       "9      -1636.0                 0.0               -540.0        -540.000000   \n",
       "\n",
       "   AMT_CREDIT_MAX_OVERDUE  CNT_CREDIT_PROLONG  AMT_CREDIT_SUM  \\\n",
       "0                     NaN                 0.0       40761.000   \n",
       "1                     NaN                 0.0           0.000   \n",
       "2                   0.000                 0.0      135000.000   \n",
       "3                3321.000                 0.0       19071.000   \n",
       "4                5043.645                 0.0      120735.000   \n",
       "5                  40.500                 0.0       31988.565   \n",
       "6                     NaN                 0.0      450000.000   \n",
       "7                   0.000                 0.0       67500.000   \n",
       "8                   0.000                 0.0       22248.000   \n",
       "9                   0.000                 0.0      112500.000   \n",
       "\n",
       "   AMT_CREDIT_SUM_DEBT  AMT_CREDIT_SUM_LIMIT  AMT_CREDIT_SUM_OVERDUE  \\\n",
       "0                  0.0                   NaN                     0.0   \n",
       "1                  0.0                   NaN                     0.0   \n",
       "2                  0.0                 0.000                     0.0   \n",
       "3                  0.0                   NaN                     0.0   \n",
       "4                  0.0                 0.000                     0.0   \n",
       "5                  0.0             31988.565                     0.0   \n",
       "6             245781.0                 0.000                     0.0   \n",
       "7                  0.0                   NaN                     0.0   \n",
       "8                  0.0                 0.000                     0.0   \n",
       "9                  0.0                 0.000                     0.0   \n",
       "\n",
       "       CREDIT_TYPE  DAYS_CREDIT_UPDATE  \n",
       "0      Credit card             -1038.0  \n",
       "1      Credit card               -47.0  \n",
       "2  Consumer credit             -1185.0  \n",
       "3  Consumer credit              -906.0  \n",
       "4  Consumer credit               -34.0  \n",
       "5      Credit card               -24.0  \n",
       "6  Consumer credit                -7.0  \n",
       "7      Credit card              -758.0  \n",
       "8  Consumer credit             -2131.0  \n",
       "9      Credit card              -540.0  "
      ]
     },
     "execution_count": 541,
     "metadata": {},
     "output_type": "execute_result"
    }
   ],
   "source": [
    "data_merged = pd.merge(app_train[[\"SK_ID_CURR\", \"TARGET\"]], data, how='left', on=['SK_ID_CURR'])\n",
    "data_merged.head(10)"
   ]
  },
  {
   "cell_type": "code",
   "execution_count": 542,
   "id": "d0bd6da9",
   "metadata": {},
   "outputs": [
    {
     "data": {
      "text/plain": [
       "(1509345, 17)"
      ]
     },
     "execution_count": 542,
     "metadata": {},
     "output_type": "execute_result"
    }
   ],
   "source": [
    "data_merged.shape"
   ]
  },
  {
   "cell_type": "markdown",
   "id": "056c254a",
   "metadata": {},
   "source": [
    "# $\\color{red}{\\text{Các biến Numerical}}$"
   ]
  },
  {
   "cell_type": "code",
   "execution_count": 543,
   "id": "cd970dcb",
   "metadata": {},
   "outputs": [],
   "source": [
    "def draw_distribution_dist(x, title,c):\n",
    "    fig, ax = plt.subplots(2,1,figsize=(20,10))\n",
    "\n",
    "    sns.distplot(x,ax=ax[0],color=c)\n",
    "    ax[0].set(xlabel=None)\n",
    "    ax[0].set_title('Histogram + KDE')\n",
    "\n",
    "    sns.boxplot(x, ax=ax[1],color=c)\n",
    "    ax[1].set(xlabel=None)\n",
    "    ax[1].set_title('Boxplot')\n",
    "\n",
    "    fig.suptitle(title, fontsize=20)\n",
    "    plt.tight_layout()\n",
    "    plt.show()"
   ]
  },
  {
   "cell_type": "code",
   "execution_count": 544,
   "id": "a3273fc7",
   "metadata": {},
   "outputs": [
    {
     "name": "stderr",
     "output_type": "stream",
     "text": [
      "/opt/anaconda3/lib/python3.8/site-packages/seaborn/distributions.py:2557: FutureWarning: `distplot` is a deprecated function and will be removed in a future version. Please adapt your code to use either `displot` (a figure-level function with similar flexibility) or `histplot` (an axes-level function for histograms).\n",
      "  warnings.warn(msg, FutureWarning)\n",
      "/opt/anaconda3/lib/python3.8/site-packages/seaborn/_decorators.py:36: FutureWarning: Pass the following variable as a keyword arg: x. From version 0.12, the only valid positional argument will be `data`, and passing other arguments without an explicit keyword will result in an error or misinterpretation.\n",
      "  warnings.warn(\n"
     ]
    },
    {
     "data": {
      "image/png": "[encoded data removed]",
      "text/plain": [
       "<Figure size 1440x720 with 2 Axes>"
      ]
     },
     "metadata": {
      "needs_background": "light"
     },
     "output_type": "display_data"
    }
   ],
   "source": [
    "draw_distribution_dist(data[\"DAYS_CREDIT\"],'Distribution of Day credit',\"g\")"
   ]
  },
  {
   "cell_type": "markdown",
   "id": "2b583e12",
   "metadata": {},
   "source": []
  },
  {
   "cell_type": "code",
   "execution_count": 545,
   "id": "943767f0",
   "metadata": {},
   "outputs": [
    {
     "name": "stderr",
     "output_type": "stream",
     "text": [
      "/opt/anaconda3/lib/python3.8/site-packages/seaborn/distributions.py:2557: FutureWarning: `distplot` is a deprecated function and will be removed in a future version. Please adapt your code to use either `displot` (a figure-level function with similar flexibility) or `histplot` (an axes-level function for histograms).\n",
      "  warnings.warn(msg, FutureWarning)\n",
      "/opt/anaconda3/lib/python3.8/site-packages/seaborn/_decorators.py:36: FutureWarning: Pass the following variable as a keyword arg: x. From version 0.12, the only valid positional argument will be `data`, and passing other arguments without an explicit keyword will result in an error or misinterpretation.\n",
      "  warnings.warn(\n"
     ]
    },
    {
     "data": {
      "image/png": "[encoded data removed]",
      "text/plain": [
       "<Figure size 1440x720 with 2 Axes>"
      ]
     },
     "metadata": {
      "needs_background": "light"
     },
     "output_type": "display_data"
    }
   ],
   "source": [
    "draw_distribution_dist(data[\"DAYS_CREDIT_ENDDATE\"],'Distribution of credit enddate',\"g\")"
   ]
  },
  {
   "cell_type": "markdown",
   "id": "604dabd8",
   "metadata": {},
   "source": [
    "# $\\color{red}{\\text{Number of past loans per customer}}$"
   ]
  },
  {
   "cell_type": "code",
   "execution_count": 546,
   "id": "44bf2b1e",
   "metadata": {},
   "outputs": [
    {
     "data": {
      "text/html": [
       "<div>\n",
       "<style scoped>\n",
       "    .dataframe tbody tr th:only-of-type {\n",
       "        vertical-align: middle;\n",
       "    }\n",
       "\n",
       "    .dataframe tbody tr th {\n",
       "        vertical-align: top;\n",
       "    }\n",
       "\n",
       "    .dataframe thead th {\n",
       "        text-align: right;\n",
       "    }\n",
       "</style>\n",
       "<table border=\"1\" class=\"dataframe\">\n",
       "  <thead>\n",
       "    <tr style=\"text-align: right;\">\n",
       "      <th></th>\n",
       "      <th>SK_ID_CURR</th>\n",
       "      <th>target</th>\n",
       "      <th>num_of_past_loans</th>\n",
       "    </tr>\n",
       "  </thead>\n",
       "  <tbody>\n",
       "    <tr>\n",
       "      <th>0</th>\n",
       "      <td>100002</td>\n",
       "      <td>1</td>\n",
       "      <td>8</td>\n",
       "    </tr>\n",
       "    <tr>\n",
       "      <th>1</th>\n",
       "      <td>100003</td>\n",
       "      <td>0</td>\n",
       "      <td>4</td>\n",
       "    </tr>\n",
       "    <tr>\n",
       "      <th>2</th>\n",
       "      <td>100004</td>\n",
       "      <td>0</td>\n",
       "      <td>2</td>\n",
       "    </tr>\n",
       "    <tr>\n",
       "      <th>3</th>\n",
       "      <td>100006</td>\n",
       "      <td>0</td>\n",
       "      <td>0</td>\n",
       "    </tr>\n",
       "    <tr>\n",
       "      <th>4</th>\n",
       "      <td>100007</td>\n",
       "      <td>0</td>\n",
       "      <td>1</td>\n",
       "    </tr>\n",
       "    <tr>\n",
       "      <th>...</th>\n",
       "      <td>...</td>\n",
       "      <td>...</td>\n",
       "      <td>...</td>\n",
       "    </tr>\n",
       "    <tr>\n",
       "      <th>307506</th>\n",
       "      <td>456251</td>\n",
       "      <td>0</td>\n",
       "      <td>0</td>\n",
       "    </tr>\n",
       "    <tr>\n",
       "      <th>307507</th>\n",
       "      <td>456252</td>\n",
       "      <td>0</td>\n",
       "      <td>0</td>\n",
       "    </tr>\n",
       "    <tr>\n",
       "      <th>307508</th>\n",
       "      <td>456253</td>\n",
       "      <td>0</td>\n",
       "      <td>4</td>\n",
       "    </tr>\n",
       "    <tr>\n",
       "      <th>307509</th>\n",
       "      <td>456254</td>\n",
       "      <td>1</td>\n",
       "      <td>1</td>\n",
       "    </tr>\n",
       "    <tr>\n",
       "      <th>307510</th>\n",
       "      <td>456255</td>\n",
       "      <td>0</td>\n",
       "      <td>11</td>\n",
       "    </tr>\n",
       "  </tbody>\n",
       "</table>\n",
       "<p>307511 rows × 3 columns</p>\n",
       "</div>"
      ],
      "text/plain": [
       "        SK_ID_CURR  target  num_of_past_loans\n",
       "0           100002       1                  8\n",
       "1           100003       0                  4\n",
       "2           100004       0                  2\n",
       "3           100006       0                  0\n",
       "4           100007       0                  1\n",
       "...            ...     ...                ...\n",
       "307506      456251       0                  0\n",
       "307507      456252       0                  0\n",
       "307508      456253       0                  4\n",
       "307509      456254       1                  1\n",
       "307510      456255       0                 11\n",
       "\n",
       "[307511 rows x 3 columns]"
      ]
     },
     "execution_count": 546,
     "metadata": {},
     "output_type": "execute_result"
    }
   ],
   "source": [
    "grp_test = data_merged[['SK_ID_CURR', 'DAYS_CREDIT', 'TARGET']].groupby(['SK_ID_CURR', 'TARGET'])['DAYS_CREDIT'].count().reset_index()\n",
    "grp_test.columns = ['SK_ID_CURR','target','num_of_past_loans']\n",
    "grp_test"
   ]
  },
  {
   "cell_type": "code",
   "execution_count": 547,
   "id": "896bba01",
   "metadata": {},
   "outputs": [
    {
     "data": {
      "text/plain": [
       "[Text(0.5, 1.0, 'defaulter')]"
      ]
     },
     "execution_count": 547,
     "metadata": {},
     "output_type": "execute_result"
    },
    {
     "data": {
      "image/png": "[encoded data removed]",
      "text/plain": [
       "<Figure size 864x432 with 2 Axes>"
      ]
     },
     "metadata": {
      "needs_background": "light"
     },
     "output_type": "display_data"
    }
   ],
   "source": [
    "fig, ax = plt.subplots(1,2, figsize= (12,6))\n",
    "sns.histplot(grp_test[grp_test[\"target\"] == 0][\"num_of_past_loans\"], ax= ax[0], bins=10).set(title = \"Non-defaulter\")\n",
    "sns.histplot(grp_test[grp_test[\"target\"] == 1][\"num_of_past_loans\"], ax= ax[1], bins=10).set(title = \"defaulter\")"
   ]
  },
  {
   "cell_type": "markdown",
   "id": "0a708923",
   "metadata": {},
   "source": [
    "### Những người gặp khó khăn trong việc trả nợ là do có số lượng các khoản tín dụng nhiều "
   ]
  },
  {
   "cell_type": "code",
   "execution_count": 548,
   "id": "adf79200",
   "metadata": {},
   "outputs": [],
   "source": [
    "# grp = data[['SK_ID_CURR', 'DAYS_CREDIT']].groupby('SK_ID_CURR')['DAYS_CREDIT'].count().reset_index()\n",
    "# grp.columns = ['SK_ID_CURR','num_of_past_loans']\n",
    "# grp"
   ]
  },
  {
   "cell_type": "code",
   "execution_count": 549,
   "id": "420522ca",
   "metadata": {},
   "outputs": [],
   "source": [
    "# plt.figure(figsize=(8,6))\n",
    "# sns.distplot(grp.num_of_past_loans)\n",
    "# plt.show()"
   ]
  },
  {
   "cell_type": "markdown",
   "id": "8afd5350",
   "metadata": {},
   "source": [
    "\n",
    "\n",
    "# $\\color{red}{\\text{Number of types of past loans per customer}}$"
   ]
  },
  {
   "cell_type": "code",
   "execution_count": 550,
   "id": "0a6446cf",
   "metadata": {},
   "outputs": [
    {
     "data": {
      "text/html": [
       "<div>\n",
       "<style scoped>\n",
       "    .dataframe tbody tr th:only-of-type {\n",
       "        vertical-align: middle;\n",
       "    }\n",
       "\n",
       "    .dataframe tbody tr th {\n",
       "        vertical-align: top;\n",
       "    }\n",
       "\n",
       "    .dataframe thead th {\n",
       "        text-align: right;\n",
       "    }\n",
       "</style>\n",
       "<table border=\"1\" class=\"dataframe\">\n",
       "  <thead>\n",
       "    <tr style=\"text-align: right;\">\n",
       "      <th></th>\n",
       "      <th>SK_ID_CURR</th>\n",
       "      <th>target</th>\n",
       "      <th>num_of_credit_type</th>\n",
       "    </tr>\n",
       "  </thead>\n",
       "  <tbody>\n",
       "    <tr>\n",
       "      <th>0</th>\n",
       "      <td>100002</td>\n",
       "      <td>1</td>\n",
       "      <td>2</td>\n",
       "    </tr>\n",
       "    <tr>\n",
       "      <th>1</th>\n",
       "      <td>100003</td>\n",
       "      <td>0</td>\n",
       "      <td>2</td>\n",
       "    </tr>\n",
       "    <tr>\n",
       "      <th>2</th>\n",
       "      <td>100004</td>\n",
       "      <td>0</td>\n",
       "      <td>1</td>\n",
       "    </tr>\n",
       "    <tr>\n",
       "      <th>3</th>\n",
       "      <td>100006</td>\n",
       "      <td>0</td>\n",
       "      <td>0</td>\n",
       "    </tr>\n",
       "    <tr>\n",
       "      <th>4</th>\n",
       "      <td>100007</td>\n",
       "      <td>0</td>\n",
       "      <td>1</td>\n",
       "    </tr>\n",
       "    <tr>\n",
       "      <th>...</th>\n",
       "      <td>...</td>\n",
       "      <td>...</td>\n",
       "      <td>...</td>\n",
       "    </tr>\n",
       "    <tr>\n",
       "      <th>307506</th>\n",
       "      <td>456251</td>\n",
       "      <td>0</td>\n",
       "      <td>0</td>\n",
       "    </tr>\n",
       "    <tr>\n",
       "      <th>307507</th>\n",
       "      <td>456252</td>\n",
       "      <td>0</td>\n",
       "      <td>0</td>\n",
       "    </tr>\n",
       "    <tr>\n",
       "      <th>307508</th>\n",
       "      <td>456253</td>\n",
       "      <td>0</td>\n",
       "      <td>2</td>\n",
       "    </tr>\n",
       "    <tr>\n",
       "      <th>307509</th>\n",
       "      <td>456254</td>\n",
       "      <td>1</td>\n",
       "      <td>1</td>\n",
       "    </tr>\n",
       "    <tr>\n",
       "      <th>307510</th>\n",
       "      <td>456255</td>\n",
       "      <td>0</td>\n",
       "      <td>2</td>\n",
       "    </tr>\n",
       "  </tbody>\n",
       "</table>\n",
       "<p>307511 rows × 3 columns</p>\n",
       "</div>"
      ],
      "text/plain": [
       "        SK_ID_CURR  target  num_of_credit_type\n",
       "0           100002       1                   2\n",
       "1           100003       0                   2\n",
       "2           100004       0                   1\n",
       "3           100006       0                   0\n",
       "4           100007       0                   1\n",
       "...            ...     ...                 ...\n",
       "307506      456251       0                   0\n",
       "307507      456252       0                   0\n",
       "307508      456253       0                   2\n",
       "307509      456254       1                   1\n",
       "307510      456255       0                   2\n",
       "\n",
       "[307511 rows x 3 columns]"
      ]
     },
     "execution_count": 550,
     "metadata": {},
     "output_type": "execute_result"
    }
   ],
   "source": [
    "grp_num_of_type = data_merged[['SK_ID_CURR','CREDIT_TYPE','TARGET']].groupby(['SK_ID_CURR','TARGET']).nunique().reset_index()\n",
    "grp_num_of_type.columns = ['SK_ID_CURR','target','num_of_credit_type']\n",
    "grp_num_of_type"
   ]
  },
  {
   "cell_type": "markdown",
   "id": "37e72666",
   "metadata": {},
   "source": [
    "### VÍ DỤ:  Trong 8 cái past loan của 100002 thì sẽ có 2 loại \n",
    "\n"
   ]
  },
  {
   "cell_type": "code",
   "execution_count": 551,
   "id": "cf78ea53",
   "metadata": {},
   "outputs": [
    {
     "data": {
      "text/plain": [
       "[Text(0.5, 1.0, 'defaulter')]"
      ]
     },
     "execution_count": 551,
     "metadata": {},
     "output_type": "execute_result"
    },
    {
     "data": {
      "image/png": "[encoded data removed]",
      "text/plain": [
       "<Figure size 864x432 with 2 Axes>"
      ]
     },
     "metadata": {
      "needs_background": "light"
     },
     "output_type": "display_data"
    }
   ],
   "source": [
    "fig, ax = plt.subplots(1,2, figsize= (12,6))\n",
    "sns.histplot(grp_num_of_type[grp_num_of_type[\"target\"] == 0][\"num_of_credit_type\"], ax= ax[0], bins=10).set(title = \"Non-defaulter\")\n",
    "sns.histplot(grp_num_of_type[grp_num_of_type[\"target\"] == 1][\"num_of_credit_type\"], ax= ax[1], bins=10).set(title = \"defaulter\")"
   ]
  },
  {
   "cell_type": "markdown",
   "id": "0a7737bf",
   "metadata": {},
   "source": [
    "### Phân bố khá giống nhau, có vẻ yếu tố number of credit type không ảnh hưởng đến việc khách hàng có gặp khó khăn trong việc trả nợ hay không "
   ]
  },
  {
   "cell_type": "code",
   "execution_count": 552,
   "id": "9d354d81",
   "metadata": {},
   "outputs": [
    {
     "name": "stderr",
     "output_type": "stream",
     "text": [
      "/opt/anaconda3/lib/python3.8/site-packages/seaborn/distributions.py:2557: FutureWarning: `distplot` is a deprecated function and will be removed in a future version. Please adapt your code to use either `displot` (a figure-level function with similar flexibility) or `histplot` (an axes-level function for histograms).\n",
      "  warnings.warn(msg, FutureWarning)\n"
     ]
    },
    {
     "data": {
      "image/png": "[encoded data removed]",
      "text/plain": [
       "<Figure size 576x432 with 1 Axes>"
      ]
     },
     "metadata": {
      "needs_background": "light"
     },
     "output_type": "display_data"
    }
   ],
   "source": [
    "plt.figure(figsize=(8,6))\n",
    "sns.distplot(grp_num_of_type.num_of_credit_type)\n",
    "plt.show()"
   ]
  },
  {
   "cell_type": "markdown",
   "id": "28eb718a",
   "metadata": {},
   "source": [
    "### Nhìn chung phần lớn khách hàng sẽ có 2 loại loans trc khi apply for credit bureau credit "
   ]
  },
  {
   "cell_type": "markdown",
   "id": "4e811068",
   "metadata": {},
   "source": [
    "# $\\color{red}{\\text{The percentage of active loans per customer }}$"
   ]
  },
  {
   "cell_type": "code",
   "execution_count": 553,
   "id": "3e71f42f",
   "metadata": {},
   "outputs": [
    {
     "data": {
      "text/html": [
       "<div>\n",
       "<style scoped>\n",
       "    .dataframe tbody tr th:only-of-type {\n",
       "        vertical-align: middle;\n",
       "    }\n",
       "\n",
       "    .dataframe tbody tr th {\n",
       "        vertical-align: top;\n",
       "    }\n",
       "\n",
       "    .dataframe thead th {\n",
       "        text-align: right;\n",
       "    }\n",
       "</style>\n",
       "<table border=\"1\" class=\"dataframe\">\n",
       "  <thead>\n",
       "    <tr style=\"text-align: right;\">\n",
       "      <th></th>\n",
       "      <th>SK_ID_CURR</th>\n",
       "      <th>TARGET</th>\n",
       "      <th>ACTIVE_LOANS_PERCENTAGE</th>\n",
       "    </tr>\n",
       "  </thead>\n",
       "  <tbody>\n",
       "    <tr>\n",
       "      <th>0</th>\n",
       "      <td>100002</td>\n",
       "      <td>1</td>\n",
       "      <td>0.250000</td>\n",
       "    </tr>\n",
       "    <tr>\n",
       "      <th>1</th>\n",
       "      <td>100003</td>\n",
       "      <td>0</td>\n",
       "      <td>0.250000</td>\n",
       "    </tr>\n",
       "    <tr>\n",
       "      <th>2</th>\n",
       "      <td>100004</td>\n",
       "      <td>0</td>\n",
       "      <td>0.000000</td>\n",
       "    </tr>\n",
       "    <tr>\n",
       "      <th>3</th>\n",
       "      <td>100006</td>\n",
       "      <td>0</td>\n",
       "      <td>1.000000</td>\n",
       "    </tr>\n",
       "    <tr>\n",
       "      <th>4</th>\n",
       "      <td>100007</td>\n",
       "      <td>0</td>\n",
       "      <td>0.000000</td>\n",
       "    </tr>\n",
       "    <tr>\n",
       "      <th>...</th>\n",
       "      <td>...</td>\n",
       "      <td>...</td>\n",
       "      <td>...</td>\n",
       "    </tr>\n",
       "    <tr>\n",
       "      <th>307506</th>\n",
       "      <td>456251</td>\n",
       "      <td>0</td>\n",
       "      <td>1.000000</td>\n",
       "    </tr>\n",
       "    <tr>\n",
       "      <th>307507</th>\n",
       "      <td>456252</td>\n",
       "      <td>0</td>\n",
       "      <td>1.000000</td>\n",
       "    </tr>\n",
       "    <tr>\n",
       "      <th>307508</th>\n",
       "      <td>456253</td>\n",
       "      <td>0</td>\n",
       "      <td>0.500000</td>\n",
       "    </tr>\n",
       "    <tr>\n",
       "      <th>307509</th>\n",
       "      <td>456254</td>\n",
       "      <td>1</td>\n",
       "      <td>0.000000</td>\n",
       "    </tr>\n",
       "    <tr>\n",
       "      <th>307510</th>\n",
       "      <td>456255</td>\n",
       "      <td>0</td>\n",
       "      <td>0.454545</td>\n",
       "    </tr>\n",
       "  </tbody>\n",
       "</table>\n",
       "<p>307511 rows × 3 columns</p>\n",
       "</div>"
      ],
      "text/plain": [
       "        SK_ID_CURR  TARGET  ACTIVE_LOANS_PERCENTAGE\n",
       "0           100002       1                 0.250000\n",
       "1           100003       0                 0.250000\n",
       "2           100004       0                 0.000000\n",
       "3           100006       0                 1.000000\n",
       "4           100007       0                 0.000000\n",
       "...            ...     ...                      ...\n",
       "307506      456251       0                 1.000000\n",
       "307507      456252       0                 1.000000\n",
       "307508      456253       0                 0.500000\n",
       "307509      456254       1                 0.000000\n",
       "307510      456255       0                 0.454545\n",
       "\n",
       "[307511 rows x 3 columns]"
      ]
     },
     "execution_count": 553,
     "metadata": {},
     "output_type": "execute_result"
    }
   ],
   "source": [
    "data_merged['CREDIT_ACTIVE_BINARY'] = data_merged['CREDIT_ACTIVE']\n",
    "\n",
    "def check(status):\n",
    "    if status == 'Closed':\n",
    "        result = 0\n",
    "    else:\n",
    "        result = 1 \n",
    "    return result\n",
    "\n",
    "data_merged['CREDIT_ACTIVE_BINARY'] = data_merged.apply(lambda x: check(x.CREDIT_ACTIVE), axis = 1)\n",
    "\n",
    "grp_atv_loans = data_merged.groupby(by = ['SK_ID_CURR', 'TARGET'])['CREDIT_ACTIVE_BINARY'].mean().reset_index().rename(index=str, columns={'CREDIT_ACTIVE_BINARY': 'ACTIVE_LOANS_PERCENTAGE'})\n",
    "grp_atv_loans"
   ]
  },
  {
   "cell_type": "code",
   "execution_count": 554,
   "id": "c11190ab",
   "metadata": {},
   "outputs": [
    {
     "data": {
      "text/plain": [
       "[Text(0.5, 1.0, 'Defaulter')]"
      ]
     },
     "execution_count": 554,
     "metadata": {},
     "output_type": "execute_result"
    },
    {
     "data": {
      "image/png": "[encoded data removed]",
      "text/plain": [
       "<Figure size 864x432 with 2 Axes>"
      ]
     },
     "metadata": {
      "needs_background": "light"
     },
     "output_type": "display_data"
    }
   ],
   "source": [
    "fig, ax = plt.subplots(1,2, figsize= (12,6))\n",
    "sns.histplot(grp_atv_loans[grp_atv_loans[\"TARGET\"] == 0][\"ACTIVE_LOANS_PERCENTAGE\"], ax= ax[0], bins=10).set(title = \"Non-defaulter\")\n",
    "sns.histplot(grp_atv_loans[grp_atv_loans[\"TARGET\"] == 1][\"ACTIVE_LOANS_PERCENTAGE\"], ax= ax[1], bins=10).set(title = \"Defaulter\")"
   ]
  },
  {
   "cell_type": "markdown",
   "id": "57d2ff0f",
   "metadata": {},
   "source": [
    "### Khác nhau ở mức 20-50%\n"
   ]
  },
  {
   "cell_type": "code",
   "execution_count": 555,
   "id": "be1139ec",
   "metadata": {},
   "outputs": [
    {
     "data": {
      "text/plain": [
       "<Figure size 576x432 with 0 Axes>"
      ]
     },
     "metadata": {},
     "output_type": "display_data"
    },
    {
     "data": {
      "image/png": "[encoded data removed]",
      "text/plain": [
       "<Figure size 360x360 with 1 Axes>"
      ]
     },
     "metadata": {
      "needs_background": "light"
     },
     "output_type": "display_data"
    }
   ],
   "source": [
    "plt.figure(figsize=(8,6))\n",
    "sns.displot(grp_atv_loans.ACTIVE_LOANS_PERCENTAGE)\n",
    "plt.show()"
   ]
  },
  {
   "cell_type": "markdown",
   "id": "da2d5868",
   "metadata": {},
   "source": [
    "### Ví dụ thằng 100002 có 8 cái past loan và trong đó có 2 cái active\n",
    "\n",
    "### => active loan percentage của 100002 sẽ ~ 0.25"
   ]
  },
  {
   "cell_type": "markdown",
   "id": "7f53911f",
   "metadata": {},
   "source": [
    "### Phân bố chủ yếu sẽ là 0%, 0.5%, 1%"
   ]
  },
  {
   "cell_type": "markdown",
   "id": "fd907a98",
   "metadata": {},
   "source": [
    "# $\\color{red}{\\text{The percentage of loans per customer where end date for credit is past}}$\n",
    "\n",
    "INTERPRETING CREDIT_DAYS_ENDDATE\n",
    "\n",
    "NEGATIVE VALUE - Credit date was in the past at time of application( Potential Red Flag !!! )\n",
    "\n",
    "POSITIVE VALUE - Credit date is in the future at time of application ( Potential Good Sign !!!!)\n",
    "\n",
    "NOTE : This is not the same as % of Active loans since Active loans\n",
    "\n",
    "can have Negative and Positive values for DAYS_CREDIT_ENDDATE"
   ]
  },
  {
   "cell_type": "code",
   "execution_count": 556,
   "id": "8c4ba596",
   "metadata": {},
   "outputs": [
    {
     "data": {
      "text/html": [
       "<div>\n",
       "<style scoped>\n",
       "    .dataframe tbody tr th:only-of-type {\n",
       "        vertical-align: middle;\n",
       "    }\n",
       "\n",
       "    .dataframe tbody tr th {\n",
       "        vertical-align: top;\n",
       "    }\n",
       "\n",
       "    .dataframe thead th {\n",
       "        text-align: right;\n",
       "    }\n",
       "</style>\n",
       "<table border=\"1\" class=\"dataframe\">\n",
       "  <thead>\n",
       "    <tr style=\"text-align: right;\">\n",
       "      <th></th>\n",
       "      <th>SK_ID_CURR</th>\n",
       "      <th>TARGET</th>\n",
       "      <th>CREDIT_ENDDATE_PERCENTAGE</th>\n",
       "    </tr>\n",
       "  </thead>\n",
       "  <tbody>\n",
       "    <tr>\n",
       "      <th>0</th>\n",
       "      <td>100002</td>\n",
       "      <td>1</td>\n",
       "      <td>0.625000</td>\n",
       "    </tr>\n",
       "    <tr>\n",
       "      <th>1</th>\n",
       "      <td>100003</td>\n",
       "      <td>0</td>\n",
       "      <td>0.250000</td>\n",
       "    </tr>\n",
       "    <tr>\n",
       "      <th>2</th>\n",
       "      <td>100004</td>\n",
       "      <td>0</td>\n",
       "      <td>0.000000</td>\n",
       "    </tr>\n",
       "    <tr>\n",
       "      <th>3</th>\n",
       "      <td>100006</td>\n",
       "      <td>0</td>\n",
       "      <td>1.000000</td>\n",
       "    </tr>\n",
       "    <tr>\n",
       "      <th>4</th>\n",
       "      <td>100007</td>\n",
       "      <td>0</td>\n",
       "      <td>0.000000</td>\n",
       "    </tr>\n",
       "    <tr>\n",
       "      <th>...</th>\n",
       "      <td>...</td>\n",
       "      <td>...</td>\n",
       "      <td>...</td>\n",
       "    </tr>\n",
       "    <tr>\n",
       "      <th>307506</th>\n",
       "      <td>456251</td>\n",
       "      <td>0</td>\n",
       "      <td>1.000000</td>\n",
       "    </tr>\n",
       "    <tr>\n",
       "      <th>307507</th>\n",
       "      <td>456252</td>\n",
       "      <td>0</td>\n",
       "      <td>1.000000</td>\n",
       "    </tr>\n",
       "    <tr>\n",
       "      <th>307508</th>\n",
       "      <td>456253</td>\n",
       "      <td>0</td>\n",
       "      <td>0.500000</td>\n",
       "    </tr>\n",
       "    <tr>\n",
       "      <th>307509</th>\n",
       "      <td>456254</td>\n",
       "      <td>1</td>\n",
       "      <td>0.000000</td>\n",
       "    </tr>\n",
       "    <tr>\n",
       "      <th>307510</th>\n",
       "      <td>456255</td>\n",
       "      <td>0</td>\n",
       "      <td>0.636364</td>\n",
       "    </tr>\n",
       "  </tbody>\n",
       "</table>\n",
       "<p>307511 rows × 3 columns</p>\n",
       "</div>"
      ],
      "text/plain": [
       "        SK_ID_CURR  TARGET  CREDIT_ENDDATE_PERCENTAGE\n",
       "0           100002       1                   0.625000\n",
       "1           100003       0                   0.250000\n",
       "2           100004       0                   0.000000\n",
       "3           100006       0                   1.000000\n",
       "4           100007       0                   0.000000\n",
       "...            ...     ...                        ...\n",
       "307506      456251       0                   1.000000\n",
       "307507      456252       0                   1.000000\n",
       "307508      456253       0                   0.500000\n",
       "307509      456254       1                   0.000000\n",
       "307510      456255       0                   0.636364\n",
       "\n",
       "[307511 rows x 3 columns]"
      ]
     },
     "execution_count": 556,
     "metadata": {},
     "output_type": "execute_result"
    }
   ],
   "source": [
    "data_merged['CREDIT_ENDDATE_BINARY'] = data_merged['DAYS_CREDIT_ENDDATE']\n",
    "\n",
    "def f(x):\n",
    "    if x<0:\n",
    "        y = 0\n",
    "    else:\n",
    "        y = 1   \n",
    "    return y\n",
    "\n",
    "data_merged['CREDIT_ENDDATE_BINARY'] = data_merged.apply(lambda x: f(x.DAYS_CREDIT_ENDDATE), axis = 1)\n",
    "\n",
    "grp_enddate = data_merged.groupby(by = ['SK_ID_CURR','TARGET'])['CREDIT_ENDDATE_BINARY'].mean().reset_index().rename(index=str, columns={'CREDIT_ENDDATE_BINARY': 'CREDIT_ENDDATE_PERCENTAGE'})\n",
    "grp_enddate"
   ]
  },
  {
   "cell_type": "code",
   "execution_count": 557,
   "id": "268d0b19",
   "metadata": {},
   "outputs": [
    {
     "data": {
      "text/plain": [
       "[Text(0.5, 1.0, 'Defaulter')]"
      ]
     },
     "execution_count": 557,
     "metadata": {},
     "output_type": "execute_result"
    },
    {
     "data": {
      "image/png": "[encoded data removed]",
      "text/plain": [
       "<Figure size 864x432 with 2 Axes>"
      ]
     },
     "metadata": {
      "needs_background": "light"
     },
     "output_type": "display_data"
    }
   ],
   "source": [
    "fig, ax = plt.subplots(1,2, figsize= (12,6))\n",
    "sns.histplot(grp_enddate[grp_enddate[\"TARGET\"] == 0][\"CREDIT_ENDDATE_PERCENTAGE\"], ax= ax[0], bins=10).set(title = \"Non-defaulter\")\n",
    "sns.histplot(grp_enddate[grp_enddate[\"TARGET\"] == 1][\"CREDIT_ENDDATE_PERCENTAGE\"], ax= ax[1], bins=10).set(title = \"Defaulter\")"
   ]
  },
  {
   "cell_type": "markdown",
   "id": "36496a97",
   "metadata": {},
   "source": [
    "### 62.5% các khoản vay của th 100002 kết thúc trong tương lai sau khi có 1 cái application ở Home Credit\n",
    "\n",
    "### => khach hang 100002 có 1 cái potential good sign, vì sau khi có khoản loan ở home credit rồi vẫn trả được cái khoản cũ "
   ]
  },
  {
   "cell_type": "code",
   "execution_count": 559,
   "id": "77b36136",
   "metadata": {},
   "outputs": [
    {
     "data": {
      "text/plain": [
       "<Figure size 576x432 with 0 Axes>"
      ]
     },
     "metadata": {},
     "output_type": "display_data"
    },
    {
     "data": {
      "image/png": "[encoded data removed]",
      "text/plain": [
       "<Figure size 360x360 with 1 Axes>"
      ]
     },
     "metadata": {
      "needs_background": "light"
     },
     "output_type": "display_data"
    }
   ],
   "source": [
    "plt.figure(figsize=(8,6))\n",
    "sns.displot(grp_enddate.CREDIT_ENDDATE_PERCENTAGE)\n",
    "plt.show()"
   ]
  },
  {
   "cell_type": "markdown",
   "id": "4c00336d",
   "metadata": {},
   "source": [
    "### Phân bố chủ yếu sẽ là 0%, 0.5%, 1%"
   ]
  },
  {
   "cell_type": "markdown",
   "id": "64f2f3ab",
   "metadata": {},
   "source": [
    "# $\\color{red}{\\text{The Ratio of Total Debt to Total Credit for each Customer}}$"
   ]
  },
  {
   "cell_type": "code",
   "execution_count": 560,
   "id": "644465ae",
   "metadata": {},
   "outputs": [
    {
     "data": {
      "text/html": [
       "<div>\n",
       "<style scoped>\n",
       "    .dataframe tbody tr th:only-of-type {\n",
       "        vertical-align: middle;\n",
       "    }\n",
       "\n",
       "    .dataframe tbody tr th {\n",
       "        vertical-align: top;\n",
       "    }\n",
       "\n",
       "    .dataframe thead th {\n",
       "        text-align: right;\n",
       "    }\n",
       "</style>\n",
       "<table border=\"1\" class=\"dataframe\">\n",
       "  <thead>\n",
       "    <tr style=\"text-align: right;\">\n",
       "      <th></th>\n",
       "      <th>SK_ID_CURR</th>\n",
       "      <th>TARGET</th>\n",
       "      <th>DEBT_CREDIT_RATIO</th>\n",
       "    </tr>\n",
       "  </thead>\n",
       "  <tbody>\n",
       "    <tr>\n",
       "      <th>0</th>\n",
       "      <td>100002</td>\n",
       "      <td>1</td>\n",
       "      <td>28.412163</td>\n",
       "    </tr>\n",
       "    <tr>\n",
       "      <th>1</th>\n",
       "      <td>100003</td>\n",
       "      <td>0</td>\n",
       "      <td>NaN</td>\n",
       "    </tr>\n",
       "    <tr>\n",
       "      <th>2</th>\n",
       "      <td>100004</td>\n",
       "      <td>0</td>\n",
       "      <td>NaN</td>\n",
       "    </tr>\n",
       "    <tr>\n",
       "      <th>3</th>\n",
       "      <td>100006</td>\n",
       "      <td>0</td>\n",
       "      <td>NaN</td>\n",
       "    </tr>\n",
       "    <tr>\n",
       "      <th>4</th>\n",
       "      <td>100007</td>\n",
       "      <td>0</td>\n",
       "      <td>NaN</td>\n",
       "    </tr>\n",
       "    <tr>\n",
       "      <th>...</th>\n",
       "      <td>...</td>\n",
       "      <td>...</td>\n",
       "      <td>...</td>\n",
       "    </tr>\n",
       "    <tr>\n",
       "      <th>307506</th>\n",
       "      <td>456251</td>\n",
       "      <td>0</td>\n",
       "      <td>NaN</td>\n",
       "    </tr>\n",
       "    <tr>\n",
       "      <th>307507</th>\n",
       "      <td>456252</td>\n",
       "      <td>0</td>\n",
       "      <td>NaN</td>\n",
       "    </tr>\n",
       "    <tr>\n",
       "      <th>307508</th>\n",
       "      <td>456253</td>\n",
       "      <td>0</td>\n",
       "      <td>45.349318</td>\n",
       "    </tr>\n",
       "    <tr>\n",
       "      <th>307509</th>\n",
       "      <td>456254</td>\n",
       "      <td>1</td>\n",
       "      <td>NaN</td>\n",
       "    </tr>\n",
       "    <tr>\n",
       "      <th>307510</th>\n",
       "      <td>456255</td>\n",
       "      <td>0</td>\n",
       "      <td>40.372054</td>\n",
       "    </tr>\n",
       "  </tbody>\n",
       "</table>\n",
       "<p>307511 rows × 3 columns</p>\n",
       "</div>"
      ],
      "text/plain": [
       "        SK_ID_CURR  TARGET  DEBT_CREDIT_RATIO\n",
       "0           100002       1          28.412163\n",
       "1           100003       0                NaN\n",
       "2           100004       0                NaN\n",
       "3           100006       0                NaN\n",
       "4           100007       0                NaN\n",
       "...            ...     ...                ...\n",
       "307506      456251       0                NaN\n",
       "307507      456252       0                NaN\n",
       "307508      456253       0          45.349318\n",
       "307509      456254       1                NaN\n",
       "307510      456255       0          40.372054\n",
       "\n",
       "[307511 rows x 3 columns]"
      ]
     },
     "execution_count": 560,
     "metadata": {},
     "output_type": "execute_result"
    }
   ],
   "source": [
    "data_with_sum_debt_pos_sign = data_merged[data_merged['AMT_CREDIT_SUM_DEBT']>0]\n",
    "\n",
    "#chỉ consider những khoản debt đã đc trả hoàn toàn.\n",
    "grp1 = data_with_sum_debt_pos_sign[['SK_ID_CURR', 'AMT_CREDIT_SUM_DEBT']].groupby(by = ['SK_ID_CURR'])['AMT_CREDIT_SUM_DEBT'].sum().reset_index().rename( index = str, columns = { 'AMT_CREDIT_SUM_DEBT': 'TOTAL_CUSTOMER_DEBT'})\n",
    "grp2 = data_merged[['SK_ID_CURR', 'AMT_CREDIT_SUM']].groupby(by = ['SK_ID_CURR'])['AMT_CREDIT_SUM'].sum().reset_index().rename( index = str, columns = { 'AMT_CREDIT_SUM': 'TOTAL_CUSTOMER_CREDIT'})\n",
    "\n",
    "data_merged = data_merged.merge(grp1, on = ['SK_ID_CURR'], how = 'left')\n",
    "data_merged = data_merged.merge(grp2, on = ['SK_ID_CURR'], how = 'left')\n",
    "del grp1, grp2\n",
    "\n",
    "\n",
    "data_merged['DEBT_CREDIT_RATIO'] = (data_merged['TOTAL_CUSTOMER_DEBT']/data_merged['TOTAL_CUSTOMER_CREDIT'])*100\n",
    "data_merged['DEBT_CREDIT_RATIO'] = data_merged['DEBT_CREDIT_RATIO'].replace([np.inf, -np.inf], np.nan)\n",
    "\n",
    "del data_merged['TOTAL_CUSTOMER_DEBT'], data_merged['TOTAL_CUSTOMER_CREDIT']\n",
    "\n",
    "grp = data_merged.groupby(by = ['SK_ID_CURR','TARGET'])['DEBT_CREDIT_RATIO'].mean().reset_index().rename(index=str)\n",
    "grp"
   ]
  },
  {
   "cell_type": "code",
   "execution_count": 561,
   "id": "9d78de16",
   "metadata": {},
   "outputs": [
    {
     "data": {
      "text/plain": [
       "[Text(0.5, 1.0, 'Defaulter')]"
      ]
     },
     "execution_count": 561,
     "metadata": {},
     "output_type": "execute_result"
    },
    {
     "data": {
      "image/png": "[encoded data removed]",
      "text/plain": [
       "<Figure size 864x432 with 2 Axes>"
      ]
     },
     "metadata": {
      "needs_background": "light"
     },
     "output_type": "display_data"
    }
   ],
   "source": [
    "fig, ax = plt.subplots(1,2, figsize= (12,6))\n",
    "sns.histplot(grp[grp[\"TARGET\"] == 0][\"DEBT_CREDIT_RATIO\"], ax= ax[0], bins=10).set(title = \"Non-defaulter\")\n",
    "sns.histplot(grp[grp[\"TARGET\"] == 1][\"DEBT_CREDIT_RATIO\"], ax= ax[1], bins=10).set(title = \"Defaulter\")"
   ]
  },
  {
   "cell_type": "code",
   "execution_count": 562,
   "id": "56611f94",
   "metadata": {},
   "outputs": [
    {
     "name": "stderr",
     "output_type": "stream",
     "text": [
      "/opt/anaconda3/lib/python3.8/site-packages/seaborn/distributions.py:2557: FutureWarning: `distplot` is a deprecated function and will be removed in a future version. Please adapt your code to use either `displot` (a figure-level function with similar flexibility) or `histplot` (an axes-level function for histograms).\n",
      "  warnings.warn(msg, FutureWarning)\n"
     ]
    },
    {
     "data": {
      "image/png": "[encoded data removed]",
      "text/plain": [
       "<Figure size 576x432 with 1 Axes>"
      ]
     },
     "metadata": {
      "needs_background": "light"
     },
     "output_type": "display_data"
    }
   ],
   "source": [
    "plt.figure(figsize=(8,6))\n",
    "sns.distplot(grp.DEBT_CREDIT_RATIO)\n",
    "plt.show()"
   ]
  },
  {
   "cell_type": "markdown",
   "id": "70e6ef0b",
   "metadata": {},
   "source": [
    "### A High value may be a red flag indicative of potential default"
   ]
  },
  {
   "cell_type": "markdown",
   "id": "48e3f0f9",
   "metadata": {},
   "source": [
    "\n",
    "\n",
    "# $\\color{red}{\\text{AVERAGE NUMBER OF LOANS PROLONGED}}$"
   ]
  },
  {
   "cell_type": "code",
   "execution_count": 563,
   "id": "8c1c921c",
   "metadata": {},
   "outputs": [
    {
     "data": {
      "text/html": [
       "<div>\n",
       "<style scoped>\n",
       "    .dataframe tbody tr th:only-of-type {\n",
       "        vertical-align: middle;\n",
       "    }\n",
       "\n",
       "    .dataframe tbody tr th {\n",
       "        vertical-align: top;\n",
       "    }\n",
       "\n",
       "    .dataframe thead th {\n",
       "        text-align: right;\n",
       "    }\n",
       "</style>\n",
       "<table border=\"1\" class=\"dataframe\">\n",
       "  <thead>\n",
       "    <tr style=\"text-align: right;\">\n",
       "      <th></th>\n",
       "      <th>SK_ID_CURR</th>\n",
       "      <th>AVG_CREDITDAYS_PROLONGED</th>\n",
       "    </tr>\n",
       "  </thead>\n",
       "  <tbody>\n",
       "    <tr>\n",
       "      <th>0</th>\n",
       "      <td>100001</td>\n",
       "      <td>0.000000</td>\n",
       "    </tr>\n",
       "    <tr>\n",
       "      <th>1</th>\n",
       "      <td>100002</td>\n",
       "      <td>0.000000</td>\n",
       "    </tr>\n",
       "    <tr>\n",
       "      <th>2</th>\n",
       "      <td>100003</td>\n",
       "      <td>0.000000</td>\n",
       "    </tr>\n",
       "    <tr>\n",
       "      <th>3</th>\n",
       "      <td>100004</td>\n",
       "      <td>0.000000</td>\n",
       "    </tr>\n",
       "    <tr>\n",
       "      <th>4</th>\n",
       "      <td>100005</td>\n",
       "      <td>0.000000</td>\n",
       "    </tr>\n",
       "    <tr>\n",
       "      <th>...</th>\n",
       "      <td>...</td>\n",
       "      <td>...</td>\n",
       "    </tr>\n",
       "    <tr>\n",
       "      <th>305806</th>\n",
       "      <td>456249</td>\n",
       "      <td>0.000000</td>\n",
       "    </tr>\n",
       "    <tr>\n",
       "      <th>305807</th>\n",
       "      <td>456250</td>\n",
       "      <td>0.000000</td>\n",
       "    </tr>\n",
       "    <tr>\n",
       "      <th>305808</th>\n",
       "      <td>456253</td>\n",
       "      <td>0.000000</td>\n",
       "    </tr>\n",
       "    <tr>\n",
       "      <th>305809</th>\n",
       "      <td>456254</td>\n",
       "      <td>0.000000</td>\n",
       "    </tr>\n",
       "    <tr>\n",
       "      <th>305810</th>\n",
       "      <td>456255</td>\n",
       "      <td>0.090909</td>\n",
       "    </tr>\n",
       "  </tbody>\n",
       "</table>\n",
       "<p>305811 rows × 2 columns</p>\n",
       "</div>"
      ],
      "text/plain": [
       "        SK_ID_CURR  AVG_CREDITDAYS_PROLONGED\n",
       "0           100001                  0.000000\n",
       "1           100002                  0.000000\n",
       "2           100003                  0.000000\n",
       "3           100004                  0.000000\n",
       "4           100005                  0.000000\n",
       "...            ...                       ...\n",
       "305806      456249                  0.000000\n",
       "305807      456250                  0.000000\n",
       "305808      456253                  0.000000\n",
       "305809      456254                  0.000000\n",
       "305810      456255                  0.090909\n",
       "\n",
       "[305811 rows x 2 columns]"
      ]
     },
     "execution_count": 563,
     "metadata": {},
     "output_type": "execute_result"
    }
   ],
   "source": [
    "grp = data[['SK_ID_CURR', 'CNT_CREDIT_PROLONG']].groupby(by = ['SK_ID_CURR'])['CNT_CREDIT_PROLONG'].mean().reset_index().rename( index = str, columns = { 'CNT_CREDIT_PROLONG': 'AVG_CREDITDAYS_PROLONGED'})\n",
    "grp"
   ]
  },
  {
   "cell_type": "code",
   "execution_count": 564,
   "id": "a4197975",
   "metadata": {},
   "outputs": [
    {
     "data": {
      "text/plain": [
       "<Figure size 576x432 with 0 Axes>"
      ]
     },
     "metadata": {},
     "output_type": "display_data"
    },
    {
     "data": {
      "image/png": "[encoded data removed]",
      "text/plain": [
       "<Figure size 360x360 with 1 Axes>"
      ]
     },
     "metadata": {
      "needs_background": "light"
     },
     "output_type": "display_data"
    }
   ],
   "source": [
    "plt.figure(figsize=(8,6))\n",
    "sns.displot(grp.AVG_CREDITDAYS_PROLONGED)\n",
    "plt.show()"
   ]
  },
  {
   "cell_type": "code",
   "execution_count": null,
   "id": "4df635d6",
   "metadata": {},
   "outputs": [],
   "source": []
  }
 ],
 "metadata": {
  "kernelspec": {
   "display_name": "Python 3",
   "language": "python",
   "name": "python3"
  },
  "language_info": {
   "codemirror_mode": {
    "name": "ipython",
    "version": 3
   },
   "file_extension": ".py",
   "mimetype": "text/x-python",
   "name": "python",
   "nbconvert_exporter": "python",
   "pygments_lexer": "ipython3",
   "version": "3.8.8"
  }
 },
 "nbformat": 4,
 "nbformat_minor": 5
}
